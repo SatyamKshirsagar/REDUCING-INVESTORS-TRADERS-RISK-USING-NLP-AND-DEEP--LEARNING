{
  "cells": [
    {
      "cell_type": "markdown",
      "metadata": {
        "id": "bAvIw_b4qa1a"
      },
      "source": [
        "HDFC BANK STOCK PRICE PREDICTION"
      ],
      "id": "bAvIw_b4qa1a"
    },
    {
      "cell_type": "code",
      "execution_count": 2,
      "metadata": {
        "id": "shlOY03oVyZw"
      },
      "outputs": [],
      "source": [],
      "id": "shlOY03oVyZw"
    },
    {
      "cell_type": "code",
      "execution_count": 3,
      "metadata": {
        "colab": {
          "base_uri": "https://localhost:8080/"
        },
        "id": "E8cSfDL7e6Ii",
        "outputId": "e3c0f4d8-2677-4231-c411-e2bdb85e81ea"
      },
      "outputs": [
        {
          "output_type": "stream",
          "name": "stdout",
          "text": [
            "Mounted at /content/drive\n"
          ]
        }
      ],
      "source": [
        "from google.colab import drive\n",
        "drive.mount('/content/drive')"
      ],
      "id": "E8cSfDL7e6Ii"
    },
    {
      "cell_type": "code",
      "source": [
        "# importing required librarys"
      ],
      "metadata": {
        "id": "7OfGhb-92Yv9"
      },
      "id": "7OfGhb-92Yv9",
      "execution_count": 231,
      "outputs": []
    },
    {
      "cell_type": "code",
      "source": [
        "import pandas as pd"
      ],
      "metadata": {
        "id": "xmdrAlsk2RXm"
      },
      "id": "xmdrAlsk2RXm",
      "execution_count": 230,
      "outputs": []
    },
    {
      "cell_type": "code",
      "execution_count": 4,
      "metadata": {
        "id": "e6b10914-88a0-4996-929b-ad2a9929e415"
      },
      "outputs": [],
      "source": [
        "df=pd.read_csv('/content/drive/My Drive/HDFC BANK/IndianFinancialNews.csv')"
      ],
      "id": "e6b10914-88a0-4996-929b-ad2a9929e415"
    },
    {
      "cell_type": "code",
      "execution_count": 5,
      "metadata": {
        "colab": {
          "base_uri": "https://localhost:8080/",
          "height": 250
        },
        "id": "70657ddb-fb35-4943-9393-4b5fb7c6bf67",
        "outputId": "462c8348-02de-4564-f5f2-ddeaf6283d50"
      },
      "outputs": [
        {
          "output_type": "execute_result",
          "data": {
            "text/plain": [
              "   Unnamed: 0                    Date  \\\n",
              "0           0   May 26, 2020, Tuesday   \n",
              "1           1   May 26, 2020, Tuesday   \n",
              "2           2    May 25, 2020, Monday   \n",
              "3           3    May 24, 2020, Sunday   \n",
              "4           4  May 23, 2020, Saturday   \n",
              "\n",
              "                                               Title  \\\n",
              "0  ATMs to become virtual bank branches, accept d...   \n",
              "1  IDFC First Bank seniors to forgo 65% of bonus ...   \n",
              "2  Huge scam in YES Bank for many years, says Enf...   \n",
              "3  Bank of Maharashtra sanctioned Rs 2,789 cr in ...   \n",
              "4  DCB Bank's profit before tax declines 37.6% to...   \n",
              "\n",
              "                                         Description  \n",
              "0  Close to 14.6 per cent (or 35,000) of the 240,...  \n",
              "1  V Vaidyanathan, managing director and chief ex...  \n",
              "2  Rana Kapoor's wife also charged with abetting ...  \n",
              "3  The bank said it was now gearing up to extend ...  \n",
              "4  Net profit for the financial year ended March ...  "
            ],
            "text/html": [
              "\n",
              "  <div id=\"df-8d7bc8e6-c1d8-44c8-8a9f-342ba2774b3c\">\n",
              "    <div class=\"colab-df-container\">\n",
              "      <div>\n",
              "<style scoped>\n",
              "    .dataframe tbody tr th:only-of-type {\n",
              "        vertical-align: middle;\n",
              "    }\n",
              "\n",
              "    .dataframe tbody tr th {\n",
              "        vertical-align: top;\n",
              "    }\n",
              "\n",
              "    .dataframe thead th {\n",
              "        text-align: right;\n",
              "    }\n",
              "</style>\n",
              "<table border=\"1\" class=\"dataframe\">\n",
              "  <thead>\n",
              "    <tr style=\"text-align: right;\">\n",
              "      <th></th>\n",
              "      <th>Unnamed: 0</th>\n",
              "      <th>Date</th>\n",
              "      <th>Title</th>\n",
              "      <th>Description</th>\n",
              "    </tr>\n",
              "  </thead>\n",
              "  <tbody>\n",
              "    <tr>\n",
              "      <th>0</th>\n",
              "      <td>0</td>\n",
              "      <td>May 26, 2020, Tuesday</td>\n",
              "      <td>ATMs to become virtual bank branches, accept d...</td>\n",
              "      <td>Close to 14.6 per cent (or 35,000) of the 240,...</td>\n",
              "    </tr>\n",
              "    <tr>\n",
              "      <th>1</th>\n",
              "      <td>1</td>\n",
              "      <td>May 26, 2020, Tuesday</td>\n",
              "      <td>IDFC First Bank seniors to forgo 65% of bonus ...</td>\n",
              "      <td>V Vaidyanathan, managing director and chief ex...</td>\n",
              "    </tr>\n",
              "    <tr>\n",
              "      <th>2</th>\n",
              "      <td>2</td>\n",
              "      <td>May 25, 2020, Monday</td>\n",
              "      <td>Huge scam in YES Bank for many years, says Enf...</td>\n",
              "      <td>Rana Kapoor's wife also charged with abetting ...</td>\n",
              "    </tr>\n",
              "    <tr>\n",
              "      <th>3</th>\n",
              "      <td>3</td>\n",
              "      <td>May 24, 2020, Sunday</td>\n",
              "      <td>Bank of Maharashtra sanctioned Rs 2,789 cr in ...</td>\n",
              "      <td>The bank said it was now gearing up to extend ...</td>\n",
              "    </tr>\n",
              "    <tr>\n",
              "      <th>4</th>\n",
              "      <td>4</td>\n",
              "      <td>May 23, 2020, Saturday</td>\n",
              "      <td>DCB Bank's profit before tax declines 37.6% to...</td>\n",
              "      <td>Net profit for the financial year ended March ...</td>\n",
              "    </tr>\n",
              "  </tbody>\n",
              "</table>\n",
              "</div>\n",
              "      <button class=\"colab-df-convert\" onclick=\"convertToInteractive('df-8d7bc8e6-c1d8-44c8-8a9f-342ba2774b3c')\"\n",
              "              title=\"Convert this dataframe to an interactive table.\"\n",
              "              style=\"display:none;\">\n",
              "        \n",
              "  <svg xmlns=\"http://www.w3.org/2000/svg\" height=\"24px\"viewBox=\"0 0 24 24\"\n",
              "       width=\"24px\">\n",
              "    <path d=\"M0 0h24v24H0V0z\" fill=\"none\"/>\n",
              "    <path d=\"M18.56 5.44l.94 2.06.94-2.06 2.06-.94-2.06-.94-.94-2.06-.94 2.06-2.06.94zm-11 1L8.5 8.5l.94-2.06 2.06-.94-2.06-.94L8.5 2.5l-.94 2.06-2.06.94zm10 10l.94 2.06.94-2.06 2.06-.94-2.06-.94-.94-2.06-.94 2.06-2.06.94z\"/><path d=\"M17.41 7.96l-1.37-1.37c-.4-.4-.92-.59-1.43-.59-.52 0-1.04.2-1.43.59L10.3 9.45l-7.72 7.72c-.78.78-.78 2.05 0 2.83L4 21.41c.39.39.9.59 1.41.59.51 0 1.02-.2 1.41-.59l7.78-7.78 2.81-2.81c.8-.78.8-2.07 0-2.86zM5.41 20L4 18.59l7.72-7.72 1.47 1.35L5.41 20z\"/>\n",
              "  </svg>\n",
              "      </button>\n",
              "      \n",
              "  <style>\n",
              "    .colab-df-container {\n",
              "      display:flex;\n",
              "      flex-wrap:wrap;\n",
              "      gap: 12px;\n",
              "    }\n",
              "\n",
              "    .colab-df-convert {\n",
              "      background-color: #E8F0FE;\n",
              "      border: none;\n",
              "      border-radius: 50%;\n",
              "      cursor: pointer;\n",
              "      display: none;\n",
              "      fill: #1967D2;\n",
              "      height: 32px;\n",
              "      padding: 0 0 0 0;\n",
              "      width: 32px;\n",
              "    }\n",
              "\n",
              "    .colab-df-convert:hover {\n",
              "      background-color: #E2EBFA;\n",
              "      box-shadow: 0px 1px 2px rgba(60, 64, 67, 0.3), 0px 1px 3px 1px rgba(60, 64, 67, 0.15);\n",
              "      fill: #174EA6;\n",
              "    }\n",
              "\n",
              "    [theme=dark] .colab-df-convert {\n",
              "      background-color: #3B4455;\n",
              "      fill: #D2E3FC;\n",
              "    }\n",
              "\n",
              "    [theme=dark] .colab-df-convert:hover {\n",
              "      background-color: #434B5C;\n",
              "      box-shadow: 0px 1px 3px 1px rgba(0, 0, 0, 0.15);\n",
              "      filter: drop-shadow(0px 1px 2px rgba(0, 0, 0, 0.3));\n",
              "      fill: #FFFFFF;\n",
              "    }\n",
              "  </style>\n",
              "\n",
              "      <script>\n",
              "        const buttonEl =\n",
              "          document.querySelector('#df-8d7bc8e6-c1d8-44c8-8a9f-342ba2774b3c button.colab-df-convert');\n",
              "        buttonEl.style.display =\n",
              "          google.colab.kernel.accessAllowed ? 'block' : 'none';\n",
              "\n",
              "        async function convertToInteractive(key) {\n",
              "          const element = document.querySelector('#df-8d7bc8e6-c1d8-44c8-8a9f-342ba2774b3c');\n",
              "          const dataTable =\n",
              "            await google.colab.kernel.invokeFunction('convertToInteractive',\n",
              "                                                     [key], {});\n",
              "          if (!dataTable) return;\n",
              "\n",
              "          const docLinkHtml = 'Like what you see? Visit the ' +\n",
              "            '<a target=\"_blank\" href=https://colab.research.google.com/notebooks/data_table.ipynb>data table notebook</a>'\n",
              "            + ' to learn more about interactive tables.';\n",
              "          element.innerHTML = '';\n",
              "          dataTable['output_type'] = 'display_data';\n",
              "          await google.colab.output.renderOutput(dataTable, element);\n",
              "          const docLink = document.createElement('div');\n",
              "          docLink.innerHTML = docLinkHtml;\n",
              "          element.appendChild(docLink);\n",
              "        }\n",
              "      </script>\n",
              "    </div>\n",
              "  </div>\n",
              "  "
            ]
          },
          "metadata": {},
          "execution_count": 5
        }
      ],
      "source": [
        "df.head()"
      ],
      "id": "70657ddb-fb35-4943-9393-4b5fb7c6bf67"
    },
    {
      "cell_type": "code",
      "execution_count": 6,
      "metadata": {
        "colab": {
          "base_uri": "https://localhost:8080/"
        },
        "id": "5052327c-3a51-4388-a41e-52c9369d95fa",
        "outputId": "c2ca6f5e-ad01-454a-de1b-cefed33d3dd9"
      },
      "outputs": [
        {
          "output_type": "execute_result",
          "data": {
            "text/plain": [
              "Unnamed: 0       0\n",
              "Date             0\n",
              "Title            0\n",
              "Description    710\n",
              "dtype: int64"
            ]
          },
          "metadata": {},
          "execution_count": 6
        }
      ],
      "source": [
        "df.isnull().sum()"
      ],
      "id": "5052327c-3a51-4388-a41e-52c9369d95fa"
    },
    {
      "cell_type": "code",
      "source": [
        "# cheking for null values and droping description as our taget feature is Title of news"
      ],
      "metadata": {
        "id": "-6SrEINs23fu"
      },
      "id": "-6SrEINs23fu",
      "execution_count": 232,
      "outputs": []
    },
    {
      "cell_type": "code",
      "execution_count": 9,
      "metadata": {
        "id": "c44b8f0a-b3fc-4116-9ddc-3e5e7d6ba397"
      },
      "outputs": [],
      "source": [
        "df=df.drop(['Unnamed: 0','Description'],axis=1)"
      ],
      "id": "c44b8f0a-b3fc-4116-9ddc-3e5e7d6ba397"
    },
    {
      "cell_type": "code",
      "execution_count": 10,
      "metadata": {
        "colab": {
          "base_uri": "https://localhost:8080/"
        },
        "id": "daa3770e-d4bf-4084-a731-e562d87ae55f",
        "outputId": "0d841848-645f-48ed-81f6-1e20c893e1ef"
      },
      "outputs": [
        {
          "output_type": "stream",
          "name": "stdout",
          "text": [
            "<class 'pandas.core.frame.DataFrame'>\n",
            "RangeIndex: 50000 entries, 0 to 49999\n",
            "Data columns (total 2 columns):\n",
            " #   Column  Non-Null Count  Dtype \n",
            "---  ------  --------------  ----- \n",
            " 0   Date    50000 non-null  object\n",
            " 1   Title   50000 non-null  object\n",
            "dtypes: object(2)\n",
            "memory usage: 781.4+ KB\n"
          ]
        }
      ],
      "source": [
        "df.info()"
      ],
      "id": "daa3770e-d4bf-4084-a731-e562d87ae55f"
    },
    {
      "cell_type": "code",
      "execution_count": 11,
      "metadata": {
        "id": "35802da2-f6f8-4ef9-8114-20d347f30862"
      },
      "outputs": [],
      "source": [
        "df=df.dropna()"
      ],
      "id": "35802da2-f6f8-4ef9-8114-20d347f30862"
    },
    {
      "cell_type": "code",
      "execution_count": 12,
      "metadata": {
        "id": "c8715349-c4ed-46be-a7f8-9d574b596fce"
      },
      "outputs": [],
      "source": [
        "import numpy as np"
      ],
      "id": "c8715349-c4ed-46be-a7f8-9d574b596fce"
    },
    {
      "cell_type": "code",
      "source": [
        "# as our primary focus is on HDFC bank stock price but news datset contains news for other banks as well \n",
        "# using below for loop we only left with news related to HDFC banks and other general financial news"
      ],
      "metadata": {
        "id": "JI1hnzss3Ych"
      },
      "id": "JI1hnzss3Ych",
      "execution_count": 233,
      "outputs": []
    },
    {
      "cell_type": "code",
      "execution_count": 13,
      "metadata": {
        "id": "a92bd3c8-894d-4f1b-9b2c-dbad78e3d704"
      },
      "outputs": [],
      "source": [
        "c=[]\n",
        "a=['dcb','maharashtra','idfc','yes','kotakbank','indusindbk','axisbank','sbin','baroda','canara','overseas','punjab']\n",
        "for j in range(0,len(df)):\n",
        "    for i in str(df['Title'].iloc[j]).lower().split():\n",
        "        if i in a:\n",
        "            df.replace({df['Title'].iloc[j]:np.nan},inplace=True)\n",
        "            break"
      ],
      "id": "a92bd3c8-894d-4f1b-9b2c-dbad78e3d704"
    },
    {
      "cell_type": "code",
      "execution_count": 14,
      "metadata": {
        "colab": {
          "base_uri": "https://localhost:8080/"
        },
        "id": "dd0c498e-0cec-4c37-b479-3727dbf67bc2",
        "outputId": "1c33e859-e329-4b03-c6dd-43bc90c41594"
      },
      "outputs": [
        {
          "output_type": "execute_result",
          "data": {
            "text/plain": [
              "Date        0\n",
              "Title    2056\n",
              "dtype: int64"
            ]
          },
          "metadata": {},
          "execution_count": 14
        }
      ],
      "source": [
        "df.isnull().sum()"
      ],
      "id": "dd0c498e-0cec-4c37-b479-3727dbf67bc2"
    },
    {
      "cell_type": "code",
      "execution_count": 15,
      "metadata": {
        "id": "7Jc4MNZDjGHA"
      },
      "outputs": [],
      "source": [
        "df=df.dropna()"
      ],
      "id": "7Jc4MNZDjGHA"
    },
    {
      "cell_type": "code",
      "execution_count": 16,
      "metadata": {
        "colab": {
          "base_uri": "https://localhost:8080/",
          "height": 206
        },
        "id": "d41c35b9-5113-4913-ba3d-2c9a441bb48b",
        "outputId": "e96e5e79-4eef-433a-a178-26d2297b996c"
      },
      "outputs": [
        {
          "output_type": "execute_result",
          "data": {
            "text/plain": [
              "                    Date                                              Title\n",
              "0  May 26, 2020, Tuesday  ATMs to become virtual bank branches, accept d...\n",
              "6   May 22, 2020, Friday  Retail, MSME loans to get cheaper as RBI cuts ...\n",
              "7   May 22, 2020, Friday  RBI forecasts economic contraction, announces ...\n",
              "8   May 22, 2020, Friday  RBI extends loan moratorium till Aug 31, silen...\n",
              "9   May 22, 2020, Friday  Govt seeks to raise Rs 14,000 cr from second t..."
            ],
            "text/html": [
              "\n",
              "  <div id=\"df-6ff2addf-aad3-4a53-a078-80e1f4388596\">\n",
              "    <div class=\"colab-df-container\">\n",
              "      <div>\n",
              "<style scoped>\n",
              "    .dataframe tbody tr th:only-of-type {\n",
              "        vertical-align: middle;\n",
              "    }\n",
              "\n",
              "    .dataframe tbody tr th {\n",
              "        vertical-align: top;\n",
              "    }\n",
              "\n",
              "    .dataframe thead th {\n",
              "        text-align: right;\n",
              "    }\n",
              "</style>\n",
              "<table border=\"1\" class=\"dataframe\">\n",
              "  <thead>\n",
              "    <tr style=\"text-align: right;\">\n",
              "      <th></th>\n",
              "      <th>Date</th>\n",
              "      <th>Title</th>\n",
              "    </tr>\n",
              "  </thead>\n",
              "  <tbody>\n",
              "    <tr>\n",
              "      <th>0</th>\n",
              "      <td>May 26, 2020, Tuesday</td>\n",
              "      <td>ATMs to become virtual bank branches, accept d...</td>\n",
              "    </tr>\n",
              "    <tr>\n",
              "      <th>6</th>\n",
              "      <td>May 22, 2020, Friday</td>\n",
              "      <td>Retail, MSME loans to get cheaper as RBI cuts ...</td>\n",
              "    </tr>\n",
              "    <tr>\n",
              "      <th>7</th>\n",
              "      <td>May 22, 2020, Friday</td>\n",
              "      <td>RBI forecasts economic contraction, announces ...</td>\n",
              "    </tr>\n",
              "    <tr>\n",
              "      <th>8</th>\n",
              "      <td>May 22, 2020, Friday</td>\n",
              "      <td>RBI extends loan moratorium till Aug 31, silen...</td>\n",
              "    </tr>\n",
              "    <tr>\n",
              "      <th>9</th>\n",
              "      <td>May 22, 2020, Friday</td>\n",
              "      <td>Govt seeks to raise Rs 14,000 cr from second t...</td>\n",
              "    </tr>\n",
              "  </tbody>\n",
              "</table>\n",
              "</div>\n",
              "      <button class=\"colab-df-convert\" onclick=\"convertToInteractive('df-6ff2addf-aad3-4a53-a078-80e1f4388596')\"\n",
              "              title=\"Convert this dataframe to an interactive table.\"\n",
              "              style=\"display:none;\">\n",
              "        \n",
              "  <svg xmlns=\"http://www.w3.org/2000/svg\" height=\"24px\"viewBox=\"0 0 24 24\"\n",
              "       width=\"24px\">\n",
              "    <path d=\"M0 0h24v24H0V0z\" fill=\"none\"/>\n",
              "    <path d=\"M18.56 5.44l.94 2.06.94-2.06 2.06-.94-2.06-.94-.94-2.06-.94 2.06-2.06.94zm-11 1L8.5 8.5l.94-2.06 2.06-.94-2.06-.94L8.5 2.5l-.94 2.06-2.06.94zm10 10l.94 2.06.94-2.06 2.06-.94-2.06-.94-.94-2.06-.94 2.06-2.06.94z\"/><path d=\"M17.41 7.96l-1.37-1.37c-.4-.4-.92-.59-1.43-.59-.52 0-1.04.2-1.43.59L10.3 9.45l-7.72 7.72c-.78.78-.78 2.05 0 2.83L4 21.41c.39.39.9.59 1.41.59.51 0 1.02-.2 1.41-.59l7.78-7.78 2.81-2.81c.8-.78.8-2.07 0-2.86zM5.41 20L4 18.59l7.72-7.72 1.47 1.35L5.41 20z\"/>\n",
              "  </svg>\n",
              "      </button>\n",
              "      \n",
              "  <style>\n",
              "    .colab-df-container {\n",
              "      display:flex;\n",
              "      flex-wrap:wrap;\n",
              "      gap: 12px;\n",
              "    }\n",
              "\n",
              "    .colab-df-convert {\n",
              "      background-color: #E8F0FE;\n",
              "      border: none;\n",
              "      border-radius: 50%;\n",
              "      cursor: pointer;\n",
              "      display: none;\n",
              "      fill: #1967D2;\n",
              "      height: 32px;\n",
              "      padding: 0 0 0 0;\n",
              "      width: 32px;\n",
              "    }\n",
              "\n",
              "    .colab-df-convert:hover {\n",
              "      background-color: #E2EBFA;\n",
              "      box-shadow: 0px 1px 2px rgba(60, 64, 67, 0.3), 0px 1px 3px 1px rgba(60, 64, 67, 0.15);\n",
              "      fill: #174EA6;\n",
              "    }\n",
              "\n",
              "    [theme=dark] .colab-df-convert {\n",
              "      background-color: #3B4455;\n",
              "      fill: #D2E3FC;\n",
              "    }\n",
              "\n",
              "    [theme=dark] .colab-df-convert:hover {\n",
              "      background-color: #434B5C;\n",
              "      box-shadow: 0px 1px 3px 1px rgba(0, 0, 0, 0.15);\n",
              "      filter: drop-shadow(0px 1px 2px rgba(0, 0, 0, 0.3));\n",
              "      fill: #FFFFFF;\n",
              "    }\n",
              "  </style>\n",
              "\n",
              "      <script>\n",
              "        const buttonEl =\n",
              "          document.querySelector('#df-6ff2addf-aad3-4a53-a078-80e1f4388596 button.colab-df-convert');\n",
              "        buttonEl.style.display =\n",
              "          google.colab.kernel.accessAllowed ? 'block' : 'none';\n",
              "\n",
              "        async function convertToInteractive(key) {\n",
              "          const element = document.querySelector('#df-6ff2addf-aad3-4a53-a078-80e1f4388596');\n",
              "          const dataTable =\n",
              "            await google.colab.kernel.invokeFunction('convertToInteractive',\n",
              "                                                     [key], {});\n",
              "          if (!dataTable) return;\n",
              "\n",
              "          const docLinkHtml = 'Like what you see? Visit the ' +\n",
              "            '<a target=\"_blank\" href=https://colab.research.google.com/notebooks/data_table.ipynb>data table notebook</a>'\n",
              "            + ' to learn more about interactive tables.';\n",
              "          element.innerHTML = '';\n",
              "          dataTable['output_type'] = 'display_data';\n",
              "          await google.colab.output.renderOutput(dataTable, element);\n",
              "          const docLink = document.createElement('div');\n",
              "          docLink.innerHTML = docLinkHtml;\n",
              "          element.appendChild(docLink);\n",
              "        }\n",
              "      </script>\n",
              "    </div>\n",
              "  </div>\n",
              "  "
            ]
          },
          "metadata": {},
          "execution_count": 16
        }
      ],
      "source": [
        "df.head()"
      ],
      "id": "d41c35b9-5113-4913-ba3d-2c9a441bb48b"
    },
    {
      "cell_type": "code",
      "execution_count": 17,
      "metadata": {
        "id": "1a237270-3f65-454b-9e01-1b09158ddfae"
      },
      "outputs": [],
      "source": [
        "df=df.dropna()"
      ],
      "id": "1a237270-3f65-454b-9e01-1b09158ddfae"
    },
    {
      "cell_type": "code",
      "source": [
        "### initially sentiment-score was generated using NLTK's inbuilt librerys like TextBlob,Vedar but result were not that good \n",
        "# and hence decided to go with RoberTa based transformer for sentiment analysis by hugging face"
      ],
      "metadata": {
        "id": "DBk-UGDL4FO2"
      },
      "id": "DBk-UGDL4FO2",
      "execution_count": null,
      "outputs": []
    },
    {
      "cell_type": "code",
      "source": [
        "### why transformers?"
      ],
      "metadata": {
        "id": "u_HB_jyGZXDw"
      },
      "id": "u_HB_jyGZXDw",
      "execution_count": null,
      "outputs": []
    },
    {
      "cell_type": "code",
      "execution_count": 19,
      "metadata": {
        "id": "ae360ed8-22e8-43f5-abe9-09e35e6c7028"
      },
      "outputs": [],
      "source": [
        "from transformers import pipeline"
      ],
      "id": "ae360ed8-22e8-43f5-abe9-09e35e6c7028"
    },
    {
      "cell_type": "code",
      "execution_count": 20,
      "metadata": {
        "colab": {
          "base_uri": "https://localhost:8080/",
          "height": 200,
          "referenced_widgets": [
            "7c82f7fdbf734fb2bb7d3c4d650f3176",
            "9617c583a15240f08c3fc1e3c290a130",
            "065e529a7b444dc9a6166c0daf203b35",
            "fd50645b45e64e999973bd5aa082322b",
            "26e5a8bcba194b1aa95dce8ec0a711cf",
            "5cbb25d32bcb40cd9b8ab63a72e10a1f",
            "051b415eed4c41868102b778fe98cf1e",
            "261417eb431f4349b4328aa324dd858d",
            "23b31480c9104fd9b7d176c258d7e631",
            "23095576d7ff46b587d983f7932944bb",
            "5ef4a7ded4c64f70b255e6ebd2ec8f81",
            "a1cebb915edc4ea3b885258e87a04373",
            "a73f3c18f7a0464e95d9b901e10d6f95",
            "2423fb90fa954e08afaafbd2ec9c8812",
            "97c287387ffc40ccb27aaf88fda8e453",
            "a68ddcb1f647476c93ac99ce5da6b999",
            "5a3aab10ad474cf8a63af3d66cdc9a4c",
            "1c7f3c81d5424090962df8117dfb8a72",
            "29c647f5d9dc4142b4af5a4324f26300",
            "f0c38baa55044c8cb10d99f3a4b7e04d",
            "3b31fdac86d1466ba0b4ed2a160595e0",
            "b2584d17a6cc4b6ca5ad1c6b8ca40aeb",
            "9f99f7764d414376ad6b06218c274a27",
            "d5e16f8154d84694b7f1c40202f68eb9",
            "0f0ecce9392349da85e87296627a12e6",
            "7d420fc42d3944b58f06cf088afa3f3b",
            "285d935394994ce8b8e37cf0b708a74d",
            "7820863ca46d444599a54a56fc2b431b",
            "4ff5505ed27343b28666afd8226e583c",
            "753ea077b5b7486aaa25a0a6a8174db3",
            "e5a4db2e5c0f4ab5890e989e8971e070",
            "83bff1bce1ad4496b8432d9c642dd123",
            "3fcd21c97cdd4f3293e1267e6ab9df5c",
            "f64358d05e8e439b9571d0f34d357db4",
            "4972b53954d44796afd1616dc969b0f5",
            "0dedb98d971e472ebbac0d625463ca56",
            "6c6b29108e1b4074ba6e4e46b58b464c",
            "c81f3b287fc0460f847e3395dbfc207d",
            "06b47d45cd354517bdd3f28347d792b3",
            "432e6a3ea6d842a79840e3f658e20add",
            "77d378d08c1544df886762f68825764b",
            "d1306b13add14b02a760f2c3e7e0c3e0",
            "cc1703a6a6c540398da077ff3989fd5b",
            "e151a1f81b0b4f47949a3a13635d2f94"
          ]
        },
        "id": "1b05a6bb-613f-4c78-b7f0-156aeeb0ecba",
        "outputId": "37576af6-79f3-4bd9-91a6-4f285e477be6"
      },
      "outputs": [
        {
          "output_type": "stream",
          "name": "stderr",
          "text": [
            "No model was supplied, defaulted to distilbert-base-uncased-finetuned-sst-2-english and revision af0f99b (https://huggingface.co/distilbert-base-uncased-finetuned-sst-2-english).\n",
            "Using a pipeline without specifying a model name and revision in production is not recommended.\n"
          ]
        },
        {
          "output_type": "display_data",
          "data": {
            "text/plain": [
              "Downloading (…)lve/main/config.json:   0%|          | 0.00/629 [00:00<?, ?B/s]"
            ],
            "application/vnd.jupyter.widget-view+json": {
              "version_major": 2,
              "version_minor": 0,
              "model_id": "7c82f7fdbf734fb2bb7d3c4d650f3176"
            }
          },
          "metadata": {}
        },
        {
          "output_type": "display_data",
          "data": {
            "text/plain": [
              "Downloading pytorch_model.bin:   0%|          | 0.00/268M [00:00<?, ?B/s]"
            ],
            "application/vnd.jupyter.widget-view+json": {
              "version_major": 2,
              "version_minor": 0,
              "model_id": "a1cebb915edc4ea3b885258e87a04373"
            }
          },
          "metadata": {}
        },
        {
          "output_type": "display_data",
          "data": {
            "text/plain": [
              "Downloading (…)okenizer_config.json:   0%|          | 0.00/48.0 [00:00<?, ?B/s]"
            ],
            "application/vnd.jupyter.widget-view+json": {
              "version_major": 2,
              "version_minor": 0,
              "model_id": "9f99f7764d414376ad6b06218c274a27"
            }
          },
          "metadata": {}
        },
        {
          "output_type": "display_data",
          "data": {
            "text/plain": [
              "Downloading (…)solve/main/vocab.txt:   0%|          | 0.00/232k [00:00<?, ?B/s]"
            ],
            "application/vnd.jupyter.widget-view+json": {
              "version_major": 2,
              "version_minor": 0,
              "model_id": "f64358d05e8e439b9571d0f34d357db4"
            }
          },
          "metadata": {}
        }
      ],
      "source": [
        "sen=pipeline('sentiment-analysis')"
      ],
      "id": "1b05a6bb-613f-4c78-b7f0-156aeeb0ecba"
    },
    {
      "cell_type": "code",
      "source": [
        "### why transformers "
      ],
      "metadata": {
        "id": "iS5uJAkCK3Zd"
      },
      "id": "iS5uJAkCK3Zd",
      "execution_count": 247,
      "outputs": []
    },
    {
      "cell_type": "code",
      "source": [],
      "metadata": {
        "id": "6tAWzDISK8WW"
      },
      "id": "6tAWzDISK8WW",
      "execution_count": null,
      "outputs": []
    },
    {
      "cell_type": "code",
      "execution_count": 21,
      "metadata": {
        "id": "895c51dd-736c-454d-ad55-cfbeee4d5b98"
      },
      "outputs": [],
      "source": [
        "\n",
        "r=[]\n",
        "for i in range(0,len(df)):\n",
        "    e=sen(df.iloc[i][1])\n",
        "    if (e[0]['label'])=='NEGATIVE':\n",
        "        c=e[0]['score']\n",
        "        r.append(-c)\n",
        "    else:\n",
        "        d=e[0]['score']\n",
        "        r.append(d)\n",
        "    "
      ],
      "id": "895c51dd-736c-454d-ad55-cfbeee4d5b98"
    },
    {
      "cell_type": "code",
      "execution_count": 22,
      "metadata": {
        "colab": {
          "base_uri": "https://localhost:8080/"
        },
        "id": "b8663030-2e4b-40df-9f21-157713734fc4",
        "outputId": "9be2142d-ad7a-4aa1-c0bf-adeb59d233ef"
      },
      "outputs": [
        {
          "output_type": "execute_result",
          "data": {
            "text/plain": [
              "47944"
            ]
          },
          "metadata": {},
          "execution_count": 22
        }
      ],
      "source": [
        "len(r)"
      ],
      "id": "b8663030-2e4b-40df-9f21-157713734fc4"
    },
    {
      "cell_type": "code",
      "execution_count": 23,
      "metadata": {
        "id": "e79052dd-c6cd-4f1a-9f06-f33a7611d42c"
      },
      "outputs": [],
      "source": [
        "df['sentiments']=r"
      ],
      "id": "e79052dd-c6cd-4f1a-9f06-f33a7611d42c"
    },
    {
      "cell_type": "code",
      "execution_count": 234,
      "metadata": {
        "id": "8TCCUIybWCs9"
      },
      "outputs": [],
      "source": [
        "# here we have left with date along its sentiment score for thaat days "
      ],
      "id": "8TCCUIybWCs9"
    },
    {
      "cell_type": "code",
      "execution_count": 35,
      "metadata": {
        "colab": {
          "base_uri": "https://localhost:8080/",
          "height": 363
        },
        "id": "7a3052af-b0c8-4126-b61c-922e886a1307",
        "outputId": "e89895ce-09ea-4881-a54d-c5fafad26f38"
      },
      "outputs": [
        {
          "output_type": "execute_result",
          "data": {
            "text/plain": [
              "                        Date  sentiments\n",
              "0    April 01, 2003, Tuesday   -0.406975\n",
              "1   April 01, 2004, Thursday    0.134486\n",
              "2     April 01, 2005, Friday    0.093540\n",
              "3   April 01, 2006, Saturday   -0.412556\n",
              "4     April 01, 2007, Sunday    0.277827\n",
              "5    April 01, 2008, Tuesday   -0.531415\n",
              "6  April 01, 2009, Wednesday   -0.664772\n",
              "7   April 01, 2010, Thursday   -0.321536\n",
              "8     April 01, 2011, Friday   -0.481890\n",
              "9     April 01, 2012, Sunday   -0.865293"
            ],
            "text/html": [
              "\n",
              "  <div id=\"df-934d9a71-e0e3-4f75-af4f-eb89da5e3858\">\n",
              "    <div class=\"colab-df-container\">\n",
              "      <div>\n",
              "<style scoped>\n",
              "    .dataframe tbody tr th:only-of-type {\n",
              "        vertical-align: middle;\n",
              "    }\n",
              "\n",
              "    .dataframe tbody tr th {\n",
              "        vertical-align: top;\n",
              "    }\n",
              "\n",
              "    .dataframe thead th {\n",
              "        text-align: right;\n",
              "    }\n",
              "</style>\n",
              "<table border=\"1\" class=\"dataframe\">\n",
              "  <thead>\n",
              "    <tr style=\"text-align: right;\">\n",
              "      <th></th>\n",
              "      <th>Date</th>\n",
              "      <th>sentiments</th>\n",
              "    </tr>\n",
              "  </thead>\n",
              "  <tbody>\n",
              "    <tr>\n",
              "      <th>0</th>\n",
              "      <td>April 01, 2003, Tuesday</td>\n",
              "      <td>-0.406975</td>\n",
              "    </tr>\n",
              "    <tr>\n",
              "      <th>1</th>\n",
              "      <td>April 01, 2004, Thursday</td>\n",
              "      <td>0.134486</td>\n",
              "    </tr>\n",
              "    <tr>\n",
              "      <th>2</th>\n",
              "      <td>April 01, 2005, Friday</td>\n",
              "      <td>0.093540</td>\n",
              "    </tr>\n",
              "    <tr>\n",
              "      <th>3</th>\n",
              "      <td>April 01, 2006, Saturday</td>\n",
              "      <td>-0.412556</td>\n",
              "    </tr>\n",
              "    <tr>\n",
              "      <th>4</th>\n",
              "      <td>April 01, 2007, Sunday</td>\n",
              "      <td>0.277827</td>\n",
              "    </tr>\n",
              "    <tr>\n",
              "      <th>5</th>\n",
              "      <td>April 01, 2008, Tuesday</td>\n",
              "      <td>-0.531415</td>\n",
              "    </tr>\n",
              "    <tr>\n",
              "      <th>6</th>\n",
              "      <td>April 01, 2009, Wednesday</td>\n",
              "      <td>-0.664772</td>\n",
              "    </tr>\n",
              "    <tr>\n",
              "      <th>7</th>\n",
              "      <td>April 01, 2010, Thursday</td>\n",
              "      <td>-0.321536</td>\n",
              "    </tr>\n",
              "    <tr>\n",
              "      <th>8</th>\n",
              "      <td>April 01, 2011, Friday</td>\n",
              "      <td>-0.481890</td>\n",
              "    </tr>\n",
              "    <tr>\n",
              "      <th>9</th>\n",
              "      <td>April 01, 2012, Sunday</td>\n",
              "      <td>-0.865293</td>\n",
              "    </tr>\n",
              "  </tbody>\n",
              "</table>\n",
              "</div>\n",
              "      <button class=\"colab-df-convert\" onclick=\"convertToInteractive('df-934d9a71-e0e3-4f75-af4f-eb89da5e3858')\"\n",
              "              title=\"Convert this dataframe to an interactive table.\"\n",
              "              style=\"display:none;\">\n",
              "        \n",
              "  <svg xmlns=\"http://www.w3.org/2000/svg\" height=\"24px\"viewBox=\"0 0 24 24\"\n",
              "       width=\"24px\">\n",
              "    <path d=\"M0 0h24v24H0V0z\" fill=\"none\"/>\n",
              "    <path d=\"M18.56 5.44l.94 2.06.94-2.06 2.06-.94-2.06-.94-.94-2.06-.94 2.06-2.06.94zm-11 1L8.5 8.5l.94-2.06 2.06-.94-2.06-.94L8.5 2.5l-.94 2.06-2.06.94zm10 10l.94 2.06.94-2.06 2.06-.94-2.06-.94-.94-2.06-.94 2.06-2.06.94z\"/><path d=\"M17.41 7.96l-1.37-1.37c-.4-.4-.92-.59-1.43-.59-.52 0-1.04.2-1.43.59L10.3 9.45l-7.72 7.72c-.78.78-.78 2.05 0 2.83L4 21.41c.39.39.9.59 1.41.59.51 0 1.02-.2 1.41-.59l7.78-7.78 2.81-2.81c.8-.78.8-2.07 0-2.86zM5.41 20L4 18.59l7.72-7.72 1.47 1.35L5.41 20z\"/>\n",
              "  </svg>\n",
              "      </button>\n",
              "      \n",
              "  <style>\n",
              "    .colab-df-container {\n",
              "      display:flex;\n",
              "      flex-wrap:wrap;\n",
              "      gap: 12px;\n",
              "    }\n",
              "\n",
              "    .colab-df-convert {\n",
              "      background-color: #E8F0FE;\n",
              "      border: none;\n",
              "      border-radius: 50%;\n",
              "      cursor: pointer;\n",
              "      display: none;\n",
              "      fill: #1967D2;\n",
              "      height: 32px;\n",
              "      padding: 0 0 0 0;\n",
              "      width: 32px;\n",
              "    }\n",
              "\n",
              "    .colab-df-convert:hover {\n",
              "      background-color: #E2EBFA;\n",
              "      box-shadow: 0px 1px 2px rgba(60, 64, 67, 0.3), 0px 1px 3px 1px rgba(60, 64, 67, 0.15);\n",
              "      fill: #174EA6;\n",
              "    }\n",
              "\n",
              "    [theme=dark] .colab-df-convert {\n",
              "      background-color: #3B4455;\n",
              "      fill: #D2E3FC;\n",
              "    }\n",
              "\n",
              "    [theme=dark] .colab-df-convert:hover {\n",
              "      background-color: #434B5C;\n",
              "      box-shadow: 0px 1px 3px 1px rgba(0, 0, 0, 0.15);\n",
              "      filter: drop-shadow(0px 1px 2px rgba(0, 0, 0, 0.3));\n",
              "      fill: #FFFFFF;\n",
              "    }\n",
              "  </style>\n",
              "\n",
              "      <script>\n",
              "        const buttonEl =\n",
              "          document.querySelector('#df-934d9a71-e0e3-4f75-af4f-eb89da5e3858 button.colab-df-convert');\n",
              "        buttonEl.style.display =\n",
              "          google.colab.kernel.accessAllowed ? 'block' : 'none';\n",
              "\n",
              "        async function convertToInteractive(key) {\n",
              "          const element = document.querySelector('#df-934d9a71-e0e3-4f75-af4f-eb89da5e3858');\n",
              "          const dataTable =\n",
              "            await google.colab.kernel.invokeFunction('convertToInteractive',\n",
              "                                                     [key], {});\n",
              "          if (!dataTable) return;\n",
              "\n",
              "          const docLinkHtml = 'Like what you see? Visit the ' +\n",
              "            '<a target=\"_blank\" href=https://colab.research.google.com/notebooks/data_table.ipynb>data table notebook</a>'\n",
              "            + ' to learn more about interactive tables.';\n",
              "          element.innerHTML = '';\n",
              "          dataTable['output_type'] = 'display_data';\n",
              "          await google.colab.output.renderOutput(dataTable, element);\n",
              "          const docLink = document.createElement('div');\n",
              "          docLink.innerHTML = docLinkHtml;\n",
              "          element.appendChild(docLink);\n",
              "        }\n",
              "      </script>\n",
              "    </div>\n",
              "  </div>\n",
              "  "
            ]
          },
          "metadata": {},
          "execution_count": 35
        }
      ],
      "source": [
        "df.head(10)"
      ],
      "id": "7a3052af-b0c8-4126-b61c-922e886a1307"
    },
    {
      "cell_type": "code",
      "source": [
        "# but for single days we have got more than 1 news and hence using group by function mean sentiment score calcualted for \n",
        "# that day"
      ],
      "metadata": {
        "id": "OJysQdGk8Qpz"
      },
      "id": "OJysQdGk8Qpz",
      "execution_count": 235,
      "outputs": []
    },
    {
      "cell_type": "code",
      "execution_count": 25,
      "metadata": {
        "id": "8b148043-41f8-4b90-9426-0e4538cf6241"
      },
      "outputs": [],
      "source": [
        "new_df=df.groupby(['Date'],as_index=False)['sentiments'].mean()"
      ],
      "id": "8b148043-41f8-4b90-9426-0e4538cf6241"
    },
    {
      "cell_type": "code",
      "execution_count": 26,
      "metadata": {
        "colab": {
          "base_uri": "https://localhost:8080/"
        },
        "id": "4642b4e9-a6e9-43f0-b37d-0752aeec3c60",
        "outputId": "c833df04-e96b-4907-ad43-d00efd360ac0"
      },
      "outputs": [
        {
          "output_type": "execute_result",
          "data": {
            "text/plain": [
              "(6037, 2)"
            ]
          },
          "metadata": {},
          "execution_count": 26
        }
      ],
      "source": [
        "new_df.shape"
      ],
      "id": "4642b4e9-a6e9-43f0-b37d-0752aeec3c60"
    },
    {
      "cell_type": "code",
      "execution_count": 27,
      "metadata": {
        "id": "abbc34eb-78c9-40ee-8d71-b7b2d99ff984"
      },
      "outputs": [],
      "source": [
        "df=pd.DataFrame(new_df)"
      ],
      "id": "abbc34eb-78c9-40ee-8d71-b7b2d99ff984"
    },
    {
      "cell_type": "code",
      "execution_count": 28,
      "metadata": {
        "colab": {
          "base_uri": "https://localhost:8080/",
          "height": 206
        },
        "id": "73994329-9920-4fae-ab81-176b751f4d3e",
        "outputId": "ae9820d4-440e-486f-c968-e24f5fbd04ae"
      },
      "outputs": [
        {
          "data": {
            "text/html": [
              "\n",
              "  <div id=\"df-79f3df01-7724-4b08-9e77-6da6a6085d41\">\n",
              "    <div class=\"colab-df-container\">\n",
              "      <div>\n",
              "<style scoped>\n",
              "    .dataframe tbody tr th:only-of-type {\n",
              "        vertical-align: middle;\n",
              "    }\n",
              "\n",
              "    .dataframe tbody tr th {\n",
              "        vertical-align: top;\n",
              "    }\n",
              "\n",
              "    .dataframe thead th {\n",
              "        text-align: right;\n",
              "    }\n",
              "</style>\n",
              "<table border=\"1\" class=\"dataframe\">\n",
              "  <thead>\n",
              "    <tr style=\"text-align: right;\">\n",
              "      <th></th>\n",
              "      <th>Date</th>\n",
              "      <th>sentiments</th>\n",
              "    </tr>\n",
              "  </thead>\n",
              "  <tbody>\n",
              "    <tr>\n",
              "      <th>0</th>\n",
              "      <td>April 01, 2003, Tuesday</td>\n",
              "      <td>-0.406975</td>\n",
              "    </tr>\n",
              "    <tr>\n",
              "      <th>1</th>\n",
              "      <td>April 01, 2004, Thursday</td>\n",
              "      <td>0.134486</td>\n",
              "    </tr>\n",
              "    <tr>\n",
              "      <th>2</th>\n",
              "      <td>April 01, 2005, Friday</td>\n",
              "      <td>0.093540</td>\n",
              "    </tr>\n",
              "    <tr>\n",
              "      <th>3</th>\n",
              "      <td>April 01, 2006, Saturday</td>\n",
              "      <td>-0.412556</td>\n",
              "    </tr>\n",
              "    <tr>\n",
              "      <th>4</th>\n",
              "      <td>April 01, 2007, Sunday</td>\n",
              "      <td>0.277827</td>\n",
              "    </tr>\n",
              "  </tbody>\n",
              "</table>\n",
              "</div>\n",
              "      <button class=\"colab-df-convert\" onclick=\"convertToInteractive('df-79f3df01-7724-4b08-9e77-6da6a6085d41')\"\n",
              "              title=\"Convert this dataframe to an interactive table.\"\n",
              "              style=\"display:none;\">\n",
              "        \n",
              "  <svg xmlns=\"http://www.w3.org/2000/svg\" height=\"24px\"viewBox=\"0 0 24 24\"\n",
              "       width=\"24px\">\n",
              "    <path d=\"M0 0h24v24H0V0z\" fill=\"none\"/>\n",
              "    <path d=\"M18.56 5.44l.94 2.06.94-2.06 2.06-.94-2.06-.94-.94-2.06-.94 2.06-2.06.94zm-11 1L8.5 8.5l.94-2.06 2.06-.94-2.06-.94L8.5 2.5l-.94 2.06-2.06.94zm10 10l.94 2.06.94-2.06 2.06-.94-2.06-.94-.94-2.06-.94 2.06-2.06.94z\"/><path d=\"M17.41 7.96l-1.37-1.37c-.4-.4-.92-.59-1.43-.59-.52 0-1.04.2-1.43.59L10.3 9.45l-7.72 7.72c-.78.78-.78 2.05 0 2.83L4 21.41c.39.39.9.59 1.41.59.51 0 1.02-.2 1.41-.59l7.78-7.78 2.81-2.81c.8-.78.8-2.07 0-2.86zM5.41 20L4 18.59l7.72-7.72 1.47 1.35L5.41 20z\"/>\n",
              "  </svg>\n",
              "      </button>\n",
              "      \n",
              "  <style>\n",
              "    .colab-df-container {\n",
              "      display:flex;\n",
              "      flex-wrap:wrap;\n",
              "      gap: 12px;\n",
              "    }\n",
              "\n",
              "    .colab-df-convert {\n",
              "      background-color: #E8F0FE;\n",
              "      border: none;\n",
              "      border-radius: 50%;\n",
              "      cursor: pointer;\n",
              "      display: none;\n",
              "      fill: #1967D2;\n",
              "      height: 32px;\n",
              "      padding: 0 0 0 0;\n",
              "      width: 32px;\n",
              "    }\n",
              "\n",
              "    .colab-df-convert:hover {\n",
              "      background-color: #E2EBFA;\n",
              "      box-shadow: 0px 1px 2px rgba(60, 64, 67, 0.3), 0px 1px 3px 1px rgba(60, 64, 67, 0.15);\n",
              "      fill: #174EA6;\n",
              "    }\n",
              "\n",
              "    [theme=dark] .colab-df-convert {\n",
              "      background-color: #3B4455;\n",
              "      fill: #D2E3FC;\n",
              "    }\n",
              "\n",
              "    [theme=dark] .colab-df-convert:hover {\n",
              "      background-color: #434B5C;\n",
              "      box-shadow: 0px 1px 3px 1px rgba(0, 0, 0, 0.15);\n",
              "      filter: drop-shadow(0px 1px 2px rgba(0, 0, 0, 0.3));\n",
              "      fill: #FFFFFF;\n",
              "    }\n",
              "  </style>\n",
              "\n",
              "      <script>\n",
              "        const buttonEl =\n",
              "          document.querySelector('#df-79f3df01-7724-4b08-9e77-6da6a6085d41 button.colab-df-convert');\n",
              "        buttonEl.style.display =\n",
              "          google.colab.kernel.accessAllowed ? 'block' : 'none';\n",
              "\n",
              "        async function convertToInteractive(key) {\n",
              "          const element = document.querySelector('#df-79f3df01-7724-4b08-9e77-6da6a6085d41');\n",
              "          const dataTable =\n",
              "            await google.colab.kernel.invokeFunction('convertToInteractive',\n",
              "                                                     [key], {});\n",
              "          if (!dataTable) return;\n",
              "\n",
              "          const docLinkHtml = 'Like what you see? Visit the ' +\n",
              "            '<a target=\"_blank\" href=https://colab.research.google.com/notebooks/data_table.ipynb>data table notebook</a>'\n",
              "            + ' to learn more about interactive tables.';\n",
              "          element.innerHTML = '';\n",
              "          dataTable['output_type'] = 'display_data';\n",
              "          await google.colab.output.renderOutput(dataTable, element);\n",
              "          const docLink = document.createElement('div');\n",
              "          docLink.innerHTML = docLinkHtml;\n",
              "          element.appendChild(docLink);\n",
              "        }\n",
              "      </script>\n",
              "    </div>\n",
              "  </div>\n",
              "  "
            ],
            "text/plain": [
              "                       Date  sentiments\n",
              "0   April 01, 2003, Tuesday   -0.406975\n",
              "1  April 01, 2004, Thursday    0.134486\n",
              "2    April 01, 2005, Friday    0.093540\n",
              "3  April 01, 2006, Saturday   -0.412556\n",
              "4    April 01, 2007, Sunday    0.277827"
            ]
          },
          "execution_count": 28,
          "metadata": {},
          "output_type": "execute_result"
        }
      ],
      "source": [
        "df.head()"
      ],
      "id": "73994329-9920-4fae-ab81-176b751f4d3e"
    },
    {
      "cell_type": "code",
      "execution_count": 29,
      "metadata": {
        "colab": {
          "base_uri": "https://localhost:8080/"
        },
        "id": "c6c2cc57-4243-4355-b8c9-843675cbfcb2",
        "outputId": "01992785-cd0b-48b3-aa44-e0273bfb95fe"
      },
      "outputs": [
        {
          "output_type": "stream",
          "name": "stdout",
          "text": [
            "<class 'pandas.core.frame.DataFrame'>\n",
            "RangeIndex: 6037 entries, 0 to 6036\n",
            "Data columns (total 2 columns):\n",
            " #   Column      Non-Null Count  Dtype  \n",
            "---  ------      --------------  -----  \n",
            " 0   Date        6037 non-null   object \n",
            " 1   sentiments  6037 non-null   float64\n",
            "dtypes: float64(1), object(1)\n",
            "memory usage: 94.5+ KB\n"
          ]
        }
      ],
      "source": [
        "df.info()"
      ],
      "id": "c6c2cc57-4243-4355-b8c9-843675cbfcb2"
    },
    {
      "cell_type": "code",
      "source": [
        "# converting into datetime format"
      ],
      "metadata": {
        "id": "EGVzCuKj81X7"
      },
      "id": "EGVzCuKj81X7",
      "execution_count": 236,
      "outputs": []
    },
    {
      "cell_type": "code",
      "execution_count": 36,
      "metadata": {
        "id": "6e037218-a377-43f9-89b4-c097e32acfd2"
      },
      "outputs": [],
      "source": [
        "df['Date']=pd.to_datetime(df['Date'])"
      ],
      "id": "6e037218-a377-43f9-89b4-c097e32acfd2"
    },
    {
      "cell_type": "code",
      "source": [
        "df=df.set_index(df['Date'])"
      ],
      "metadata": {
        "id": "0-d6dQ9-h2qe"
      },
      "id": "0-d6dQ9-h2qe",
      "execution_count": 37,
      "outputs": []
    },
    {
      "cell_type": "code",
      "source": [
        "df=df.drop(['Date'],axis=1)"
      ],
      "metadata": {
        "id": "VocbsJcFh3Eg"
      },
      "id": "VocbsJcFh3Eg",
      "execution_count": 38,
      "outputs": []
    },
    {
      "cell_type": "code",
      "source": [
        "df.shape"
      ],
      "metadata": {
        "colab": {
          "base_uri": "https://localhost:8080/"
        },
        "id": "jeTfW7m9h3NC",
        "outputId": "4f111dc3-a8db-4a77-f693-3862612eeea3"
      },
      "id": "jeTfW7m9h3NC",
      "execution_count": 39,
      "outputs": [
        {
          "output_type": "execute_result",
          "data": {
            "text/plain": [
              "(6037, 1)"
            ]
          },
          "metadata": {},
          "execution_count": 39
        }
      ]
    },
    {
      "cell_type": "code",
      "source": [
        "df.head()"
      ],
      "metadata": {
        "colab": {
          "base_uri": "https://localhost:8080/",
          "height": 238
        },
        "id": "4Ycg_xKdipaN",
        "outputId": "d71e7faf-3288-4906-f115-fbc744a8a7e3"
      },
      "id": "4Ycg_xKdipaN",
      "execution_count": 40,
      "outputs": [
        {
          "output_type": "execute_result",
          "data": {
            "text/plain": [
              "            sentiments\n",
              "Date                  \n",
              "2003-04-01   -0.406975\n",
              "2004-04-01    0.134486\n",
              "2005-04-01    0.093540\n",
              "2006-04-01   -0.412556\n",
              "2007-04-01    0.277827"
            ],
            "text/html": [
              "\n",
              "  <div id=\"df-ce333676-bce8-4317-844c-ba7fc2b8eef3\">\n",
              "    <div class=\"colab-df-container\">\n",
              "      <div>\n",
              "<style scoped>\n",
              "    .dataframe tbody tr th:only-of-type {\n",
              "        vertical-align: middle;\n",
              "    }\n",
              "\n",
              "    .dataframe tbody tr th {\n",
              "        vertical-align: top;\n",
              "    }\n",
              "\n",
              "    .dataframe thead th {\n",
              "        text-align: right;\n",
              "    }\n",
              "</style>\n",
              "<table border=\"1\" class=\"dataframe\">\n",
              "  <thead>\n",
              "    <tr style=\"text-align: right;\">\n",
              "      <th></th>\n",
              "      <th>sentiments</th>\n",
              "    </tr>\n",
              "    <tr>\n",
              "      <th>Date</th>\n",
              "      <th></th>\n",
              "    </tr>\n",
              "  </thead>\n",
              "  <tbody>\n",
              "    <tr>\n",
              "      <th>2003-04-01</th>\n",
              "      <td>-0.406975</td>\n",
              "    </tr>\n",
              "    <tr>\n",
              "      <th>2004-04-01</th>\n",
              "      <td>0.134486</td>\n",
              "    </tr>\n",
              "    <tr>\n",
              "      <th>2005-04-01</th>\n",
              "      <td>0.093540</td>\n",
              "    </tr>\n",
              "    <tr>\n",
              "      <th>2006-04-01</th>\n",
              "      <td>-0.412556</td>\n",
              "    </tr>\n",
              "    <tr>\n",
              "      <th>2007-04-01</th>\n",
              "      <td>0.277827</td>\n",
              "    </tr>\n",
              "  </tbody>\n",
              "</table>\n",
              "</div>\n",
              "      <button class=\"colab-df-convert\" onclick=\"convertToInteractive('df-ce333676-bce8-4317-844c-ba7fc2b8eef3')\"\n",
              "              title=\"Convert this dataframe to an interactive table.\"\n",
              "              style=\"display:none;\">\n",
              "        \n",
              "  <svg xmlns=\"http://www.w3.org/2000/svg\" height=\"24px\"viewBox=\"0 0 24 24\"\n",
              "       width=\"24px\">\n",
              "    <path d=\"M0 0h24v24H0V0z\" fill=\"none\"/>\n",
              "    <path d=\"M18.56 5.44l.94 2.06.94-2.06 2.06-.94-2.06-.94-.94-2.06-.94 2.06-2.06.94zm-11 1L8.5 8.5l.94-2.06 2.06-.94-2.06-.94L8.5 2.5l-.94 2.06-2.06.94zm10 10l.94 2.06.94-2.06 2.06-.94-2.06-.94-.94-2.06-.94 2.06-2.06.94z\"/><path d=\"M17.41 7.96l-1.37-1.37c-.4-.4-.92-.59-1.43-.59-.52 0-1.04.2-1.43.59L10.3 9.45l-7.72 7.72c-.78.78-.78 2.05 0 2.83L4 21.41c.39.39.9.59 1.41.59.51 0 1.02-.2 1.41-.59l7.78-7.78 2.81-2.81c.8-.78.8-2.07 0-2.86zM5.41 20L4 18.59l7.72-7.72 1.47 1.35L5.41 20z\"/>\n",
              "  </svg>\n",
              "      </button>\n",
              "      \n",
              "  <style>\n",
              "    .colab-df-container {\n",
              "      display:flex;\n",
              "      flex-wrap:wrap;\n",
              "      gap: 12px;\n",
              "    }\n",
              "\n",
              "    .colab-df-convert {\n",
              "      background-color: #E8F0FE;\n",
              "      border: none;\n",
              "      border-radius: 50%;\n",
              "      cursor: pointer;\n",
              "      display: none;\n",
              "      fill: #1967D2;\n",
              "      height: 32px;\n",
              "      padding: 0 0 0 0;\n",
              "      width: 32px;\n",
              "    }\n",
              "\n",
              "    .colab-df-convert:hover {\n",
              "      background-color: #E2EBFA;\n",
              "      box-shadow: 0px 1px 2px rgba(60, 64, 67, 0.3), 0px 1px 3px 1px rgba(60, 64, 67, 0.15);\n",
              "      fill: #174EA6;\n",
              "    }\n",
              "\n",
              "    [theme=dark] .colab-df-convert {\n",
              "      background-color: #3B4455;\n",
              "      fill: #D2E3FC;\n",
              "    }\n",
              "\n",
              "    [theme=dark] .colab-df-convert:hover {\n",
              "      background-color: #434B5C;\n",
              "      box-shadow: 0px 1px 3px 1px rgba(0, 0, 0, 0.15);\n",
              "      filter: drop-shadow(0px 1px 2px rgba(0, 0, 0, 0.3));\n",
              "      fill: #FFFFFF;\n",
              "    }\n",
              "  </style>\n",
              "\n",
              "      <script>\n",
              "        const buttonEl =\n",
              "          document.querySelector('#df-ce333676-bce8-4317-844c-ba7fc2b8eef3 button.colab-df-convert');\n",
              "        buttonEl.style.display =\n",
              "          google.colab.kernel.accessAllowed ? 'block' : 'none';\n",
              "\n",
              "        async function convertToInteractive(key) {\n",
              "          const element = document.querySelector('#df-ce333676-bce8-4317-844c-ba7fc2b8eef3');\n",
              "          const dataTable =\n",
              "            await google.colab.kernel.invokeFunction('convertToInteractive',\n",
              "                                                     [key], {});\n",
              "          if (!dataTable) return;\n",
              "\n",
              "          const docLinkHtml = 'Like what you see? Visit the ' +\n",
              "            '<a target=\"_blank\" href=https://colab.research.google.com/notebooks/data_table.ipynb>data table notebook</a>'\n",
              "            + ' to learn more about interactive tables.';\n",
              "          element.innerHTML = '';\n",
              "          dataTable['output_type'] = 'display_data';\n",
              "          await google.colab.output.renderOutput(dataTable, element);\n",
              "          const docLink = document.createElement('div');\n",
              "          docLink.innerHTML = docLinkHtml;\n",
              "          element.appendChild(docLink);\n",
              "        }\n",
              "      </script>\n",
              "    </div>\n",
              "  </div>\n",
              "  "
            ]
          },
          "metadata": {},
          "execution_count": 40
        }
      ]
    },
    {
      "cell_type": "code",
      "source": [
        "##### "
      ],
      "metadata": {
        "id": "vkhVoLp2il-k"
      },
      "id": "vkhVoLp2il-k",
      "execution_count": 41,
      "outputs": []
    },
    {
      "cell_type": "code",
      "source": [
        "# reading dataset of historical stock price for HDFC bank"
      ],
      "metadata": {
        "id": "cB0ykAUC87d7"
      },
      "id": "cB0ykAUC87d7",
      "execution_count": 237,
      "outputs": []
    },
    {
      "cell_type": "code",
      "execution_count": 101,
      "metadata": {
        "id": "ad5a3b0c-ff21-4e9e-b1b9-355fd8e73d65"
      },
      "outputs": [],
      "source": [
        "new_df=pd.read_csv('/content/drive/My Drive/HDFC BANK/HDFCBANK.csv')"
      ],
      "id": "ad5a3b0c-ff21-4e9e-b1b9-355fd8e73d65"
    },
    {
      "cell_type": "code",
      "execution_count": 102,
      "metadata": {
        "colab": {
          "base_uri": "https://localhost:8080/",
          "height": 374
        },
        "id": "0e722312-c113-4664-af4a-613e64be9f26",
        "outputId": "48af76c2-0bf7-433f-d364-31db5dfff765"
      },
      "outputs": [
        {
          "output_type": "execute_result",
          "data": {
            "text/plain": [
              "         Date    Symbol Series  Prev Close    Open    High     Low    Last  \\\n",
              "0  2000-01-03  HDFCBANK     EQ      157.40  166.00  170.00  166.00  170.00   \n",
              "1  2000-01-04  HDFCBANK     EQ      170.00  182.00  183.45  171.00  174.00   \n",
              "2  2000-01-05  HDFCBANK     EQ      173.80  170.00  173.90  165.00  168.00   \n",
              "3  2000-01-06  HDFCBANK     EQ      166.95  168.00  170.00  165.30  168.95   \n",
              "4  2000-01-07  HDFCBANK     EQ      168.30  162.15  171.00  162.15  170.75   \n",
              "\n",
              "    Close    VWAP  Volume      Turnover  Trades  Deliverable Volume  \\\n",
              "0  170.00  169.52   33259  5.638122e+11     NaN                 NaN   \n",
              "1  173.80  174.99  168710  2.952261e+12     NaN                 NaN   \n",
              "2  166.95  169.20  159820  2.704094e+12     NaN                 NaN   \n",
              "3  168.30  168.44   85026  1.432166e+12     NaN                 NaN   \n",
              "4  168.35  166.79   85144  1.420158e+12     NaN                 NaN   \n",
              "\n",
              "   %Deliverble  \n",
              "0          NaN  \n",
              "1          NaN  \n",
              "2          NaN  \n",
              "3          NaN  \n",
              "4          NaN  "
            ],
            "text/html": [
              "\n",
              "  <div id=\"df-7e30ea4e-6377-477f-b374-4b1b70d6d502\">\n",
              "    <div class=\"colab-df-container\">\n",
              "      <div>\n",
              "<style scoped>\n",
              "    .dataframe tbody tr th:only-of-type {\n",
              "        vertical-align: middle;\n",
              "    }\n",
              "\n",
              "    .dataframe tbody tr th {\n",
              "        vertical-align: top;\n",
              "    }\n",
              "\n",
              "    .dataframe thead th {\n",
              "        text-align: right;\n",
              "    }\n",
              "</style>\n",
              "<table border=\"1\" class=\"dataframe\">\n",
              "  <thead>\n",
              "    <tr style=\"text-align: right;\">\n",
              "      <th></th>\n",
              "      <th>Date</th>\n",
              "      <th>Symbol</th>\n",
              "      <th>Series</th>\n",
              "      <th>Prev Close</th>\n",
              "      <th>Open</th>\n",
              "      <th>High</th>\n",
              "      <th>Low</th>\n",
              "      <th>Last</th>\n",
              "      <th>Close</th>\n",
              "      <th>VWAP</th>\n",
              "      <th>Volume</th>\n",
              "      <th>Turnover</th>\n",
              "      <th>Trades</th>\n",
              "      <th>Deliverable Volume</th>\n",
              "      <th>%Deliverble</th>\n",
              "    </tr>\n",
              "  </thead>\n",
              "  <tbody>\n",
              "    <tr>\n",
              "      <th>0</th>\n",
              "      <td>2000-01-03</td>\n",
              "      <td>HDFCBANK</td>\n",
              "      <td>EQ</td>\n",
              "      <td>157.40</td>\n",
              "      <td>166.00</td>\n",
              "      <td>170.00</td>\n",
              "      <td>166.00</td>\n",
              "      <td>170.00</td>\n",
              "      <td>170.00</td>\n",
              "      <td>169.52</td>\n",
              "      <td>33259</td>\n",
              "      <td>5.638122e+11</td>\n",
              "      <td>NaN</td>\n",
              "      <td>NaN</td>\n",
              "      <td>NaN</td>\n",
              "    </tr>\n",
              "    <tr>\n",
              "      <th>1</th>\n",
              "      <td>2000-01-04</td>\n",
              "      <td>HDFCBANK</td>\n",
              "      <td>EQ</td>\n",
              "      <td>170.00</td>\n",
              "      <td>182.00</td>\n",
              "      <td>183.45</td>\n",
              "      <td>171.00</td>\n",
              "      <td>174.00</td>\n",
              "      <td>173.80</td>\n",
              "      <td>174.99</td>\n",
              "      <td>168710</td>\n",
              "      <td>2.952261e+12</td>\n",
              "      <td>NaN</td>\n",
              "      <td>NaN</td>\n",
              "      <td>NaN</td>\n",
              "    </tr>\n",
              "    <tr>\n",
              "      <th>2</th>\n",
              "      <td>2000-01-05</td>\n",
              "      <td>HDFCBANK</td>\n",
              "      <td>EQ</td>\n",
              "      <td>173.80</td>\n",
              "      <td>170.00</td>\n",
              "      <td>173.90</td>\n",
              "      <td>165.00</td>\n",
              "      <td>168.00</td>\n",
              "      <td>166.95</td>\n",
              "      <td>169.20</td>\n",
              "      <td>159820</td>\n",
              "      <td>2.704094e+12</td>\n",
              "      <td>NaN</td>\n",
              "      <td>NaN</td>\n",
              "      <td>NaN</td>\n",
              "    </tr>\n",
              "    <tr>\n",
              "      <th>3</th>\n",
              "      <td>2000-01-06</td>\n",
              "      <td>HDFCBANK</td>\n",
              "      <td>EQ</td>\n",
              "      <td>166.95</td>\n",
              "      <td>168.00</td>\n",
              "      <td>170.00</td>\n",
              "      <td>165.30</td>\n",
              "      <td>168.95</td>\n",
              "      <td>168.30</td>\n",
              "      <td>168.44</td>\n",
              "      <td>85026</td>\n",
              "      <td>1.432166e+12</td>\n",
              "      <td>NaN</td>\n",
              "      <td>NaN</td>\n",
              "      <td>NaN</td>\n",
              "    </tr>\n",
              "    <tr>\n",
              "      <th>4</th>\n",
              "      <td>2000-01-07</td>\n",
              "      <td>HDFCBANK</td>\n",
              "      <td>EQ</td>\n",
              "      <td>168.30</td>\n",
              "      <td>162.15</td>\n",
              "      <td>171.00</td>\n",
              "      <td>162.15</td>\n",
              "      <td>170.75</td>\n",
              "      <td>168.35</td>\n",
              "      <td>166.79</td>\n",
              "      <td>85144</td>\n",
              "      <td>1.420158e+12</td>\n",
              "      <td>NaN</td>\n",
              "      <td>NaN</td>\n",
              "      <td>NaN</td>\n",
              "    </tr>\n",
              "  </tbody>\n",
              "</table>\n",
              "</div>\n",
              "      <button class=\"colab-df-convert\" onclick=\"convertToInteractive('df-7e30ea4e-6377-477f-b374-4b1b70d6d502')\"\n",
              "              title=\"Convert this dataframe to an interactive table.\"\n",
              "              style=\"display:none;\">\n",
              "        \n",
              "  <svg xmlns=\"http://www.w3.org/2000/svg\" height=\"24px\"viewBox=\"0 0 24 24\"\n",
              "       width=\"24px\">\n",
              "    <path d=\"M0 0h24v24H0V0z\" fill=\"none\"/>\n",
              "    <path d=\"M18.56 5.44l.94 2.06.94-2.06 2.06-.94-2.06-.94-.94-2.06-.94 2.06-2.06.94zm-11 1L8.5 8.5l.94-2.06 2.06-.94-2.06-.94L8.5 2.5l-.94 2.06-2.06.94zm10 10l.94 2.06.94-2.06 2.06-.94-2.06-.94-.94-2.06-.94 2.06-2.06.94z\"/><path d=\"M17.41 7.96l-1.37-1.37c-.4-.4-.92-.59-1.43-.59-.52 0-1.04.2-1.43.59L10.3 9.45l-7.72 7.72c-.78.78-.78 2.05 0 2.83L4 21.41c.39.39.9.59 1.41.59.51 0 1.02-.2 1.41-.59l7.78-7.78 2.81-2.81c.8-.78.8-2.07 0-2.86zM5.41 20L4 18.59l7.72-7.72 1.47 1.35L5.41 20z\"/>\n",
              "  </svg>\n",
              "      </button>\n",
              "      \n",
              "  <style>\n",
              "    .colab-df-container {\n",
              "      display:flex;\n",
              "      flex-wrap:wrap;\n",
              "      gap: 12px;\n",
              "    }\n",
              "\n",
              "    .colab-df-convert {\n",
              "      background-color: #E8F0FE;\n",
              "      border: none;\n",
              "      border-radius: 50%;\n",
              "      cursor: pointer;\n",
              "      display: none;\n",
              "      fill: #1967D2;\n",
              "      height: 32px;\n",
              "      padding: 0 0 0 0;\n",
              "      width: 32px;\n",
              "    }\n",
              "\n",
              "    .colab-df-convert:hover {\n",
              "      background-color: #E2EBFA;\n",
              "      box-shadow: 0px 1px 2px rgba(60, 64, 67, 0.3), 0px 1px 3px 1px rgba(60, 64, 67, 0.15);\n",
              "      fill: #174EA6;\n",
              "    }\n",
              "\n",
              "    [theme=dark] .colab-df-convert {\n",
              "      background-color: #3B4455;\n",
              "      fill: #D2E3FC;\n",
              "    }\n",
              "\n",
              "    [theme=dark] .colab-df-convert:hover {\n",
              "      background-color: #434B5C;\n",
              "      box-shadow: 0px 1px 3px 1px rgba(0, 0, 0, 0.15);\n",
              "      filter: drop-shadow(0px 1px 2px rgba(0, 0, 0, 0.3));\n",
              "      fill: #FFFFFF;\n",
              "    }\n",
              "  </style>\n",
              "\n",
              "      <script>\n",
              "        const buttonEl =\n",
              "          document.querySelector('#df-7e30ea4e-6377-477f-b374-4b1b70d6d502 button.colab-df-convert');\n",
              "        buttonEl.style.display =\n",
              "          google.colab.kernel.accessAllowed ? 'block' : 'none';\n",
              "\n",
              "        async function convertToInteractive(key) {\n",
              "          const element = document.querySelector('#df-7e30ea4e-6377-477f-b374-4b1b70d6d502');\n",
              "          const dataTable =\n",
              "            await google.colab.kernel.invokeFunction('convertToInteractive',\n",
              "                                                     [key], {});\n",
              "          if (!dataTable) return;\n",
              "\n",
              "          const docLinkHtml = 'Like what you see? Visit the ' +\n",
              "            '<a target=\"_blank\" href=https://colab.research.google.com/notebooks/data_table.ipynb>data table notebook</a>'\n",
              "            + ' to learn more about interactive tables.';\n",
              "          element.innerHTML = '';\n",
              "          dataTable['output_type'] = 'display_data';\n",
              "          await google.colab.output.renderOutput(dataTable, element);\n",
              "          const docLink = document.createElement('div');\n",
              "          docLink.innerHTML = docLinkHtml;\n",
              "          element.appendChild(docLink);\n",
              "        }\n",
              "      </script>\n",
              "    </div>\n",
              "  </div>\n",
              "  "
            ]
          },
          "metadata": {},
          "execution_count": 102
        }
      ],
      "source": [
        "new_df.head()"
      ],
      "id": "0e722312-c113-4664-af4a-613e64be9f26"
    },
    {
      "cell_type": "code",
      "execution_count": 103,
      "metadata": {
        "colab": {
          "base_uri": "https://localhost:8080/",
          "height": 374
        },
        "id": "0244666c-8991-4762-8429-9c8b36778ebc",
        "outputId": "a52b5a4f-d269-4667-cae4-edcefeef4f19"
      },
      "outputs": [
        {
          "output_type": "execute_result",
          "data": {
            "text/plain": [
              "            Date    Symbol Series  Prev Close     Open     High      Low  \\\n",
              "5301  2021-04-26  HDFCBANK     EQ     1414.15  1413.00  1429.00  1402.75   \n",
              "5302  2021-04-27  HDFCBANK     EQ     1404.80  1407.25  1442.00  1404.80   \n",
              "5303  2021-04-28  HDFCBANK     EQ     1438.70  1436.25  1479.00  1431.00   \n",
              "5304  2021-04-29  HDFCBANK     EQ     1476.80  1486.20  1503.65  1461.00   \n",
              "5305  2021-04-30  HDFCBANK     EQ     1472.50  1445.00  1453.80  1407.50   \n",
              "\n",
              "         Last   Close     VWAP    Volume      Turnover    Trades  \\\n",
              "5301  1407.55  1404.8  1413.19  15085476  2.131861e+15  291268.0   \n",
              "5302  1435.05  1438.7  1430.40  10296453  1.472810e+15  233200.0   \n",
              "5303  1475.00  1476.8  1463.19  12051970  1.763438e+15  197146.0   \n",
              "5304  1471.65  1472.5  1481.15  12039276  1.783196e+15  252296.0   \n",
              "5305  1412.90  1412.3  1421.13  17616451  2.503529e+15  447876.0   \n",
              "\n",
              "      Deliverable Volume  %Deliverble  \n",
              "5301           9791881.0       0.6491  \n",
              "5302           5650216.0       0.5488  \n",
              "5303           7196647.0       0.5971  \n",
              "5304           4818551.0       0.4002  \n",
              "5305           8982938.0       0.5099  "
            ],
            "text/html": [
              "\n",
              "  <div id=\"df-8c164c0c-6629-465a-858c-e09bd6129666\">\n",
              "    <div class=\"colab-df-container\">\n",
              "      <div>\n",
              "<style scoped>\n",
              "    .dataframe tbody tr th:only-of-type {\n",
              "        vertical-align: middle;\n",
              "    }\n",
              "\n",
              "    .dataframe tbody tr th {\n",
              "        vertical-align: top;\n",
              "    }\n",
              "\n",
              "    .dataframe thead th {\n",
              "        text-align: right;\n",
              "    }\n",
              "</style>\n",
              "<table border=\"1\" class=\"dataframe\">\n",
              "  <thead>\n",
              "    <tr style=\"text-align: right;\">\n",
              "      <th></th>\n",
              "      <th>Date</th>\n",
              "      <th>Symbol</th>\n",
              "      <th>Series</th>\n",
              "      <th>Prev Close</th>\n",
              "      <th>Open</th>\n",
              "      <th>High</th>\n",
              "      <th>Low</th>\n",
              "      <th>Last</th>\n",
              "      <th>Close</th>\n",
              "      <th>VWAP</th>\n",
              "      <th>Volume</th>\n",
              "      <th>Turnover</th>\n",
              "      <th>Trades</th>\n",
              "      <th>Deliverable Volume</th>\n",
              "      <th>%Deliverble</th>\n",
              "    </tr>\n",
              "  </thead>\n",
              "  <tbody>\n",
              "    <tr>\n",
              "      <th>5301</th>\n",
              "      <td>2021-04-26</td>\n",
              "      <td>HDFCBANK</td>\n",
              "      <td>EQ</td>\n",
              "      <td>1414.15</td>\n",
              "      <td>1413.00</td>\n",
              "      <td>1429.00</td>\n",
              "      <td>1402.75</td>\n",
              "      <td>1407.55</td>\n",
              "      <td>1404.8</td>\n",
              "      <td>1413.19</td>\n",
              "      <td>15085476</td>\n",
              "      <td>2.131861e+15</td>\n",
              "      <td>291268.0</td>\n",
              "      <td>9791881.0</td>\n",
              "      <td>0.6491</td>\n",
              "    </tr>\n",
              "    <tr>\n",
              "      <th>5302</th>\n",
              "      <td>2021-04-27</td>\n",
              "      <td>HDFCBANK</td>\n",
              "      <td>EQ</td>\n",
              "      <td>1404.80</td>\n",
              "      <td>1407.25</td>\n",
              "      <td>1442.00</td>\n",
              "      <td>1404.80</td>\n",
              "      <td>1435.05</td>\n",
              "      <td>1438.7</td>\n",
              "      <td>1430.40</td>\n",
              "      <td>10296453</td>\n",
              "      <td>1.472810e+15</td>\n",
              "      <td>233200.0</td>\n",
              "      <td>5650216.0</td>\n",
              "      <td>0.5488</td>\n",
              "    </tr>\n",
              "    <tr>\n",
              "      <th>5303</th>\n",
              "      <td>2021-04-28</td>\n",
              "      <td>HDFCBANK</td>\n",
              "      <td>EQ</td>\n",
              "      <td>1438.70</td>\n",
              "      <td>1436.25</td>\n",
              "      <td>1479.00</td>\n",
              "      <td>1431.00</td>\n",
              "      <td>1475.00</td>\n",
              "      <td>1476.8</td>\n",
              "      <td>1463.19</td>\n",
              "      <td>12051970</td>\n",
              "      <td>1.763438e+15</td>\n",
              "      <td>197146.0</td>\n",
              "      <td>7196647.0</td>\n",
              "      <td>0.5971</td>\n",
              "    </tr>\n",
              "    <tr>\n",
              "      <th>5304</th>\n",
              "      <td>2021-04-29</td>\n",
              "      <td>HDFCBANK</td>\n",
              "      <td>EQ</td>\n",
              "      <td>1476.80</td>\n",
              "      <td>1486.20</td>\n",
              "      <td>1503.65</td>\n",
              "      <td>1461.00</td>\n",
              "      <td>1471.65</td>\n",
              "      <td>1472.5</td>\n",
              "      <td>1481.15</td>\n",
              "      <td>12039276</td>\n",
              "      <td>1.783196e+15</td>\n",
              "      <td>252296.0</td>\n",
              "      <td>4818551.0</td>\n",
              "      <td>0.4002</td>\n",
              "    </tr>\n",
              "    <tr>\n",
              "      <th>5305</th>\n",
              "      <td>2021-04-30</td>\n",
              "      <td>HDFCBANK</td>\n",
              "      <td>EQ</td>\n",
              "      <td>1472.50</td>\n",
              "      <td>1445.00</td>\n",
              "      <td>1453.80</td>\n",
              "      <td>1407.50</td>\n",
              "      <td>1412.90</td>\n",
              "      <td>1412.3</td>\n",
              "      <td>1421.13</td>\n",
              "      <td>17616451</td>\n",
              "      <td>2.503529e+15</td>\n",
              "      <td>447876.0</td>\n",
              "      <td>8982938.0</td>\n",
              "      <td>0.5099</td>\n",
              "    </tr>\n",
              "  </tbody>\n",
              "</table>\n",
              "</div>\n",
              "      <button class=\"colab-df-convert\" onclick=\"convertToInteractive('df-8c164c0c-6629-465a-858c-e09bd6129666')\"\n",
              "              title=\"Convert this dataframe to an interactive table.\"\n",
              "              style=\"display:none;\">\n",
              "        \n",
              "  <svg xmlns=\"http://www.w3.org/2000/svg\" height=\"24px\"viewBox=\"0 0 24 24\"\n",
              "       width=\"24px\">\n",
              "    <path d=\"M0 0h24v24H0V0z\" fill=\"none\"/>\n",
              "    <path d=\"M18.56 5.44l.94 2.06.94-2.06 2.06-.94-2.06-.94-.94-2.06-.94 2.06-2.06.94zm-11 1L8.5 8.5l.94-2.06 2.06-.94-2.06-.94L8.5 2.5l-.94 2.06-2.06.94zm10 10l.94 2.06.94-2.06 2.06-.94-2.06-.94-.94-2.06-.94 2.06-2.06.94z\"/><path d=\"M17.41 7.96l-1.37-1.37c-.4-.4-.92-.59-1.43-.59-.52 0-1.04.2-1.43.59L10.3 9.45l-7.72 7.72c-.78.78-.78 2.05 0 2.83L4 21.41c.39.39.9.59 1.41.59.51 0 1.02-.2 1.41-.59l7.78-7.78 2.81-2.81c.8-.78.8-2.07 0-2.86zM5.41 20L4 18.59l7.72-7.72 1.47 1.35L5.41 20z\"/>\n",
              "  </svg>\n",
              "      </button>\n",
              "      \n",
              "  <style>\n",
              "    .colab-df-container {\n",
              "      display:flex;\n",
              "      flex-wrap:wrap;\n",
              "      gap: 12px;\n",
              "    }\n",
              "\n",
              "    .colab-df-convert {\n",
              "      background-color: #E8F0FE;\n",
              "      border: none;\n",
              "      border-radius: 50%;\n",
              "      cursor: pointer;\n",
              "      display: none;\n",
              "      fill: #1967D2;\n",
              "      height: 32px;\n",
              "      padding: 0 0 0 0;\n",
              "      width: 32px;\n",
              "    }\n",
              "\n",
              "    .colab-df-convert:hover {\n",
              "      background-color: #E2EBFA;\n",
              "      box-shadow: 0px 1px 2px rgba(60, 64, 67, 0.3), 0px 1px 3px 1px rgba(60, 64, 67, 0.15);\n",
              "      fill: #174EA6;\n",
              "    }\n",
              "\n",
              "    [theme=dark] .colab-df-convert {\n",
              "      background-color: #3B4455;\n",
              "      fill: #D2E3FC;\n",
              "    }\n",
              "\n",
              "    [theme=dark] .colab-df-convert:hover {\n",
              "      background-color: #434B5C;\n",
              "      box-shadow: 0px 1px 3px 1px rgba(0, 0, 0, 0.15);\n",
              "      filter: drop-shadow(0px 1px 2px rgba(0, 0, 0, 0.3));\n",
              "      fill: #FFFFFF;\n",
              "    }\n",
              "  </style>\n",
              "\n",
              "      <script>\n",
              "        const buttonEl =\n",
              "          document.querySelector('#df-8c164c0c-6629-465a-858c-e09bd6129666 button.colab-df-convert');\n",
              "        buttonEl.style.display =\n",
              "          google.colab.kernel.accessAllowed ? 'block' : 'none';\n",
              "\n",
              "        async function convertToInteractive(key) {\n",
              "          const element = document.querySelector('#df-8c164c0c-6629-465a-858c-e09bd6129666');\n",
              "          const dataTable =\n",
              "            await google.colab.kernel.invokeFunction('convertToInteractive',\n",
              "                                                     [key], {});\n",
              "          if (!dataTable) return;\n",
              "\n",
              "          const docLinkHtml = 'Like what you see? Visit the ' +\n",
              "            '<a target=\"_blank\" href=https://colab.research.google.com/notebooks/data_table.ipynb>data table notebook</a>'\n",
              "            + ' to learn more about interactive tables.';\n",
              "          element.innerHTML = '';\n",
              "          dataTable['output_type'] = 'display_data';\n",
              "          await google.colab.output.renderOutput(dataTable, element);\n",
              "          const docLink = document.createElement('div');\n",
              "          docLink.innerHTML = docLinkHtml;\n",
              "          element.appendChild(docLink);\n",
              "        }\n",
              "      </script>\n",
              "    </div>\n",
              "  </div>\n",
              "  "
            ]
          },
          "metadata": {},
          "execution_count": 103
        }
      ],
      "source": [
        "new_df.tail()"
      ],
      "id": "0244666c-8991-4762-8429-9c8b36778ebc"
    },
    {
      "cell_type": "code",
      "execution_count": 104,
      "metadata": {
        "id": "7880511b-703e-44d4-92da-f4864ace012a"
      },
      "outputs": [],
      "source": [
        "df1=new_df.loc[:,['Date','Close','Volume','Open']]"
      ],
      "id": "7880511b-703e-44d4-92da-f4864ace012a"
    },
    {
      "cell_type": "code",
      "execution_count": 105,
      "metadata": {
        "colab": {
          "base_uri": "https://localhost:8080/",
          "height": 206
        },
        "id": "f933e112-6b28-4fa1-a267-9caf335acfb1",
        "outputId": "c23367a0-2b2b-44a2-d863-83bd9718372c"
      },
      "outputs": [
        {
          "output_type": "execute_result",
          "data": {
            "text/plain": [
              "         Date   Close  Volume    Open\n",
              "0  2000-01-03  170.00   33259  166.00\n",
              "1  2000-01-04  173.80  168710  182.00\n",
              "2  2000-01-05  166.95  159820  170.00\n",
              "3  2000-01-06  168.30   85026  168.00\n",
              "4  2000-01-07  168.35   85144  162.15"
            ],
            "text/html": [
              "\n",
              "  <div id=\"df-e2b80f66-2a75-4492-b90c-c4503fbe17f4\">\n",
              "    <div class=\"colab-df-container\">\n",
              "      <div>\n",
              "<style scoped>\n",
              "    .dataframe tbody tr th:only-of-type {\n",
              "        vertical-align: middle;\n",
              "    }\n",
              "\n",
              "    .dataframe tbody tr th {\n",
              "        vertical-align: top;\n",
              "    }\n",
              "\n",
              "    .dataframe thead th {\n",
              "        text-align: right;\n",
              "    }\n",
              "</style>\n",
              "<table border=\"1\" class=\"dataframe\">\n",
              "  <thead>\n",
              "    <tr style=\"text-align: right;\">\n",
              "      <th></th>\n",
              "      <th>Date</th>\n",
              "      <th>Close</th>\n",
              "      <th>Volume</th>\n",
              "      <th>Open</th>\n",
              "    </tr>\n",
              "  </thead>\n",
              "  <tbody>\n",
              "    <tr>\n",
              "      <th>0</th>\n",
              "      <td>2000-01-03</td>\n",
              "      <td>170.00</td>\n",
              "      <td>33259</td>\n",
              "      <td>166.00</td>\n",
              "    </tr>\n",
              "    <tr>\n",
              "      <th>1</th>\n",
              "      <td>2000-01-04</td>\n",
              "      <td>173.80</td>\n",
              "      <td>168710</td>\n",
              "      <td>182.00</td>\n",
              "    </tr>\n",
              "    <tr>\n",
              "      <th>2</th>\n",
              "      <td>2000-01-05</td>\n",
              "      <td>166.95</td>\n",
              "      <td>159820</td>\n",
              "      <td>170.00</td>\n",
              "    </tr>\n",
              "    <tr>\n",
              "      <th>3</th>\n",
              "      <td>2000-01-06</td>\n",
              "      <td>168.30</td>\n",
              "      <td>85026</td>\n",
              "      <td>168.00</td>\n",
              "    </tr>\n",
              "    <tr>\n",
              "      <th>4</th>\n",
              "      <td>2000-01-07</td>\n",
              "      <td>168.35</td>\n",
              "      <td>85144</td>\n",
              "      <td>162.15</td>\n",
              "    </tr>\n",
              "  </tbody>\n",
              "</table>\n",
              "</div>\n",
              "      <button class=\"colab-df-convert\" onclick=\"convertToInteractive('df-e2b80f66-2a75-4492-b90c-c4503fbe17f4')\"\n",
              "              title=\"Convert this dataframe to an interactive table.\"\n",
              "              style=\"display:none;\">\n",
              "        \n",
              "  <svg xmlns=\"http://www.w3.org/2000/svg\" height=\"24px\"viewBox=\"0 0 24 24\"\n",
              "       width=\"24px\">\n",
              "    <path d=\"M0 0h24v24H0V0z\" fill=\"none\"/>\n",
              "    <path d=\"M18.56 5.44l.94 2.06.94-2.06 2.06-.94-2.06-.94-.94-2.06-.94 2.06-2.06.94zm-11 1L8.5 8.5l.94-2.06 2.06-.94-2.06-.94L8.5 2.5l-.94 2.06-2.06.94zm10 10l.94 2.06.94-2.06 2.06-.94-2.06-.94-.94-2.06-.94 2.06-2.06.94z\"/><path d=\"M17.41 7.96l-1.37-1.37c-.4-.4-.92-.59-1.43-.59-.52 0-1.04.2-1.43.59L10.3 9.45l-7.72 7.72c-.78.78-.78 2.05 0 2.83L4 21.41c.39.39.9.59 1.41.59.51 0 1.02-.2 1.41-.59l7.78-7.78 2.81-2.81c.8-.78.8-2.07 0-2.86zM5.41 20L4 18.59l7.72-7.72 1.47 1.35L5.41 20z\"/>\n",
              "  </svg>\n",
              "      </button>\n",
              "      \n",
              "  <style>\n",
              "    .colab-df-container {\n",
              "      display:flex;\n",
              "      flex-wrap:wrap;\n",
              "      gap: 12px;\n",
              "    }\n",
              "\n",
              "    .colab-df-convert {\n",
              "      background-color: #E8F0FE;\n",
              "      border: none;\n",
              "      border-radius: 50%;\n",
              "      cursor: pointer;\n",
              "      display: none;\n",
              "      fill: #1967D2;\n",
              "      height: 32px;\n",
              "      padding: 0 0 0 0;\n",
              "      width: 32px;\n",
              "    }\n",
              "\n",
              "    .colab-df-convert:hover {\n",
              "      background-color: #E2EBFA;\n",
              "      box-shadow: 0px 1px 2px rgba(60, 64, 67, 0.3), 0px 1px 3px 1px rgba(60, 64, 67, 0.15);\n",
              "      fill: #174EA6;\n",
              "    }\n",
              "\n",
              "    [theme=dark] .colab-df-convert {\n",
              "      background-color: #3B4455;\n",
              "      fill: #D2E3FC;\n",
              "    }\n",
              "\n",
              "    [theme=dark] .colab-df-convert:hover {\n",
              "      background-color: #434B5C;\n",
              "      box-shadow: 0px 1px 3px 1px rgba(0, 0, 0, 0.15);\n",
              "      filter: drop-shadow(0px 1px 2px rgba(0, 0, 0, 0.3));\n",
              "      fill: #FFFFFF;\n",
              "    }\n",
              "  </style>\n",
              "\n",
              "      <script>\n",
              "        const buttonEl =\n",
              "          document.querySelector('#df-e2b80f66-2a75-4492-b90c-c4503fbe17f4 button.colab-df-convert');\n",
              "        buttonEl.style.display =\n",
              "          google.colab.kernel.accessAllowed ? 'block' : 'none';\n",
              "\n",
              "        async function convertToInteractive(key) {\n",
              "          const element = document.querySelector('#df-e2b80f66-2a75-4492-b90c-c4503fbe17f4');\n",
              "          const dataTable =\n",
              "            await google.colab.kernel.invokeFunction('convertToInteractive',\n",
              "                                                     [key], {});\n",
              "          if (!dataTable) return;\n",
              "\n",
              "          const docLinkHtml = 'Like what you see? Visit the ' +\n",
              "            '<a target=\"_blank\" href=https://colab.research.google.com/notebooks/data_table.ipynb>data table notebook</a>'\n",
              "            + ' to learn more about interactive tables.';\n",
              "          element.innerHTML = '';\n",
              "          dataTable['output_type'] = 'display_data';\n",
              "          await google.colab.output.renderOutput(dataTable, element);\n",
              "          const docLink = document.createElement('div');\n",
              "          docLink.innerHTML = docLinkHtml;\n",
              "          element.appendChild(docLink);\n",
              "        }\n",
              "      </script>\n",
              "    </div>\n",
              "  </div>\n",
              "  "
            ]
          },
          "metadata": {},
          "execution_count": 105
        }
      ],
      "source": [
        "df1.head()"
      ],
      "id": "f933e112-6b28-4fa1-a267-9caf335acfb1"
    },
    {
      "cell_type": "code",
      "execution_count": 106,
      "metadata": {
        "colab": {
          "base_uri": "https://localhost:8080/"
        },
        "id": "b7351372-bf34-46ca-b1b8-95f8fbe3163e",
        "outputId": "b5ce893c-878b-4666-be39-070e2b1ec291"
      },
      "outputs": [
        {
          "output_type": "execute_result",
          "data": {
            "text/plain": [
              "(5306, 4)"
            ]
          },
          "metadata": {},
          "execution_count": 106
        }
      ],
      "source": [
        "df1.shape"
      ],
      "id": "b7351372-bf34-46ca-b1b8-95f8fbe3163e"
    },
    {
      "cell_type": "code",
      "source": [
        "# converting into datetime format"
      ],
      "metadata": {
        "id": "9iY9pO_V9KI1"
      },
      "id": "9iY9pO_V9KI1",
      "execution_count": 238,
      "outputs": []
    },
    {
      "cell_type": "code",
      "execution_count": 107,
      "metadata": {
        "id": "9c2671e0-1720-4299-8dd7-a64903a685e2"
      },
      "outputs": [],
      "source": [
        "df1['Date']=pd.to_datetime(df1['Date'])"
      ],
      "id": "9c2671e0-1720-4299-8dd7-a64903a685e2"
    },
    {
      "cell_type": "code",
      "execution_count": 108,
      "metadata": {
        "id": "07270067-593f-4f74-94c9-d0d2bc8c2047"
      },
      "outputs": [],
      "source": [
        "df1=df1.set_index(df1['Date'])"
      ],
      "id": "07270067-593f-4f74-94c9-d0d2bc8c2047"
    },
    {
      "cell_type": "code",
      "execution_count": 109,
      "metadata": {
        "id": "f0b3e0ae-d7e0-4d52-90f0-0a8200c8d14f"
      },
      "outputs": [],
      "source": [
        "df1=df1.drop(['Date'],axis=1)"
      ],
      "id": "f0b3e0ae-d7e0-4d52-90f0-0a8200c8d14f"
    },
    {
      "cell_type": "code",
      "execution_count": 110,
      "metadata": {
        "id": "5a5974d1-4ae0-4323-966e-913ba7179eac"
      },
      "outputs": [],
      "source": [
        "import matplotlib.pyplot as plt"
      ],
      "id": "5a5974d1-4ae0-4323-966e-913ba7179eac"
    },
    {
      "cell_type": "code",
      "execution_count": 111,
      "metadata": {
        "colab": {
          "base_uri": "https://localhost:8080/",
          "height": 282
        },
        "id": "a05a791a-45ba-491f-9ee2-71c9651c7d3c",
        "outputId": "855dd9a5-96dd-465b-9fcb-d307a287bb83"
      },
      "outputs": [
        {
          "output_type": "execute_result",
          "data": {
            "text/plain": [
              "[<matplotlib.lines.Line2D at 0x7f11b8788f10>]"
            ]
          },
          "metadata": {},
          "execution_count": 111
        },
        {
          "output_type": "display_data",
          "data": {
            "text/plain": [
              "<Figure size 432x288 with 1 Axes>"
            ],
            "image/png": "[encoded data removed]"
          },
          "metadata": {
            "needs_background": "light"
          }
        }
      ],
      "source": [
        "plt.plot(df1['Open'])"
      ],
      "id": "a05a791a-45ba-491f-9ee2-71c9651c7d3c"
    },
    {
      "cell_type": "code",
      "execution_count": 112,
      "metadata": {
        "colab": {
          "base_uri": "https://localhost:8080/",
          "height": 238
        },
        "id": "37bf9b4f-6707-4f17-bb43-e5a341d07f3d",
        "outputId": "abcb573a-474f-4de2-cc1a-51e75481211a"
      },
      "outputs": [
        {
          "output_type": "execute_result",
          "data": {
            "text/plain": [
              "             Close  Volume    Open\n",
              "Date                              \n",
              "2000-01-03  170.00   33259  166.00\n",
              "2000-01-04  173.80  168710  182.00\n",
              "2000-01-05  166.95  159820  170.00\n",
              "2000-01-06  168.30   85026  168.00\n",
              "2000-01-07  168.35   85144  162.15"
            ],
            "text/html": [
              "\n",
              "  <div id=\"df-936fd92b-9120-4125-bfcf-e09e38cd403f\">\n",
              "    <div class=\"colab-df-container\">\n",
              "      <div>\n",
              "<style scoped>\n",
              "    .dataframe tbody tr th:only-of-type {\n",
              "        vertical-align: middle;\n",
              "    }\n",
              "\n",
              "    .dataframe tbody tr th {\n",
              "        vertical-align: top;\n",
              "    }\n",
              "\n",
              "    .dataframe thead th {\n",
              "        text-align: right;\n",
              "    }\n",
              "</style>\n",
              "<table border=\"1\" class=\"dataframe\">\n",
              "  <thead>\n",
              "    <tr style=\"text-align: right;\">\n",
              "      <th></th>\n",
              "      <th>Close</th>\n",
              "      <th>Volume</th>\n",
              "      <th>Open</th>\n",
              "    </tr>\n",
              "    <tr>\n",
              "      <th>Date</th>\n",
              "      <th></th>\n",
              "      <th></th>\n",
              "      <th></th>\n",
              "    </tr>\n",
              "  </thead>\n",
              "  <tbody>\n",
              "    <tr>\n",
              "      <th>2000-01-03</th>\n",
              "      <td>170.00</td>\n",
              "      <td>33259</td>\n",
              "      <td>166.00</td>\n",
              "    </tr>\n",
              "    <tr>\n",
              "      <th>2000-01-04</th>\n",
              "      <td>173.80</td>\n",
              "      <td>168710</td>\n",
              "      <td>182.00</td>\n",
              "    </tr>\n",
              "    <tr>\n",
              "      <th>2000-01-05</th>\n",
              "      <td>166.95</td>\n",
              "      <td>159820</td>\n",
              "      <td>170.00</td>\n",
              "    </tr>\n",
              "    <tr>\n",
              "      <th>2000-01-06</th>\n",
              "      <td>168.30</td>\n",
              "      <td>85026</td>\n",
              "      <td>168.00</td>\n",
              "    </tr>\n",
              "    <tr>\n",
              "      <th>2000-01-07</th>\n",
              "      <td>168.35</td>\n",
              "      <td>85144</td>\n",
              "      <td>162.15</td>\n",
              "    </tr>\n",
              "  </tbody>\n",
              "</table>\n",
              "</div>\n",
              "      <button class=\"colab-df-convert\" onclick=\"convertToInteractive('df-936fd92b-9120-4125-bfcf-e09e38cd403f')\"\n",
              "              title=\"Convert this dataframe to an interactive table.\"\n",
              "              style=\"display:none;\">\n",
              "        \n",
              "  <svg xmlns=\"http://www.w3.org/2000/svg\" height=\"24px\"viewBox=\"0 0 24 24\"\n",
              "       width=\"24px\">\n",
              "    <path d=\"M0 0h24v24H0V0z\" fill=\"none\"/>\n",
              "    <path d=\"M18.56 5.44l.94 2.06.94-2.06 2.06-.94-2.06-.94-.94-2.06-.94 2.06-2.06.94zm-11 1L8.5 8.5l.94-2.06 2.06-.94-2.06-.94L8.5 2.5l-.94 2.06-2.06.94zm10 10l.94 2.06.94-2.06 2.06-.94-2.06-.94-.94-2.06-.94 2.06-2.06.94z\"/><path d=\"M17.41 7.96l-1.37-1.37c-.4-.4-.92-.59-1.43-.59-.52 0-1.04.2-1.43.59L10.3 9.45l-7.72 7.72c-.78.78-.78 2.05 0 2.83L4 21.41c.39.39.9.59 1.41.59.51 0 1.02-.2 1.41-.59l7.78-7.78 2.81-2.81c.8-.78.8-2.07 0-2.86zM5.41 20L4 18.59l7.72-7.72 1.47 1.35L5.41 20z\"/>\n",
              "  </svg>\n",
              "      </button>\n",
              "      \n",
              "  <style>\n",
              "    .colab-df-container {\n",
              "      display:flex;\n",
              "      flex-wrap:wrap;\n",
              "      gap: 12px;\n",
              "    }\n",
              "\n",
              "    .colab-df-convert {\n",
              "      background-color: #E8F0FE;\n",
              "      border: none;\n",
              "      border-radius: 50%;\n",
              "      cursor: pointer;\n",
              "      display: none;\n",
              "      fill: #1967D2;\n",
              "      height: 32px;\n",
              "      padding: 0 0 0 0;\n",
              "      width: 32px;\n",
              "    }\n",
              "\n",
              "    .colab-df-convert:hover {\n",
              "      background-color: #E2EBFA;\n",
              "      box-shadow: 0px 1px 2px rgba(60, 64, 67, 0.3), 0px 1px 3px 1px rgba(60, 64, 67, 0.15);\n",
              "      fill: #174EA6;\n",
              "    }\n",
              "\n",
              "    [theme=dark] .colab-df-convert {\n",
              "      background-color: #3B4455;\n",
              "      fill: #D2E3FC;\n",
              "    }\n",
              "\n",
              "    [theme=dark] .colab-df-convert:hover {\n",
              "      background-color: #434B5C;\n",
              "      box-shadow: 0px 1px 3px 1px rgba(0, 0, 0, 0.15);\n",
              "      filter: drop-shadow(0px 1px 2px rgba(0, 0, 0, 0.3));\n",
              "      fill: #FFFFFF;\n",
              "    }\n",
              "  </style>\n",
              "\n",
              "      <script>\n",
              "        const buttonEl =\n",
              "          document.querySelector('#df-936fd92b-9120-4125-bfcf-e09e38cd403f button.colab-df-convert');\n",
              "        buttonEl.style.display =\n",
              "          google.colab.kernel.accessAllowed ? 'block' : 'none';\n",
              "\n",
              "        async function convertToInteractive(key) {\n",
              "          const element = document.querySelector('#df-936fd92b-9120-4125-bfcf-e09e38cd403f');\n",
              "          const dataTable =\n",
              "            await google.colab.kernel.invokeFunction('convertToInteractive',\n",
              "                                                     [key], {});\n",
              "          if (!dataTable) return;\n",
              "\n",
              "          const docLinkHtml = 'Like what you see? Visit the ' +\n",
              "            '<a target=\"_blank\" href=https://colab.research.google.com/notebooks/data_table.ipynb>data table notebook</a>'\n",
              "            + ' to learn more about interactive tables.';\n",
              "          element.innerHTML = '';\n",
              "          dataTable['output_type'] = 'display_data';\n",
              "          await google.colab.output.renderOutput(dataTable, element);\n",
              "          const docLink = document.createElement('div');\n",
              "          docLink.innerHTML = docLinkHtml;\n",
              "          element.appendChild(docLink);\n",
              "        }\n",
              "      </script>\n",
              "    </div>\n",
              "  </div>\n",
              "  "
            ]
          },
          "metadata": {},
          "execution_count": 112
        }
      ],
      "source": [
        "df1.head()"
      ],
      "id": "37bf9b4f-6707-4f17-bb43-e5a341d07f3d"
    },
    {
      "cell_type": "code",
      "source": [
        "# append sentiment score for historical stock price dataset and combinning both datasets"
      ],
      "metadata": {
        "id": "KwyNhgXz9UeQ"
      },
      "id": "KwyNhgXz9UeQ",
      "execution_count": 239,
      "outputs": []
    },
    {
      "cell_type": "code",
      "execution_count": 114,
      "metadata": {
        "id": "26c6929c-d60d-4211-8f71-04aa02914529"
      },
      "outputs": [],
      "source": [
        "final_df=pd.concat([df1,df],axis=1)"
      ],
      "id": "26c6929c-d60d-4211-8f71-04aa02914529"
    },
    {
      "cell_type": "code",
      "execution_count": 115,
      "metadata": {
        "colab": {
          "base_uri": "https://localhost:8080/",
          "height": 238
        },
        "id": "e49167a0-d338-4c4c-b885-7409fa8da4c8",
        "outputId": "34239eed-1ce7-4ac0-8544-f5e71418224e"
      },
      "outputs": [
        {
          "output_type": "execute_result",
          "data": {
            "text/plain": [
              "             Close    Volume    Open  sentiments\n",
              "Date                                            \n",
              "2000-01-03  170.00   33259.0  166.00         NaN\n",
              "2000-01-04  173.80  168710.0  182.00         NaN\n",
              "2000-01-05  166.95  159820.0  170.00         NaN\n",
              "2000-01-06  168.30   85026.0  168.00         NaN\n",
              "2000-01-07  168.35   85144.0  162.15         NaN"
            ],
            "text/html": [
              "\n",
              "  <div id=\"df-b6b7a84d-b222-47da-ae96-8d5eb2d5162c\">\n",
              "    <div class=\"colab-df-container\">\n",
              "      <div>\n",
              "<style scoped>\n",
              "    .dataframe tbody tr th:only-of-type {\n",
              "        vertical-align: middle;\n",
              "    }\n",
              "\n",
              "    .dataframe tbody tr th {\n",
              "        vertical-align: top;\n",
              "    }\n",
              "\n",
              "    .dataframe thead th {\n",
              "        text-align: right;\n",
              "    }\n",
              "</style>\n",
              "<table border=\"1\" class=\"dataframe\">\n",
              "  <thead>\n",
              "    <tr style=\"text-align: right;\">\n",
              "      <th></th>\n",
              "      <th>Close</th>\n",
              "      <th>Volume</th>\n",
              "      <th>Open</th>\n",
              "      <th>sentiments</th>\n",
              "    </tr>\n",
              "    <tr>\n",
              "      <th>Date</th>\n",
              "      <th></th>\n",
              "      <th></th>\n",
              "      <th></th>\n",
              "      <th></th>\n",
              "    </tr>\n",
              "  </thead>\n",
              "  <tbody>\n",
              "    <tr>\n",
              "      <th>2000-01-03</th>\n",
              "      <td>170.00</td>\n",
              "      <td>33259.0</td>\n",
              "      <td>166.00</td>\n",
              "      <td>NaN</td>\n",
              "    </tr>\n",
              "    <tr>\n",
              "      <th>2000-01-04</th>\n",
              "      <td>173.80</td>\n",
              "      <td>168710.0</td>\n",
              "      <td>182.00</td>\n",
              "      <td>NaN</td>\n",
              "    </tr>\n",
              "    <tr>\n",
              "      <th>2000-01-05</th>\n",
              "      <td>166.95</td>\n",
              "      <td>159820.0</td>\n",
              "      <td>170.00</td>\n",
              "      <td>NaN</td>\n",
              "    </tr>\n",
              "    <tr>\n",
              "      <th>2000-01-06</th>\n",
              "      <td>168.30</td>\n",
              "      <td>85026.0</td>\n",
              "      <td>168.00</td>\n",
              "      <td>NaN</td>\n",
              "    </tr>\n",
              "    <tr>\n",
              "      <th>2000-01-07</th>\n",
              "      <td>168.35</td>\n",
              "      <td>85144.0</td>\n",
              "      <td>162.15</td>\n",
              "      <td>NaN</td>\n",
              "    </tr>\n",
              "  </tbody>\n",
              "</table>\n",
              "</div>\n",
              "      <button class=\"colab-df-convert\" onclick=\"convertToInteractive('df-b6b7a84d-b222-47da-ae96-8d5eb2d5162c')\"\n",
              "              title=\"Convert this dataframe to an interactive table.\"\n",
              "              style=\"display:none;\">\n",
              "        \n",
              "  <svg xmlns=\"http://www.w3.org/2000/svg\" height=\"24px\"viewBox=\"0 0 24 24\"\n",
              "       width=\"24px\">\n",
              "    <path d=\"M0 0h24v24H0V0z\" fill=\"none\"/>\n",
              "    <path d=\"M18.56 5.44l.94 2.06.94-2.06 2.06-.94-2.06-.94-.94-2.06-.94 2.06-2.06.94zm-11 1L8.5 8.5l.94-2.06 2.06-.94-2.06-.94L8.5 2.5l-.94 2.06-2.06.94zm10 10l.94 2.06.94-2.06 2.06-.94-2.06-.94-.94-2.06-.94 2.06-2.06.94z\"/><path d=\"M17.41 7.96l-1.37-1.37c-.4-.4-.92-.59-1.43-.59-.52 0-1.04.2-1.43.59L10.3 9.45l-7.72 7.72c-.78.78-.78 2.05 0 2.83L4 21.41c.39.39.9.59 1.41.59.51 0 1.02-.2 1.41-.59l7.78-7.78 2.81-2.81c.8-.78.8-2.07 0-2.86zM5.41 20L4 18.59l7.72-7.72 1.47 1.35L5.41 20z\"/>\n",
              "  </svg>\n",
              "      </button>\n",
              "      \n",
              "  <style>\n",
              "    .colab-df-container {\n",
              "      display:flex;\n",
              "      flex-wrap:wrap;\n",
              "      gap: 12px;\n",
              "    }\n",
              "\n",
              "    .colab-df-convert {\n",
              "      background-color: #E8F0FE;\n",
              "      border: none;\n",
              "      border-radius: 50%;\n",
              "      cursor: pointer;\n",
              "      display: none;\n",
              "      fill: #1967D2;\n",
              "      height: 32px;\n",
              "      padding: 0 0 0 0;\n",
              "      width: 32px;\n",
              "    }\n",
              "\n",
              "    .colab-df-convert:hover {\n",
              "      background-color: #E2EBFA;\n",
              "      box-shadow: 0px 1px 2px rgba(60, 64, 67, 0.3), 0px 1px 3px 1px rgba(60, 64, 67, 0.15);\n",
              "      fill: #174EA6;\n",
              "    }\n",
              "\n",
              "    [theme=dark] .colab-df-convert {\n",
              "      background-color: #3B4455;\n",
              "      fill: #D2E3FC;\n",
              "    }\n",
              "\n",
              "    [theme=dark] .colab-df-convert:hover {\n",
              "      background-color: #434B5C;\n",
              "      box-shadow: 0px 1px 3px 1px rgba(0, 0, 0, 0.15);\n",
              "      filter: drop-shadow(0px 1px 2px rgba(0, 0, 0, 0.3));\n",
              "      fill: #FFFFFF;\n",
              "    }\n",
              "  </style>\n",
              "\n",
              "      <script>\n",
              "        const buttonEl =\n",
              "          document.querySelector('#df-b6b7a84d-b222-47da-ae96-8d5eb2d5162c button.colab-df-convert');\n",
              "        buttonEl.style.display =\n",
              "          google.colab.kernel.accessAllowed ? 'block' : 'none';\n",
              "\n",
              "        async function convertToInteractive(key) {\n",
              "          const element = document.querySelector('#df-b6b7a84d-b222-47da-ae96-8d5eb2d5162c');\n",
              "          const dataTable =\n",
              "            await google.colab.kernel.invokeFunction('convertToInteractive',\n",
              "                                                     [key], {});\n",
              "          if (!dataTable) return;\n",
              "\n",
              "          const docLinkHtml = 'Like what you see? Visit the ' +\n",
              "            '<a target=\"_blank\" href=https://colab.research.google.com/notebooks/data_table.ipynb>data table notebook</a>'\n",
              "            + ' to learn more about interactive tables.';\n",
              "          element.innerHTML = '';\n",
              "          dataTable['output_type'] = 'display_data';\n",
              "          await google.colab.output.renderOutput(dataTable, element);\n",
              "          const docLink = document.createElement('div');\n",
              "          docLink.innerHTML = docLinkHtml;\n",
              "          element.appendChild(docLink);\n",
              "        }\n",
              "      </script>\n",
              "    </div>\n",
              "  </div>\n",
              "  "
            ]
          },
          "metadata": {},
          "execution_count": 115
        }
      ],
      "source": [
        "final_df.head()"
      ],
      "id": "e49167a0-d338-4c4c-b885-7409fa8da4c8"
    },
    {
      "cell_type": "markdown",
      "source": [],
      "metadata": {
        "id": "yvdhsSP5mRKW"
      },
      "id": "yvdhsSP5mRKW"
    },
    {
      "cell_type": "code",
      "execution_count": 116,
      "metadata": {
        "colab": {
          "base_uri": "https://localhost:8080/"
        },
        "id": "b7894dba-6320-4872-9311-89f25474e92b",
        "outputId": "0dba9f73-754f-44f0-dac2-11ca56af1f05"
      },
      "outputs": [
        {
          "output_type": "execute_result",
          "data": {
            "text/plain": [
              "1"
            ]
          },
          "metadata": {},
          "execution_count": 116
        }
      ],
      "source": [
        "final_df['sentiments'].iloc[0:778].nunique()"
      ],
      "id": "b7894dba-6320-4872-9311-89f25474e92b"
    },
    {
      "cell_type": "code",
      "execution_count": 117,
      "metadata": {
        "colab": {
          "base_uri": "https://localhost:8080/"
        },
        "id": "c91b82b2-bf34-4d84-b887-7100b9c7e67b",
        "outputId": "d65b4f00-6cc5-4b98-d39c-9914f8122b40"
      },
      "outputs": [
        {
          "output_type": "execute_result",
          "data": {
            "text/plain": [
              "1"
            ]
          },
          "metadata": {},
          "execution_count": 117
        }
      ],
      "source": [
        "final_df['sentiments'].iloc[6842::].nunique()"
      ],
      "id": "c91b82b2-bf34-4d84-b887-7100b9c7e67b"
    },
    {
      "cell_type": "code",
      "execution_count": 118,
      "metadata": {
        "id": "286276d2-1c9a-44b4-a1a6-77753f967a80"
      },
      "outputs": [],
      "source": [
        "final_df=final_df.iloc[776:6844,:]"
      ],
      "id": "286276d2-1c9a-44b4-a1a6-77753f967a80"
    },
    {
      "cell_type": "code",
      "execution_count": 119,
      "metadata": {
        "colab": {
          "base_uri": "https://localhost:8080/",
          "height": 238
        },
        "id": "ac388434-2c6a-4023-8602-25d437a7c679",
        "outputId": "a42ec6e2-7092-4468-a018-01fffc1e9560"
      },
      "outputs": [
        {
          "output_type": "execute_result",
          "data": {
            "text/plain": [
              "             Close    Volume    Open  sentiments\n",
              "Date                                            \n",
              "2003-02-07  246.80  295679.0  243.00         NaN\n",
              "2003-02-10  246.35   78241.0  245.90   -0.832856\n",
              "2003-02-11  245.60  149638.0  244.75   -0.493905\n",
              "2003-02-12  248.70  278563.0  247.15   -0.426046\n",
              "2003-02-13     NaN       NaN     NaN   -0.552299"
            ],
            "text/html": [
              "\n",
              "  <div id=\"df-26cb3b62-751f-4a9a-b258-e330bb77ff99\">\n",
              "    <div class=\"colab-df-container\">\n",
              "      <div>\n",
              "<style scoped>\n",
              "    .dataframe tbody tr th:only-of-type {\n",
              "        vertical-align: middle;\n",
              "    }\n",
              "\n",
              "    .dataframe tbody tr th {\n",
              "        vertical-align: top;\n",
              "    }\n",
              "\n",
              "    .dataframe thead th {\n",
              "        text-align: right;\n",
              "    }\n",
              "</style>\n",
              "<table border=\"1\" class=\"dataframe\">\n",
              "  <thead>\n",
              "    <tr style=\"text-align: right;\">\n",
              "      <th></th>\n",
              "      <th>Close</th>\n",
              "      <th>Volume</th>\n",
              "      <th>Open</th>\n",
              "      <th>sentiments</th>\n",
              "    </tr>\n",
              "    <tr>\n",
              "      <th>Date</th>\n",
              "      <th></th>\n",
              "      <th></th>\n",
              "      <th></th>\n",
              "      <th></th>\n",
              "    </tr>\n",
              "  </thead>\n",
              "  <tbody>\n",
              "    <tr>\n",
              "      <th>2003-02-07</th>\n",
              "      <td>246.80</td>\n",
              "      <td>295679.0</td>\n",
              "      <td>243.00</td>\n",
              "      <td>NaN</td>\n",
              "    </tr>\n",
              "    <tr>\n",
              "      <th>2003-02-10</th>\n",
              "      <td>246.35</td>\n",
              "      <td>78241.0</td>\n",
              "      <td>245.90</td>\n",
              "      <td>-0.832856</td>\n",
              "    </tr>\n",
              "    <tr>\n",
              "      <th>2003-02-11</th>\n",
              "      <td>245.60</td>\n",
              "      <td>149638.0</td>\n",
              "      <td>244.75</td>\n",
              "      <td>-0.493905</td>\n",
              "    </tr>\n",
              "    <tr>\n",
              "      <th>2003-02-12</th>\n",
              "      <td>248.70</td>\n",
              "      <td>278563.0</td>\n",
              "      <td>247.15</td>\n",
              "      <td>-0.426046</td>\n",
              "    </tr>\n",
              "    <tr>\n",
              "      <th>2003-02-13</th>\n",
              "      <td>NaN</td>\n",
              "      <td>NaN</td>\n",
              "      <td>NaN</td>\n",
              "      <td>-0.552299</td>\n",
              "    </tr>\n",
              "  </tbody>\n",
              "</table>\n",
              "</div>\n",
              "      <button class=\"colab-df-convert\" onclick=\"convertToInteractive('df-26cb3b62-751f-4a9a-b258-e330bb77ff99')\"\n",
              "              title=\"Convert this dataframe to an interactive table.\"\n",
              "              style=\"display:none;\">\n",
              "        \n",
              "  <svg xmlns=\"http://www.w3.org/2000/svg\" height=\"24px\"viewBox=\"0 0 24 24\"\n",
              "       width=\"24px\">\n",
              "    <path d=\"M0 0h24v24H0V0z\" fill=\"none\"/>\n",
              "    <path d=\"M18.56 5.44l.94 2.06.94-2.06 2.06-.94-2.06-.94-.94-2.06-.94 2.06-2.06.94zm-11 1L8.5 8.5l.94-2.06 2.06-.94-2.06-.94L8.5 2.5l-.94 2.06-2.06.94zm10 10l.94 2.06.94-2.06 2.06-.94-2.06-.94-.94-2.06-.94 2.06-2.06.94z\"/><path d=\"M17.41 7.96l-1.37-1.37c-.4-.4-.92-.59-1.43-.59-.52 0-1.04.2-1.43.59L10.3 9.45l-7.72 7.72c-.78.78-.78 2.05 0 2.83L4 21.41c.39.39.9.59 1.41.59.51 0 1.02-.2 1.41-.59l7.78-7.78 2.81-2.81c.8-.78.8-2.07 0-2.86zM5.41 20L4 18.59l7.72-7.72 1.47 1.35L5.41 20z\"/>\n",
              "  </svg>\n",
              "      </button>\n",
              "      \n",
              "  <style>\n",
              "    .colab-df-container {\n",
              "      display:flex;\n",
              "      flex-wrap:wrap;\n",
              "      gap: 12px;\n",
              "    }\n",
              "\n",
              "    .colab-df-convert {\n",
              "      background-color: #E8F0FE;\n",
              "      border: none;\n",
              "      border-radius: 50%;\n",
              "      cursor: pointer;\n",
              "      display: none;\n",
              "      fill: #1967D2;\n",
              "      height: 32px;\n",
              "      padding: 0 0 0 0;\n",
              "      width: 32px;\n",
              "    }\n",
              "\n",
              "    .colab-df-convert:hover {\n",
              "      background-color: #E2EBFA;\n",
              "      box-shadow: 0px 1px 2px rgba(60, 64, 67, 0.3), 0px 1px 3px 1px rgba(60, 64, 67, 0.15);\n",
              "      fill: #174EA6;\n",
              "    }\n",
              "\n",
              "    [theme=dark] .colab-df-convert {\n",
              "      background-color: #3B4455;\n",
              "      fill: #D2E3FC;\n",
              "    }\n",
              "\n",
              "    [theme=dark] .colab-df-convert:hover {\n",
              "      background-color: #434B5C;\n",
              "      box-shadow: 0px 1px 3px 1px rgba(0, 0, 0, 0.15);\n",
              "      filter: drop-shadow(0px 1px 2px rgba(0, 0, 0, 0.3));\n",
              "      fill: #FFFFFF;\n",
              "    }\n",
              "  </style>\n",
              "\n",
              "      <script>\n",
              "        const buttonEl =\n",
              "          document.querySelector('#df-26cb3b62-751f-4a9a-b258-e330bb77ff99 button.colab-df-convert');\n",
              "        buttonEl.style.display =\n",
              "          google.colab.kernel.accessAllowed ? 'block' : 'none';\n",
              "\n",
              "        async function convertToInteractive(key) {\n",
              "          const element = document.querySelector('#df-26cb3b62-751f-4a9a-b258-e330bb77ff99');\n",
              "          const dataTable =\n",
              "            await google.colab.kernel.invokeFunction('convertToInteractive',\n",
              "                                                     [key], {});\n",
              "          if (!dataTable) return;\n",
              "\n",
              "          const docLinkHtml = 'Like what you see? Visit the ' +\n",
              "            '<a target=\"_blank\" href=https://colab.research.google.com/notebooks/data_table.ipynb>data table notebook</a>'\n",
              "            + ' to learn more about interactive tables.';\n",
              "          element.innerHTML = '';\n",
              "          dataTable['output_type'] = 'display_data';\n",
              "          await google.colab.output.renderOutput(dataTable, element);\n",
              "          const docLink = document.createElement('div');\n",
              "          docLink.innerHTML = docLinkHtml;\n",
              "          element.appendChild(docLink);\n",
              "        }\n",
              "      </script>\n",
              "    </div>\n",
              "  </div>\n",
              "  "
            ]
          },
          "metadata": {},
          "execution_count": 119
        }
      ],
      "source": [
        "final_df.head()"
      ],
      "id": "ac388434-2c6a-4023-8602-25d437a7c679"
    },
    {
      "cell_type": "code",
      "execution_count": 120,
      "metadata": {
        "colab": {
          "base_uri": "https://localhost:8080/",
          "height": 238
        },
        "id": "07cdac78-25ea-4608-aa3a-174d01fbc28a",
        "outputId": "84748550-7d16-4d5f-8ed8-f3cf74acb093"
      },
      "outputs": [
        {
          "output_type": "execute_result",
          "data": {
            "text/plain": [
              "             Close      Volume    Open  sentiments\n",
              "Date                                              \n",
              "2020-05-20  857.10  20007413.0  836.45   -0.995486\n",
              "2020-05-21  859.55  24239683.0  861.45   -0.394577\n",
              "2020-05-22  838.85  21025849.0  850.00   -0.970369\n",
              "2020-05-26  852.40  19002589.0  857.00   -0.964801\n",
              "2020-05-27  903.65  28013227.0  859.90         NaN"
            ],
            "text/html": [
              "\n",
              "  <div id=\"df-412da937-cb70-4028-a294-137cb2dfff7b\">\n",
              "    <div class=\"colab-df-container\">\n",
              "      <div>\n",
              "<style scoped>\n",
              "    .dataframe tbody tr th:only-of-type {\n",
              "        vertical-align: middle;\n",
              "    }\n",
              "\n",
              "    .dataframe tbody tr th {\n",
              "        vertical-align: top;\n",
              "    }\n",
              "\n",
              "    .dataframe thead th {\n",
              "        text-align: right;\n",
              "    }\n",
              "</style>\n",
              "<table border=\"1\" class=\"dataframe\">\n",
              "  <thead>\n",
              "    <tr style=\"text-align: right;\">\n",
              "      <th></th>\n",
              "      <th>Close</th>\n",
              "      <th>Volume</th>\n",
              "      <th>Open</th>\n",
              "      <th>sentiments</th>\n",
              "    </tr>\n",
              "    <tr>\n",
              "      <th>Date</th>\n",
              "      <th></th>\n",
              "      <th></th>\n",
              "      <th></th>\n",
              "      <th></th>\n",
              "    </tr>\n",
              "  </thead>\n",
              "  <tbody>\n",
              "    <tr>\n",
              "      <th>2020-05-20</th>\n",
              "      <td>857.10</td>\n",
              "      <td>20007413.0</td>\n",
              "      <td>836.45</td>\n",
              "      <td>-0.995486</td>\n",
              "    </tr>\n",
              "    <tr>\n",
              "      <th>2020-05-21</th>\n",
              "      <td>859.55</td>\n",
              "      <td>24239683.0</td>\n",
              "      <td>861.45</td>\n",
              "      <td>-0.394577</td>\n",
              "    </tr>\n",
              "    <tr>\n",
              "      <th>2020-05-22</th>\n",
              "      <td>838.85</td>\n",
              "      <td>21025849.0</td>\n",
              "      <td>850.00</td>\n",
              "      <td>-0.970369</td>\n",
              "    </tr>\n",
              "    <tr>\n",
              "      <th>2020-05-26</th>\n",
              "      <td>852.40</td>\n",
              "      <td>19002589.0</td>\n",
              "      <td>857.00</td>\n",
              "      <td>-0.964801</td>\n",
              "    </tr>\n",
              "    <tr>\n",
              "      <th>2020-05-27</th>\n",
              "      <td>903.65</td>\n",
              "      <td>28013227.0</td>\n",
              "      <td>859.90</td>\n",
              "      <td>NaN</td>\n",
              "    </tr>\n",
              "  </tbody>\n",
              "</table>\n",
              "</div>\n",
              "      <button class=\"colab-df-convert\" onclick=\"convertToInteractive('df-412da937-cb70-4028-a294-137cb2dfff7b')\"\n",
              "              title=\"Convert this dataframe to an interactive table.\"\n",
              "              style=\"display:none;\">\n",
              "        \n",
              "  <svg xmlns=\"http://www.w3.org/2000/svg\" height=\"24px\"viewBox=\"0 0 24 24\"\n",
              "       width=\"24px\">\n",
              "    <path d=\"M0 0h24v24H0V0z\" fill=\"none\"/>\n",
              "    <path d=\"M18.56 5.44l.94 2.06.94-2.06 2.06-.94-2.06-.94-.94-2.06-.94 2.06-2.06.94zm-11 1L8.5 8.5l.94-2.06 2.06-.94-2.06-.94L8.5 2.5l-.94 2.06-2.06.94zm10 10l.94 2.06.94-2.06 2.06-.94-2.06-.94-.94-2.06-.94 2.06-2.06.94z\"/><path d=\"M17.41 7.96l-1.37-1.37c-.4-.4-.92-.59-1.43-.59-.52 0-1.04.2-1.43.59L10.3 9.45l-7.72 7.72c-.78.78-.78 2.05 0 2.83L4 21.41c.39.39.9.59 1.41.59.51 0 1.02-.2 1.41-.59l7.78-7.78 2.81-2.81c.8-.78.8-2.07 0-2.86zM5.41 20L4 18.59l7.72-7.72 1.47 1.35L5.41 20z\"/>\n",
              "  </svg>\n",
              "      </button>\n",
              "      \n",
              "  <style>\n",
              "    .colab-df-container {\n",
              "      display:flex;\n",
              "      flex-wrap:wrap;\n",
              "      gap: 12px;\n",
              "    }\n",
              "\n",
              "    .colab-df-convert {\n",
              "      background-color: #E8F0FE;\n",
              "      border: none;\n",
              "      border-radius: 50%;\n",
              "      cursor: pointer;\n",
              "      display: none;\n",
              "      fill: #1967D2;\n",
              "      height: 32px;\n",
              "      padding: 0 0 0 0;\n",
              "      width: 32px;\n",
              "    }\n",
              "\n",
              "    .colab-df-convert:hover {\n",
              "      background-color: #E2EBFA;\n",
              "      box-shadow: 0px 1px 2px rgba(60, 64, 67, 0.3), 0px 1px 3px 1px rgba(60, 64, 67, 0.15);\n",
              "      fill: #174EA6;\n",
              "    }\n",
              "\n",
              "    [theme=dark] .colab-df-convert {\n",
              "      background-color: #3B4455;\n",
              "      fill: #D2E3FC;\n",
              "    }\n",
              "\n",
              "    [theme=dark] .colab-df-convert:hover {\n",
              "      background-color: #434B5C;\n",
              "      box-shadow: 0px 1px 3px 1px rgba(0, 0, 0, 0.15);\n",
              "      filter: drop-shadow(0px 1px 2px rgba(0, 0, 0, 0.3));\n",
              "      fill: #FFFFFF;\n",
              "    }\n",
              "  </style>\n",
              "\n",
              "      <script>\n",
              "        const buttonEl =\n",
              "          document.querySelector('#df-412da937-cb70-4028-a294-137cb2dfff7b button.colab-df-convert');\n",
              "        buttonEl.style.display =\n",
              "          google.colab.kernel.accessAllowed ? 'block' : 'none';\n",
              "\n",
              "        async function convertToInteractive(key) {\n",
              "          const element = document.querySelector('#df-412da937-cb70-4028-a294-137cb2dfff7b');\n",
              "          const dataTable =\n",
              "            await google.colab.kernel.invokeFunction('convertToInteractive',\n",
              "                                                     [key], {});\n",
              "          if (!dataTable) return;\n",
              "\n",
              "          const docLinkHtml = 'Like what you see? Visit the ' +\n",
              "            '<a target=\"_blank\" href=https://colab.research.google.com/notebooks/data_table.ipynb>data table notebook</a>'\n",
              "            + ' to learn more about interactive tables.';\n",
              "          element.innerHTML = '';\n",
              "          dataTable['output_type'] = 'display_data';\n",
              "          await google.colab.output.renderOutput(dataTable, element);\n",
              "          const docLink = document.createElement('div');\n",
              "          docLink.innerHTML = docLinkHtml;\n",
              "          element.appendChild(docLink);\n",
              "        }\n",
              "      </script>\n",
              "    </div>\n",
              "  </div>\n",
              "  "
            ]
          },
          "metadata": {},
          "execution_count": 120
        }
      ],
      "source": [
        "final_df.tail()"
      ],
      "id": "07cdac78-25ea-4608-aa3a-174d01fbc28a"
    },
    {
      "cell_type": "code",
      "execution_count": 121,
      "metadata": {
        "colab": {
          "base_uri": "https://localhost:8080/"
        },
        "id": "a24fe711-d2c0-4f98-97c1-22349c339f9f",
        "outputId": "1f0a629c-b056-4bef-8ee7-faa6e2c17c5b"
      },
      "outputs": [
        {
          "output_type": "execute_result",
          "data": {
            "text/plain": [
              "Close         1771\n",
              "Volume        1771\n",
              "Open          1771\n",
              "sentiments      31\n",
              "dtype: int64"
            ]
          },
          "metadata": {},
          "execution_count": 121
        }
      ],
      "source": [
        "final_df.isnull().sum()"
      ],
      "id": "a24fe711-d2c0-4f98-97c1-22349c339f9f"
    },
    {
      "cell_type": "code",
      "source": [
        "# for few of days we havent got any news and hence considering sentiments as nutral\n",
        "# for saterdays and sundays , friday's values are carry forwarded"
      ],
      "metadata": {
        "id": "yUoD4tmT-YtQ"
      },
      "id": "yUoD4tmT-YtQ",
      "execution_count": 240,
      "outputs": []
    },
    {
      "cell_type": "code",
      "execution_count": 122,
      "metadata": {
        "id": "f9e384bf-5d2e-4194-b0ae-10ceed7e7891"
      },
      "outputs": [],
      "source": [
        "final_df['sentiments'].fillna(0.0,inplace=True)"
      ],
      "id": "f9e384bf-5d2e-4194-b0ae-10ceed7e7891"
    },
    {
      "cell_type": "code",
      "execution_count": 123,
      "metadata": {
        "id": "8918dac6-c645-4ea4-b79f-a4f10fd2998d"
      },
      "outputs": [],
      "source": [
        "final_df['Close']=final_df['Close'].ffill()"
      ],
      "id": "8918dac6-c645-4ea4-b79f-a4f10fd2998d"
    },
    {
      "cell_type": "code",
      "execution_count": 124,
      "metadata": {
        "id": "df0dbced-aa09-44e9-921c-02715f86ec7e"
      },
      "outputs": [],
      "source": [
        "final_df['Volume']=final_df['Volume'].ffill()"
      ],
      "id": "df0dbced-aa09-44e9-921c-02715f86ec7e"
    },
    {
      "cell_type": "code",
      "execution_count": 125,
      "metadata": {
        "id": "73fc697e-715f-4006-b26d-a905310ce182"
      },
      "outputs": [],
      "source": [
        "final_df['Open']=final_df['Open'].ffill()"
      ],
      "id": "73fc697e-715f-4006-b26d-a905310ce182"
    },
    {
      "cell_type": "code",
      "execution_count": 126,
      "metadata": {
        "colab": {
          "base_uri": "https://localhost:8080/"
        },
        "id": "810724c2-e6f7-4fa3-9bb5-2a042066f6a5",
        "outputId": "9457e997-4ca3-449b-ce7f-bad66c901f91"
      },
      "outputs": [
        {
          "output_type": "execute_result",
          "data": {
            "text/plain": [
              "Close         0\n",
              "Volume        0\n",
              "Open          0\n",
              "sentiments    0\n",
              "dtype: int64"
            ]
          },
          "metadata": {},
          "execution_count": 126
        }
      ],
      "source": [
        "final_df.isnull().sum()"
      ],
      "id": "810724c2-e6f7-4fa3-9bb5-2a042066f6a5"
    },
    {
      "cell_type": "markdown",
      "metadata": {
        "id": "57b3b04c-547d-4d45-94b2-2730e126bda1"
      },
      "source": [
        "### Appling lstm model without sentiments"
      ],
      "id": "57b3b04c-547d-4d45-94b2-2730e126bda1"
    },
    {
      "cell_type": "code",
      "execution_count": 127,
      "metadata": {
        "colab": {
          "base_uri": "https://localhost:8080/",
          "height": 238
        },
        "id": "04e6ad57-5b1d-4fbb-b41e-e2ccfdd70080",
        "outputId": "50d95d08-0a12-4453-b3d5-287d8ad6821b"
      },
      "outputs": [
        {
          "output_type": "execute_result",
          "data": {
            "text/plain": [
              "             Close    Volume    Open  sentiments\n",
              "Date                                            \n",
              "2003-02-07  246.80  295679.0  243.00    0.000000\n",
              "2003-02-10  246.35   78241.0  245.90   -0.832856\n",
              "2003-02-11  245.60  149638.0  244.75   -0.493905\n",
              "2003-02-12  248.70  278563.0  247.15   -0.426046\n",
              "2003-02-13  248.70  278563.0  247.15   -0.552299"
            ],
            "text/html": [
              "\n",
              "  <div id=\"df-413cb5b7-35f6-421c-89e5-527c90b0a234\">\n",
              "    <div class=\"colab-df-container\">\n",
              "      <div>\n",
              "<style scoped>\n",
              "    .dataframe tbody tr th:only-of-type {\n",
              "        vertical-align: middle;\n",
              "    }\n",
              "\n",
              "    .dataframe tbody tr th {\n",
              "        vertical-align: top;\n",
              "    }\n",
              "\n",
              "    .dataframe thead th {\n",
              "        text-align: right;\n",
              "    }\n",
              "</style>\n",
              "<table border=\"1\" class=\"dataframe\">\n",
              "  <thead>\n",
              "    <tr style=\"text-align: right;\">\n",
              "      <th></th>\n",
              "      <th>Close</th>\n",
              "      <th>Volume</th>\n",
              "      <th>Open</th>\n",
              "      <th>sentiments</th>\n",
              "    </tr>\n",
              "    <tr>\n",
              "      <th>Date</th>\n",
              "      <th></th>\n",
              "      <th></th>\n",
              "      <th></th>\n",
              "      <th></th>\n",
              "    </tr>\n",
              "  </thead>\n",
              "  <tbody>\n",
              "    <tr>\n",
              "      <th>2003-02-07</th>\n",
              "      <td>246.80</td>\n",
              "      <td>295679.0</td>\n",
              "      <td>243.00</td>\n",
              "      <td>0.000000</td>\n",
              "    </tr>\n",
              "    <tr>\n",
              "      <th>2003-02-10</th>\n",
              "      <td>246.35</td>\n",
              "      <td>78241.0</td>\n",
              "      <td>245.90</td>\n",
              "      <td>-0.832856</td>\n",
              "    </tr>\n",
              "    <tr>\n",
              "      <th>2003-02-11</th>\n",
              "      <td>245.60</td>\n",
              "      <td>149638.0</td>\n",
              "      <td>244.75</td>\n",
              "      <td>-0.493905</td>\n",
              "    </tr>\n",
              "    <tr>\n",
              "      <th>2003-02-12</th>\n",
              "      <td>248.70</td>\n",
              "      <td>278563.0</td>\n",
              "      <td>247.15</td>\n",
              "      <td>-0.426046</td>\n",
              "    </tr>\n",
              "    <tr>\n",
              "      <th>2003-02-13</th>\n",
              "      <td>248.70</td>\n",
              "      <td>278563.0</td>\n",
              "      <td>247.15</td>\n",
              "      <td>-0.552299</td>\n",
              "    </tr>\n",
              "  </tbody>\n",
              "</table>\n",
              "</div>\n",
              "      <button class=\"colab-df-convert\" onclick=\"convertToInteractive('df-413cb5b7-35f6-421c-89e5-527c90b0a234')\"\n",
              "              title=\"Convert this dataframe to an interactive table.\"\n",
              "              style=\"display:none;\">\n",
              "        \n",
              "  <svg xmlns=\"http://www.w3.org/2000/svg\" height=\"24px\"viewBox=\"0 0 24 24\"\n",
              "       width=\"24px\">\n",
              "    <path d=\"M0 0h24v24H0V0z\" fill=\"none\"/>\n",
              "    <path d=\"M18.56 5.44l.94 2.06.94-2.06 2.06-.94-2.06-.94-.94-2.06-.94 2.06-2.06.94zm-11 1L8.5 8.5l.94-2.06 2.06-.94-2.06-.94L8.5 2.5l-.94 2.06-2.06.94zm10 10l.94 2.06.94-2.06 2.06-.94-2.06-.94-.94-2.06-.94 2.06-2.06.94z\"/><path d=\"M17.41 7.96l-1.37-1.37c-.4-.4-.92-.59-1.43-.59-.52 0-1.04.2-1.43.59L10.3 9.45l-7.72 7.72c-.78.78-.78 2.05 0 2.83L4 21.41c.39.39.9.59 1.41.59.51 0 1.02-.2 1.41-.59l7.78-7.78 2.81-2.81c.8-.78.8-2.07 0-2.86zM5.41 20L4 18.59l7.72-7.72 1.47 1.35L5.41 20z\"/>\n",
              "  </svg>\n",
              "      </button>\n",
              "      \n",
              "  <style>\n",
              "    .colab-df-container {\n",
              "      display:flex;\n",
              "      flex-wrap:wrap;\n",
              "      gap: 12px;\n",
              "    }\n",
              "\n",
              "    .colab-df-convert {\n",
              "      background-color: #E8F0FE;\n",
              "      border: none;\n",
              "      border-radius: 50%;\n",
              "      cursor: pointer;\n",
              "      display: none;\n",
              "      fill: #1967D2;\n",
              "      height: 32px;\n",
              "      padding: 0 0 0 0;\n",
              "      width: 32px;\n",
              "    }\n",
              "\n",
              "    .colab-df-convert:hover {\n",
              "      background-color: #E2EBFA;\n",
              "      box-shadow: 0px 1px 2px rgba(60, 64, 67, 0.3), 0px 1px 3px 1px rgba(60, 64, 67, 0.15);\n",
              "      fill: #174EA6;\n",
              "    }\n",
              "\n",
              "    [theme=dark] .colab-df-convert {\n",
              "      background-color: #3B4455;\n",
              "      fill: #D2E3FC;\n",
              "    }\n",
              "\n",
              "    [theme=dark] .colab-df-convert:hover {\n",
              "      background-color: #434B5C;\n",
              "      box-shadow: 0px 1px 3px 1px rgba(0, 0, 0, 0.15);\n",
              "      filter: drop-shadow(0px 1px 2px rgba(0, 0, 0, 0.3));\n",
              "      fill: #FFFFFF;\n",
              "    }\n",
              "  </style>\n",
              "\n",
              "      <script>\n",
              "        const buttonEl =\n",
              "          document.querySelector('#df-413cb5b7-35f6-421c-89e5-527c90b0a234 button.colab-df-convert');\n",
              "        buttonEl.style.display =\n",
              "          google.colab.kernel.accessAllowed ? 'block' : 'none';\n",
              "\n",
              "        async function convertToInteractive(key) {\n",
              "          const element = document.querySelector('#df-413cb5b7-35f6-421c-89e5-527c90b0a234');\n",
              "          const dataTable =\n",
              "            await google.colab.kernel.invokeFunction('convertToInteractive',\n",
              "                                                     [key], {});\n",
              "          if (!dataTable) return;\n",
              "\n",
              "          const docLinkHtml = 'Like what you see? Visit the ' +\n",
              "            '<a target=\"_blank\" href=https://colab.research.google.com/notebooks/data_table.ipynb>data table notebook</a>'\n",
              "            + ' to learn more about interactive tables.';\n",
              "          element.innerHTML = '';\n",
              "          dataTable['output_type'] = 'display_data';\n",
              "          await google.colab.output.renderOutput(dataTable, element);\n",
              "          const docLink = document.createElement('div');\n",
              "          docLink.innerHTML = docLinkHtml;\n",
              "          element.appendChild(docLink);\n",
              "        }\n",
              "      </script>\n",
              "    </div>\n",
              "  </div>\n",
              "  "
            ]
          },
          "metadata": {},
          "execution_count": 127
        }
      ],
      "source": [
        "final_df.head()"
      ],
      "id": "04e6ad57-5b1d-4fbb-b41e-e2ccfdd70080"
    },
    {
      "cell_type": "code",
      "execution_count": 128,
      "metadata": {
        "id": "3e9274cd-767a-40de-aed2-055e811097cc"
      },
      "outputs": [],
      "source": [
        "a=final_df.loc[:,['sentiments']]"
      ],
      "id": "3e9274cd-767a-40de-aed2-055e811097cc"
    },
    {
      "cell_type": "code",
      "execution_count": 129,
      "metadata": {
        "colab": {
          "base_uri": "https://localhost:8080/"
        },
        "id": "3830ba11-543c-4712-8d82-8db978f8ad54",
        "outputId": "dd38abd1-4070-47dc-f29a-a93ee0550a6c"
      },
      "outputs": [
        {
          "output_type": "execute_result",
          "data": {
            "text/plain": [
              "6068"
            ]
          },
          "metadata": {},
          "execution_count": 129
        }
      ],
      "source": [
        "len(a)"
      ],
      "id": "3830ba11-543c-4712-8d82-8db978f8ad54"
    },
    {
      "cell_type": "code",
      "execution_count": 130,
      "metadata": {
        "id": "3fc140e9-95e6-4205-a184-fd641d00de71"
      },
      "outputs": [],
      "source": [
        "final_df1=final_df.iloc[:,:-1]"
      ],
      "id": "3fc140e9-95e6-4205-a184-fd641d00de71"
    },
    {
      "cell_type": "code",
      "execution_count": 131,
      "metadata": {
        "id": "5b2b0a31-c074-4e32-96f0-3774b515144e"
      },
      "outputs": [],
      "source": [
        "import numpy as np\n",
        "import math"
      ],
      "id": "5b2b0a31-c074-4e32-96f0-3774b515144e"
    },
    {
      "cell_type": "code",
      "execution_count": 132,
      "metadata": {
        "id": "3f77ef70-e2e7-4f10-bfac-a6b09c941b8d"
      },
      "outputs": [],
      "source": [
        "import tensorflow as tf"
      ],
      "id": "3f77ef70-e2e7-4f10-bfac-a6b09c941b8d"
    },
    {
      "cell_type": "code",
      "execution_count": 133,
      "metadata": {
        "id": "0042b5e3-e67e-471b-8ff4-73715b2e8e2f"
      },
      "outputs": [],
      "source": [
        "import keras"
      ],
      "id": "0042b5e3-e67e-471b-8ff4-73715b2e8e2f"
    },
    {
      "cell_type": "code",
      "execution_count": 134,
      "metadata": {
        "id": "577019e5-75e1-47aa-a9c1-b288b810eb55"
      },
      "outputs": [],
      "source": [
        "from keras.models import Sequential\n",
        "from keras.layers import LSTM\n",
        "from keras.layers import Dense\n",
        "from keras.layers import Flatten"
      ],
      "id": "577019e5-75e1-47aa-a9c1-b288b810eb55"
    },
    {
      "cell_type": "code",
      "execution_count": 135,
      "metadata": {
        "id": "3a30261d-dcaf-45c9-9c77-a0332ee4140c"
      },
      "outputs": [],
      "source": [
        "from sklearn.preprocessing import StandardScaler"
      ],
      "id": "3a30261d-dcaf-45c9-9c77-a0332ee4140c"
    },
    {
      "cell_type": "code",
      "execution_count": 136,
      "metadata": {
        "id": "f367976d-63c0-43b4-a210-d2f7473a3ecb"
      },
      "outputs": [],
      "source": [
        "std_df=StandardScaler()\n"
      ],
      "id": "f367976d-63c0-43b4-a210-d2f7473a3ecb"
    },
    {
      "cell_type": "code",
      "execution_count": 137,
      "metadata": {
        "id": "075458f1-3b2f-4781-8cc2-f3fc5a354e18"
      },
      "outputs": [],
      "source": [
        "std_df1=std_df.fit(final_df1)"
      ],
      "id": "075458f1-3b2f-4781-8cc2-f3fc5a354e18"
    },
    {
      "cell_type": "code",
      "execution_count": 138,
      "metadata": {
        "id": "f1311b29-f4d1-412f-ae3d-947fc509dbb0"
      },
      "outputs": [],
      "source": [
        "std_df2=std_df.transform(final_df1)"
      ],
      "id": "f1311b29-f4d1-412f-ae3d-947fc509dbb0"
    },
    {
      "cell_type": "code",
      "execution_count": 139,
      "metadata": {
        "id": "9bcd3eef-c9ba-43fc-9d62-6b2bfe6d84e6"
      },
      "outputs": [],
      "source": [
        "df3=pd.DataFrame(std_df2)"
      ],
      "id": "9bcd3eef-c9ba-43fc-9d62-6b2bfe6d84e6"
    },
    {
      "cell_type": "code",
      "execution_count": 140,
      "metadata": {
        "id": "63033aa1-889c-451e-ac8a-20be4f3a529b"
      },
      "outputs": [],
      "source": [
        "a=list(final_df1.columns)"
      ],
      "id": "63033aa1-889c-451e-ac8a-20be4f3a529b"
    },
    {
      "cell_type": "code",
      "execution_count": 141,
      "metadata": {
        "id": "f8443f3f-d592-4ae5-9278-263bc8d6574a"
      },
      "outputs": [],
      "source": [
        "df3.columns=a"
      ],
      "id": "f8443f3f-d592-4ae5-9278-263bc8d6574a"
    },
    {
      "cell_type": "code",
      "execution_count": 142,
      "metadata": {
        "colab": {
          "base_uri": "https://localhost:8080/",
          "height": 708
        },
        "id": "06e8682f-b0d7-40db-b2a6-964206053c7c",
        "outputId": "abb4734b-55a9-4b48-e026-baab7f11b51d"
      },
      "outputs": [
        {
          "output_type": "execute_result",
          "data": {
            "text/plain": [
              "       Close    Volume      Open\n",
              "0  -1.495911 -0.472223 -1.502970\n",
              "1  -1.496660 -0.533972 -1.498139\n",
              "2  -1.497908 -0.513696 -1.500055\n",
              "3  -1.492748 -0.477083 -1.496057\n",
              "4  -1.492748 -0.477083 -1.496057\n",
              "5  -1.493497 -0.501215 -1.492143\n",
              "6  -1.493497 -0.501215 -1.492143\n",
              "7  -1.493497 -0.543947 -1.496224\n",
              "8  -1.496992 -0.538785 -1.495474\n",
              "9  -1.487672 -0.459290 -1.491143\n",
              "10 -1.490002 -0.522835 -1.482982\n",
              "11 -1.490252 -0.527448 -1.488062\n",
              "12 -1.490252 -0.527448 -1.488062\n",
              "13 -1.494579 -0.544029 -1.496224\n",
              "14 -1.498074 -0.549876 -1.495974\n",
              "15 -1.492915 -0.533289 -1.497140\n",
              "16 -1.493331 -0.536545 -1.493808\n",
              "17 -1.490834 -0.495763 -1.494142\n",
              "18 -1.502485 -0.545920 -1.491227\n",
              "19 -1.502401 -0.540241 -1.504552\n",
              "20 -1.505314 -0.536026 -1.503386"
            ],
            "text/html": [
              "\n",
              "  <div id=\"df-d81a31cc-13ed-4c30-99c7-4d69055ef789\">\n",
              "    <div class=\"colab-df-container\">\n",
              "      <div>\n",
              "<style scoped>\n",
              "    .dataframe tbody tr th:only-of-type {\n",
              "        vertical-align: middle;\n",
              "    }\n",
              "\n",
              "    .dataframe tbody tr th {\n",
              "        vertical-align: top;\n",
              "    }\n",
              "\n",
              "    .dataframe thead th {\n",
              "        text-align: right;\n",
              "    }\n",
              "</style>\n",
              "<table border=\"1\" class=\"dataframe\">\n",
              "  <thead>\n",
              "    <tr style=\"text-align: right;\">\n",
              "      <th></th>\n",
              "      <th>Close</th>\n",
              "      <th>Volume</th>\n",
              "      <th>Open</th>\n",
              "    </tr>\n",
              "  </thead>\n",
              "  <tbody>\n",
              "    <tr>\n",
              "      <th>0</th>\n",
              "      <td>-1.495911</td>\n",
              "      <td>-0.472223</td>\n",
              "      <td>-1.502970</td>\n",
              "    </tr>\n",
              "    <tr>\n",
              "      <th>1</th>\n",
              "      <td>-1.496660</td>\n",
              "      <td>-0.533972</td>\n",
              "      <td>-1.498139</td>\n",
              "    </tr>\n",
              "    <tr>\n",
              "      <th>2</th>\n",
              "      <td>-1.497908</td>\n",
              "      <td>-0.513696</td>\n",
              "      <td>-1.500055</td>\n",
              "    </tr>\n",
              "    <tr>\n",
              "      <th>3</th>\n",
              "      <td>-1.492748</td>\n",
              "      <td>-0.477083</td>\n",
              "      <td>-1.496057</td>\n",
              "    </tr>\n",
              "    <tr>\n",
              "      <th>4</th>\n",
              "      <td>-1.492748</td>\n",
              "      <td>-0.477083</td>\n",
              "      <td>-1.496057</td>\n",
              "    </tr>\n",
              "    <tr>\n",
              "      <th>5</th>\n",
              "      <td>-1.493497</td>\n",
              "      <td>-0.501215</td>\n",
              "      <td>-1.492143</td>\n",
              "    </tr>\n",
              "    <tr>\n",
              "      <th>6</th>\n",
              "      <td>-1.493497</td>\n",
              "      <td>-0.501215</td>\n",
              "      <td>-1.492143</td>\n",
              "    </tr>\n",
              "    <tr>\n",
              "      <th>7</th>\n",
              "      <td>-1.493497</td>\n",
              "      <td>-0.543947</td>\n",
              "      <td>-1.496224</td>\n",
              "    </tr>\n",
              "    <tr>\n",
              "      <th>8</th>\n",
              "      <td>-1.496992</td>\n",
              "      <td>-0.538785</td>\n",
              "      <td>-1.495474</td>\n",
              "    </tr>\n",
              "    <tr>\n",
              "      <th>9</th>\n",
              "      <td>-1.487672</td>\n",
              "      <td>-0.459290</td>\n",
              "      <td>-1.491143</td>\n",
              "    </tr>\n",
              "    <tr>\n",
              "      <th>10</th>\n",
              "      <td>-1.490002</td>\n",
              "      <td>-0.522835</td>\n",
              "      <td>-1.482982</td>\n",
              "    </tr>\n",
              "    <tr>\n",
              "      <th>11</th>\n",
              "      <td>-1.490252</td>\n",
              "      <td>-0.527448</td>\n",
              "      <td>-1.488062</td>\n",
              "    </tr>\n",
              "    <tr>\n",
              "      <th>12</th>\n",
              "      <td>-1.490252</td>\n",
              "      <td>-0.527448</td>\n",
              "      <td>-1.488062</td>\n",
              "    </tr>\n",
              "    <tr>\n",
              "      <th>13</th>\n",
              "      <td>-1.494579</td>\n",
              "      <td>-0.544029</td>\n",
              "      <td>-1.496224</td>\n",
              "    </tr>\n",
              "    <tr>\n",
              "      <th>14</th>\n",
              "      <td>-1.498074</td>\n",
              "      <td>-0.549876</td>\n",
              "      <td>-1.495974</td>\n",
              "    </tr>\n",
              "    <tr>\n",
              "      <th>15</th>\n",
              "      <td>-1.492915</td>\n",
              "      <td>-0.533289</td>\n",
              "      <td>-1.497140</td>\n",
              "    </tr>\n",
              "    <tr>\n",
              "      <th>16</th>\n",
              "      <td>-1.493331</td>\n",
              "      <td>-0.536545</td>\n",
              "      <td>-1.493808</td>\n",
              "    </tr>\n",
              "    <tr>\n",
              "      <th>17</th>\n",
              "      <td>-1.490834</td>\n",
              "      <td>-0.495763</td>\n",
              "      <td>-1.494142</td>\n",
              "    </tr>\n",
              "    <tr>\n",
              "      <th>18</th>\n",
              "      <td>-1.502485</td>\n",
              "      <td>-0.545920</td>\n",
              "      <td>-1.491227</td>\n",
              "    </tr>\n",
              "    <tr>\n",
              "      <th>19</th>\n",
              "      <td>-1.502401</td>\n",
              "      <td>-0.540241</td>\n",
              "      <td>-1.504552</td>\n",
              "    </tr>\n",
              "    <tr>\n",
              "      <th>20</th>\n",
              "      <td>-1.505314</td>\n",
              "      <td>-0.536026</td>\n",
              "      <td>-1.503386</td>\n",
              "    </tr>\n",
              "  </tbody>\n",
              "</table>\n",
              "</div>\n",
              "      <button class=\"colab-df-convert\" onclick=\"convertToInteractive('df-d81a31cc-13ed-4c30-99c7-4d69055ef789')\"\n",
              "              title=\"Convert this dataframe to an interactive table.\"\n",
              "              style=\"display:none;\">\n",
              "        \n",
              "  <svg xmlns=\"http://www.w3.org/2000/svg\" height=\"24px\"viewBox=\"0 0 24 24\"\n",
              "       width=\"24px\">\n",
              "    <path d=\"M0 0h24v24H0V0z\" fill=\"none\"/>\n",
              "    <path d=\"M18.56 5.44l.94 2.06.94-2.06 2.06-.94-2.06-.94-.94-2.06-.94 2.06-2.06.94zm-11 1L8.5 8.5l.94-2.06 2.06-.94-2.06-.94L8.5 2.5l-.94 2.06-2.06.94zm10 10l.94 2.06.94-2.06 2.06-.94-2.06-.94-.94-2.06-.94 2.06-2.06.94z\"/><path d=\"M17.41 7.96l-1.37-1.37c-.4-.4-.92-.59-1.43-.59-.52 0-1.04.2-1.43.59L10.3 9.45l-7.72 7.72c-.78.78-.78 2.05 0 2.83L4 21.41c.39.39.9.59 1.41.59.51 0 1.02-.2 1.41-.59l7.78-7.78 2.81-2.81c.8-.78.8-2.07 0-2.86zM5.41 20L4 18.59l7.72-7.72 1.47 1.35L5.41 20z\"/>\n",
              "  </svg>\n",
              "      </button>\n",
              "      \n",
              "  <style>\n",
              "    .colab-df-container {\n",
              "      display:flex;\n",
              "      flex-wrap:wrap;\n",
              "      gap: 12px;\n",
              "    }\n",
              "\n",
              "    .colab-df-convert {\n",
              "      background-color: #E8F0FE;\n",
              "      border: none;\n",
              "      border-radius: 50%;\n",
              "      cursor: pointer;\n",
              "      display: none;\n",
              "      fill: #1967D2;\n",
              "      height: 32px;\n",
              "      padding: 0 0 0 0;\n",
              "      width: 32px;\n",
              "    }\n",
              "\n",
              "    .colab-df-convert:hover {\n",
              "      background-color: #E2EBFA;\n",
              "      box-shadow: 0px 1px 2px rgba(60, 64, 67, 0.3), 0px 1px 3px 1px rgba(60, 64, 67, 0.15);\n",
              "      fill: #174EA6;\n",
              "    }\n",
              "\n",
              "    [theme=dark] .colab-df-convert {\n",
              "      background-color: #3B4455;\n",
              "      fill: #D2E3FC;\n",
              "    }\n",
              "\n",
              "    [theme=dark] .colab-df-convert:hover {\n",
              "      background-color: #434B5C;\n",
              "      box-shadow: 0px 1px 3px 1px rgba(0, 0, 0, 0.15);\n",
              "      filter: drop-shadow(0px 1px 2px rgba(0, 0, 0, 0.3));\n",
              "      fill: #FFFFFF;\n",
              "    }\n",
              "  </style>\n",
              "\n",
              "      <script>\n",
              "        const buttonEl =\n",
              "          document.querySelector('#df-d81a31cc-13ed-4c30-99c7-4d69055ef789 button.colab-df-convert');\n",
              "        buttonEl.style.display =\n",
              "          google.colab.kernel.accessAllowed ? 'block' : 'none';\n",
              "\n",
              "        async function convertToInteractive(key) {\n",
              "          const element = document.querySelector('#df-d81a31cc-13ed-4c30-99c7-4d69055ef789');\n",
              "          const dataTable =\n",
              "            await google.colab.kernel.invokeFunction('convertToInteractive',\n",
              "                                                     [key], {});\n",
              "          if (!dataTable) return;\n",
              "\n",
              "          const docLinkHtml = 'Like what you see? Visit the ' +\n",
              "            '<a target=\"_blank\" href=https://colab.research.google.com/notebooks/data_table.ipynb>data table notebook</a>'\n",
              "            + ' to learn more about interactive tables.';\n",
              "          element.innerHTML = '';\n",
              "          dataTable['output_type'] = 'display_data';\n",
              "          await google.colab.output.renderOutput(dataTable, element);\n",
              "          const docLink = document.createElement('div');\n",
              "          docLink.innerHTML = docLinkHtml;\n",
              "          element.appendChild(docLink);\n",
              "        }\n",
              "      </script>\n",
              "    </div>\n",
              "  </div>\n",
              "  "
            ]
          },
          "metadata": {},
          "execution_count": 142
        }
      ],
      "source": [
        "df3.head(21)"
      ],
      "id": "06e8682f-b0d7-40db-b2a6-964206053c7c"
    },
    {
      "cell_type": "code",
      "execution_count": 143,
      "metadata": {
        "id": "92521436-fc1d-423d-be04-6a41421b3bc6"
      },
      "outputs": [],
      "source": [
        "train_df_size=len(df3)*0.8"
      ],
      "id": "92521436-fc1d-423d-be04-6a41421b3bc6"
    },
    {
      "cell_type": "code",
      "execution_count": 144,
      "metadata": {
        "id": "5a739b2f-7379-4538-8983-518a88fc2d53"
      },
      "outputs": [],
      "source": [
        "test_df_size=len(df3)-train_df_size"
      ],
      "id": "5a739b2f-7379-4538-8983-518a88fc2d53"
    },
    {
      "cell_type": "code",
      "execution_count": 145,
      "metadata": {
        "colab": {
          "base_uri": "https://localhost:8080/"
        },
        "id": "bff32297-ccab-48a0-a9a9-46e7e8a59479",
        "outputId": "13355756-1c75-45e2-8c2d-847b1ec1d517"
      },
      "outputs": [
        {
          "output_type": "execute_result",
          "data": {
            "text/plain": [
              "4854.400000000001"
            ]
          },
          "metadata": {},
          "execution_count": 145
        }
      ],
      "source": [
        "train_df_size"
      ],
      "id": "bff32297-ccab-48a0-a9a9-46e7e8a59479"
    },
    {
      "cell_type": "code",
      "execution_count": 146,
      "metadata": {
        "colab": {
          "base_uri": "https://localhost:8080/"
        },
        "id": "57334ada-bee9-434c-9ead-6c4815af76be",
        "outputId": "23c8de1d-b5d7-4ffb-f028-45b0b0fdb3fe"
      },
      "outputs": [
        {
          "output_type": "execute_result",
          "data": {
            "text/plain": [
              "1213.5999999999995"
            ]
          },
          "metadata": {},
          "execution_count": 146
        }
      ],
      "source": [
        "test_df_size"
      ],
      "id": "57334ada-bee9-434c-9ead-6c4815af76be"
    },
    {
      "cell_type": "code",
      "execution_count": 147,
      "metadata": {
        "id": "48975c2b-4310-4f42-a40f-0486920a0d68"
      },
      "outputs": [],
      "source": [
        "train_df=df3.iloc[0:4854,::]"
      ],
      "id": "48975c2b-4310-4f42-a40f-0486920a0d68"
    },
    {
      "cell_type": "code",
      "execution_count": 148,
      "metadata": {
        "id": "df0f7b87-928a-446c-bf53-ee974aa8db12"
      },
      "outputs": [],
      "source": [
        "test_df=df3.iloc[4854 : ,::]"
      ],
      "id": "df0f7b87-928a-446c-bf53-ee974aa8db12"
    },
    {
      "cell_type": "code",
      "execution_count": 149,
      "metadata": {
        "id": "5b84c5ee-9afd-4b11-a3f4-8ad921dafc15"
      },
      "outputs": [],
      "source": [
        "x_train=[]\n",
        "y_train=[]"
      ],
      "id": "5b84c5ee-9afd-4b11-a3f4-8ad921dafc15"
    },
    {
      "cell_type": "code",
      "execution_count": 150,
      "metadata": {
        "id": "00929f43-20fe-41a7-9deb-9bfaadb31829"
      },
      "outputs": [],
      "source": [
        "no_d_future=1\n",
        "no_d_past=20"
      ],
      "id": "00929f43-20fe-41a7-9deb-9bfaadb31829"
    },
    {
      "cell_type": "code",
      "source": [
        "# looking 20 days past values and traning on that rercored \n",
        "# this is because if u look into technical analysis we have 20 moving avarage which is consider to be one of \n",
        "# the best parameter for technical analysis\n",
        "# it acts as a support for stock\n",
        "\n"
      ],
      "metadata": {
        "id": "GmwjCxRR_Cf8"
      },
      "id": "GmwjCxRR_Cf8",
      "execution_count": 241,
      "outputs": []
    },
    {
      "cell_type": "code",
      "source": [],
      "metadata": {
        "id": "gt13k37F_Gse"
      },
      "id": "gt13k37F_Gse",
      "execution_count": null,
      "outputs": []
    },
    {
      "cell_type": "code",
      "execution_count": 151,
      "metadata": {
        "id": "37df662a-2212-4c18-991b-7f20629e8cbf"
      },
      "outputs": [],
      "source": [
        "for i  in range(no_d_past,len(train_df)-no_d_future+1):\n",
        "    x_train.append(train_df.iloc[i-no_d_past:i,0:3])\n",
        "    y_train.append(train_df.iloc[i+no_d_future-1:i+no_d_future,[2]])"
      ],
      "id": "37df662a-2212-4c18-991b-7f20629e8cbf"
    },
    {
      "cell_type": "code",
      "execution_count": 152,
      "metadata": {
        "id": "76537776-9add-4f0d-9ddd-fc5290edd2e2"
      },
      "outputs": [],
      "source": [
        "x_train=np.array(x_train)"
      ],
      "id": "76537776-9add-4f0d-9ddd-fc5290edd2e2"
    },
    {
      "cell_type": "code",
      "execution_count": 153,
      "metadata": {
        "colab": {
          "base_uri": "https://localhost:8080/"
        },
        "id": "feed0668-909e-496e-ace7-0fbde572fa6a",
        "outputId": "d4a64645-1c6d-4160-b482-095e0e18f258"
      },
      "outputs": [
        {
          "output_type": "execute_result",
          "data": {
            "text/plain": [
              "array([[-1.49591062, -0.47222282, -1.50296954],\n",
              "       [-1.49665957, -0.53397158, -1.49813915],\n",
              "       [-1.49790781, -0.51369602, -1.50005465],\n",
              "       [-1.49274841, -0.47708348, -1.49605709],\n",
              "       [-1.49274841, -0.47708348, -1.49605709],\n",
              "       [-1.49349736, -0.50121524, -1.4921428 ],\n",
              "       [-1.49349736, -0.50121524, -1.4921428 ],\n",
              "       [-1.49349736, -0.54394677, -1.49622365],\n",
              "       [-1.49699243, -0.53878452, -1.49547411],\n",
              "       [-1.48767223, -0.45929023, -1.49114341],\n",
              "       [-1.49000228, -0.52283546, -1.48298172],\n",
              "       [-1.49025193, -0.5274482 , -1.48806196],\n",
              "       [-1.49025193, -0.5274482 , -1.48806196],\n",
              "       [-1.49457917, -0.54402884, -1.49622365],\n",
              "       [-1.49807424, -0.54987606, -1.4959738 ],\n",
              "       [-1.49291485, -0.5332886 , -1.49713976],\n",
              "       [-1.49333093, -0.53654532, -1.49380846],\n",
              "       [-1.49083444, -0.49576305, -1.49414159],\n",
              "       [-1.50248469, -0.54592046, -1.4912267 ],\n",
              "       [-1.50240148, -0.54024108, -1.50455191]])"
            ]
          },
          "metadata": {},
          "execution_count": 153
        }
      ],
      "source": [
        "x_train[0]"
      ],
      "id": "feed0668-909e-496e-ace7-0fbde572fa6a"
    },
    {
      "cell_type": "code",
      "execution_count": 154,
      "metadata": {
        "colab": {
          "base_uri": "https://localhost:8080/",
          "height": 81
        },
        "id": "15d321cd-4345-4102-86f2-dfa67b3b3055",
        "outputId": "b80304b5-a347-45ab-8b61-0aad794a3472"
      },
      "outputs": [
        {
          "output_type": "execute_result",
          "data": {
            "text/plain": [
              "        Open\n",
              "20 -1.503386"
            ],
            "text/html": [
              "\n",
              "  <div id=\"df-463684dd-1521-4ed5-a93c-ba96a6258d42\">\n",
              "    <div class=\"colab-df-container\">\n",
              "      <div>\n",
              "<style scoped>\n",
              "    .dataframe tbody tr th:only-of-type {\n",
              "        vertical-align: middle;\n",
              "    }\n",
              "\n",
              "    .dataframe tbody tr th {\n",
              "        vertical-align: top;\n",
              "    }\n",
              "\n",
              "    .dataframe thead th {\n",
              "        text-align: right;\n",
              "    }\n",
              "</style>\n",
              "<table border=\"1\" class=\"dataframe\">\n",
              "  <thead>\n",
              "    <tr style=\"text-align: right;\">\n",
              "      <th></th>\n",
              "      <th>Open</th>\n",
              "    </tr>\n",
              "  </thead>\n",
              "  <tbody>\n",
              "    <tr>\n",
              "      <th>20</th>\n",
              "      <td>-1.503386</td>\n",
              "    </tr>\n",
              "  </tbody>\n",
              "</table>\n",
              "</div>\n",
              "      <button class=\"colab-df-convert\" onclick=\"convertToInteractive('df-463684dd-1521-4ed5-a93c-ba96a6258d42')\"\n",
              "              title=\"Convert this dataframe to an interactive table.\"\n",
              "              style=\"display:none;\">\n",
              "        \n",
              "  <svg xmlns=\"http://www.w3.org/2000/svg\" height=\"24px\"viewBox=\"0 0 24 24\"\n",
              "       width=\"24px\">\n",
              "    <path d=\"M0 0h24v24H0V0z\" fill=\"none\"/>\n",
              "    <path d=\"M18.56 5.44l.94 2.06.94-2.06 2.06-.94-2.06-.94-.94-2.06-.94 2.06-2.06.94zm-11 1L8.5 8.5l.94-2.06 2.06-.94-2.06-.94L8.5 2.5l-.94 2.06-2.06.94zm10 10l.94 2.06.94-2.06 2.06-.94-2.06-.94-.94-2.06-.94 2.06-2.06.94z\"/><path d=\"M17.41 7.96l-1.37-1.37c-.4-.4-.92-.59-1.43-.59-.52 0-1.04.2-1.43.59L10.3 9.45l-7.72 7.72c-.78.78-.78 2.05 0 2.83L4 21.41c.39.39.9.59 1.41.59.51 0 1.02-.2 1.41-.59l7.78-7.78 2.81-2.81c.8-.78.8-2.07 0-2.86zM5.41 20L4 18.59l7.72-7.72 1.47 1.35L5.41 20z\"/>\n",
              "  </svg>\n",
              "      </button>\n",
              "      \n",
              "  <style>\n",
              "    .colab-df-container {\n",
              "      display:flex;\n",
              "      flex-wrap:wrap;\n",
              "      gap: 12px;\n",
              "    }\n",
              "\n",
              "    .colab-df-convert {\n",
              "      background-color: #E8F0FE;\n",
              "      border: none;\n",
              "      border-radius: 50%;\n",
              "      cursor: pointer;\n",
              "      display: none;\n",
              "      fill: #1967D2;\n",
              "      height: 32px;\n",
              "      padding: 0 0 0 0;\n",
              "      width: 32px;\n",
              "    }\n",
              "\n",
              "    .colab-df-convert:hover {\n",
              "      background-color: #E2EBFA;\n",
              "      box-shadow: 0px 1px 2px rgba(60, 64, 67, 0.3), 0px 1px 3px 1px rgba(60, 64, 67, 0.15);\n",
              "      fill: #174EA6;\n",
              "    }\n",
              "\n",
              "    [theme=dark] .colab-df-convert {\n",
              "      background-color: #3B4455;\n",
              "      fill: #D2E3FC;\n",
              "    }\n",
              "\n",
              "    [theme=dark] .colab-df-convert:hover {\n",
              "      background-color: #434B5C;\n",
              "      box-shadow: 0px 1px 3px 1px rgba(0, 0, 0, 0.15);\n",
              "      filter: drop-shadow(0px 1px 2px rgba(0, 0, 0, 0.3));\n",
              "      fill: #FFFFFF;\n",
              "    }\n",
              "  </style>\n",
              "\n",
              "      <script>\n",
              "        const buttonEl =\n",
              "          document.querySelector('#df-463684dd-1521-4ed5-a93c-ba96a6258d42 button.colab-df-convert');\n",
              "        buttonEl.style.display =\n",
              "          google.colab.kernel.accessAllowed ? 'block' : 'none';\n",
              "\n",
              "        async function convertToInteractive(key) {\n",
              "          const element = document.querySelector('#df-463684dd-1521-4ed5-a93c-ba96a6258d42');\n",
              "          const dataTable =\n",
              "            await google.colab.kernel.invokeFunction('convertToInteractive',\n",
              "                                                     [key], {});\n",
              "          if (!dataTable) return;\n",
              "\n",
              "          const docLinkHtml = 'Like what you see? Visit the ' +\n",
              "            '<a target=\"_blank\" href=https://colab.research.google.com/notebooks/data_table.ipynb>data table notebook</a>'\n",
              "            + ' to learn more about interactive tables.';\n",
              "          element.innerHTML = '';\n",
              "          dataTable['output_type'] = 'display_data';\n",
              "          await google.colab.output.renderOutput(dataTable, element);\n",
              "          const docLink = document.createElement('div');\n",
              "          docLink.innerHTML = docLinkHtml;\n",
              "          element.appendChild(docLink);\n",
              "        }\n",
              "      </script>\n",
              "    </div>\n",
              "  </div>\n",
              "  "
            ]
          },
          "metadata": {},
          "execution_count": 154
        }
      ],
      "source": [
        "y_train[0]"
      ],
      "id": "15d321cd-4345-4102-86f2-dfa67b3b3055"
    },
    {
      "cell_type": "code",
      "execution_count": 155,
      "metadata": {
        "id": "aef4c488-95fb-4713-aaf2-ab031853a567"
      },
      "outputs": [],
      "source": [
        "y_train=np.array(y_train)"
      ],
      "id": "aef4c488-95fb-4713-aaf2-ab031853a567"
    },
    {
      "cell_type": "code",
      "execution_count": 156,
      "metadata": {
        "id": "d2d2835c-35a8-495c-bf5a-be0bccf0077e"
      },
      "outputs": [],
      "source": [
        "model=Sequential()"
      ],
      "id": "d2d2835c-35a8-495c-bf5a-be0bccf0077e"
    },
    {
      "cell_type": "code",
      "execution_count": 157,
      "metadata": {
        "id": "6574d9a6-7411-44ee-97d9-12005e2de6c3"
      },
      "outputs": [],
      "source": [
        "model.add(LSTM(128,activation='relu',input_shape=(20,3),return_sequences=True))\n",
        "model.add(LSTM(64,activation='relu',return_sequences=True))\n",
        "model.add(LSTM(32,activation='relu',return_sequences=False))\n",
        "\n",
        "model.add(Dense(1))\n",
        "\n",
        "          "
      ],
      "id": "6574d9a6-7411-44ee-97d9-12005e2de6c3"
    },
    {
      "cell_type": "code",
      "execution_count": 158,
      "metadata": {
        "id": "826c600c-44e6-4a26-bf6e-6f1b349423f6"
      },
      "outputs": [],
      "source": [
        "model.compile(optimizer='adam',loss='mse')"
      ],
      "id": "826c600c-44e6-4a26-bf6e-6f1b349423f6"
    },
    {
      "cell_type": "code",
      "execution_count": 159,
      "metadata": {
        "colab": {
          "base_uri": "https://localhost:8080/"
        },
        "id": "c0ded6e7-84d0-4361-93bc-8a160c4140bb",
        "outputId": "afad9d36-4c06-49f5-a7d5-df9c4d9caaf0"
      },
      "outputs": [
        {
          "output_type": "stream",
          "name": "stdout",
          "text": [
            "Model: \"sequential_1\"\n",
            "_________________________________________________________________\n",
            " Layer (type)                Output Shape              Param #   \n",
            "=================================================================\n",
            " lstm_5 (LSTM)               (None, 20, 128)           67584     \n",
            "                                                                 \n",
            " lstm_6 (LSTM)               (None, 20, 64)            49408     \n",
            "                                                                 \n",
            " lstm_7 (LSTM)               (None, 32)                12416     \n",
            "                                                                 \n",
            " dense_1 (Dense)             (None, 1)                 33        \n",
            "                                                                 \n",
            "=================================================================\n",
            "Total params: 129,441\n",
            "Trainable params: 129,441\n",
            "Non-trainable params: 0\n",
            "_________________________________________________________________\n"
          ]
        }
      ],
      "source": [
        "model.summary()"
      ],
      "id": "c0ded6e7-84d0-4361-93bc-8a160c4140bb"
    },
    {
      "cell_type": "code",
      "execution_count": 161,
      "metadata": {
        "colab": {
          "base_uri": "https://localhost:8080/"
        },
        "id": "8033c0cf-57ee-412e-9ce8-0144c727107d",
        "outputId": "4a194f85-498c-4167-c308-9b185c44bc4c"
      },
      "outputs": [
        {
          "output_type": "stream",
          "name": "stdout",
          "text": [
            "Epoch 1/30\n",
            "121/121 [==============================] - 11s 92ms/step - loss: 0.0060 - val_loss: 6.3800e-04\n",
            "Epoch 2/30\n",
            "121/121 [==============================] - 9s 74ms/step - loss: 0.0059 - val_loss: 3.7317e-04\n",
            "Epoch 3/30\n",
            "121/121 [==============================] - 8s 69ms/step - loss: 0.0064 - val_loss: 3.7328e-04\n",
            "Epoch 4/30\n",
            "121/121 [==============================] - 9s 77ms/step - loss: 0.0053 - val_loss: 3.0339e-04\n",
            "Epoch 5/30\n",
            "121/121 [==============================] - 8s 65ms/step - loss: 0.0052 - val_loss: 5.2850e-04\n",
            "Epoch 6/30\n",
            "121/121 [==============================] - 10s 80ms/step - loss: 0.0055 - val_loss: 3.5618e-04\n",
            "Epoch 7/30\n",
            "121/121 [==============================] - 8s 64ms/step - loss: 0.0054 - val_loss: 0.0011\n",
            "Epoch 8/30\n",
            "121/121 [==============================] - 10s 82ms/step - loss: 0.0052 - val_loss: 3.1903e-04\n",
            "Epoch 9/30\n",
            "121/121 [==============================] - 7s 60ms/step - loss: 0.0048 - val_loss: 2.4127e-04\n",
            "Epoch 10/30\n",
            "121/121 [==============================] - 10s 86ms/step - loss: 0.0055 - val_loss: 2.2282e-04\n",
            "Epoch 11/30\n",
            "121/121 [==============================] - 7s 58ms/step - loss: 0.0046 - val_loss: 2.0720e-04\n",
            "Epoch 12/30\n",
            "121/121 [==============================] - 17s 142ms/step - loss: 0.0047 - val_loss: 0.0117\n",
            "Epoch 13/30\n",
            "121/121 [==============================] - 17s 137ms/step - loss: 0.0055 - val_loss: 2.2279e-04\n",
            "Epoch 14/30\n",
            "121/121 [==============================] - 15s 127ms/step - loss: 0.0047 - val_loss: 2.8425e-04\n",
            "Epoch 15/30\n",
            "121/121 [==============================] - 7s 58ms/step - loss: 0.0045 - val_loss: 1.6337e-04\n",
            "Epoch 16/30\n",
            "121/121 [==============================] - 11s 91ms/step - loss: 0.0044 - val_loss: 0.0075\n",
            "Epoch 17/30\n",
            "121/121 [==============================] - 11s 87ms/step - loss: 0.0051 - val_loss: 1.7403e-04\n",
            "Epoch 18/30\n",
            "121/121 [==============================] - 15s 120ms/step - loss: 0.0052 - val_loss: 2.2680e-04\n",
            "Epoch 19/30\n",
            "121/121 [==============================] - 10s 83ms/step - loss: 0.0048 - val_loss: 2.0768e-04\n",
            "Epoch 20/30\n",
            "121/121 [==============================] - 8s 64ms/step - loss: 0.0043 - val_loss: 3.0292e-04\n",
            "Epoch 21/30\n",
            "121/121 [==============================] - 10s 82ms/step - loss: 0.0047 - val_loss: 0.0011\n",
            "Epoch 22/30\n",
            "121/121 [==============================] - 8s 65ms/step - loss: 0.0046 - val_loss: 1.4927e-04\n",
            "Epoch 23/30\n",
            "121/121 [==============================] - 9s 78ms/step - loss: 0.0044 - val_loss: 3.0590e-04\n",
            "Epoch 24/30\n",
            "121/121 [==============================] - 8s 68ms/step - loss: 0.0050 - val_loss: 1.5855e-04\n",
            "Epoch 25/30\n",
            "121/121 [==============================] - 10s 80ms/step - loss: 0.0047 - val_loss: 4.6633e-04\n",
            "Epoch 26/30\n",
            "121/121 [==============================] - 8s 67ms/step - loss: 0.0046 - val_loss: 1.8937e-04\n",
            "Epoch 27/30\n",
            "121/121 [==============================] - 10s 79ms/step - loss: 0.0050 - val_loss: 2.5246e-04\n",
            "Epoch 28/30\n",
            "121/121 [==============================] - 8s 70ms/step - loss: 0.0044 - val_loss: 3.3809e-04\n",
            "Epoch 29/30\n",
            "121/121 [==============================] - 9s 77ms/step - loss: 0.0050 - val_loss: 0.0014\n",
            "Epoch 30/30\n",
            "121/121 [==============================] - 10s 79ms/step - loss: 0.0045 - val_loss: 1.6872e-04\n"
          ]
        },
        {
          "output_type": "execute_result",
          "data": {
            "text/plain": [
              "<keras.callbacks.History at 0x7f11b809de50>"
            ]
          },
          "metadata": {},
          "execution_count": 161
        }
      ],
      "source": [
        "model.fit(x_train,y_train,batch_size=32, epochs=40,validation_split=0.2)"
      ],
      "id": "8033c0cf-57ee-412e-9ce8-0144c727107d"
    },
    {
      "cell_type": "code",
      "execution_count": 162,
      "metadata": {
        "id": "279fd45a-8288-48d9-bd7b-f8229f93e304"
      },
      "outputs": [],
      "source": [
        "x_test=[]\n",
        "y_test=[]"
      ],
      "id": "279fd45a-8288-48d9-bd7b-f8229f93e304"
    },
    {
      "cell_type": "code",
      "execution_count": null,
      "metadata": {
        "colab": {
          "background_save": true
        },
        "id": "8d121b54-2f0a-42ef-8e95-79c61f81ead7"
      },
      "outputs": [],
      "source": [],
      "id": "8d121b54-2f0a-42ef-8e95-79c61f81ead7"
    },
    {
      "cell_type": "code",
      "execution_count": 163,
      "metadata": {
        "id": "4cbcfa1c-995b-4a4b-b013-a4c66d5c7688"
      },
      "outputs": [],
      "source": [
        "for i in range(no_d_past,len(test_df)-no_d_future+1):\n",
        "    x_test.append(test_df.iloc[i-no_d_past:i,0:3])\n",
        "    y_test.append(test_df.iloc[i+no_d_future-1:i+no_d_future,2])"
      ],
      "id": "4cbcfa1c-995b-4a4b-b013-a4c66d5c7688"
    },
    {
      "cell_type": "code",
      "execution_count": 164,
      "metadata": {
        "colab": {
          "base_uri": "https://localhost:8080/"
        },
        "id": "2a7bc998-6d0b-46c8-a65d-2953e04a4aea",
        "outputId": "67329e4c-9385-4e3f-b644-fc0afd833148"
      },
      "outputs": [
        {
          "output_type": "stream",
          "name": "stdout",
          "text": [
            "38/38 [==============================] - 1s 18ms/step\n"
          ]
        }
      ],
      "source": [
        "pred_values=model.predict(np.array(x_test))"
      ],
      "id": "2a7bc998-6d0b-46c8-a65d-2953e04a4aea"
    },
    {
      "cell_type": "code",
      "execution_count": 165,
      "metadata": {
        "id": "f37cc015-9d68-4a5e-84a9-d479840f8aa2"
      },
      "outputs": [],
      "source": [
        "actual_values=list(np.array(y_test))"
      ],
      "id": "f37cc015-9d68-4a5e-84a9-d479840f8aa2"
    },
    {
      "cell_type": "code",
      "execution_count": 166,
      "metadata": {
        "id": "ff908a2a-f06f-4a84-9a7f-bd9f5fffc9f3"
      },
      "outputs": [],
      "source": [
        "df=pd.DataFrame()"
      ],
      "id": "ff908a2a-f06f-4a84-9a7f-bd9f5fffc9f3"
    },
    {
      "cell_type": "code",
      "execution_count": 167,
      "metadata": {
        "id": "1026afcf-9999-4c77-a08f-4e607436519c"
      },
      "outputs": [],
      "source": [
        "\n",
        "df['actual']=list(np.array(y_test))"
      ],
      "id": "1026afcf-9999-4c77-a08f-4e607436519c"
    },
    {
      "cell_type": "code",
      "execution_count": 168,
      "metadata": {
        "id": "6165ed30-496a-46d2-b152-8110947f9583"
      },
      "outputs": [],
      "source": [
        "df['predicted_values']=pred_values"
      ],
      "id": "6165ed30-496a-46d2-b152-8110947f9583"
    },
    {
      "cell_type": "code",
      "execution_count": 169,
      "metadata": {
        "colab": {
          "base_uri": "https://localhost:8080/"
        },
        "id": "13174a82-3e33-49ff-a971-b55c963c4246",
        "outputId": "d5ea9247-130e-40af-d4d1-afd71c1e6f07"
      },
      "outputs": [
        {
          "output_type": "execute_result",
          "data": {
            "text/plain": [
              "array([[ 0.08179615],\n",
              "       [ 0.07546458],\n",
              "       [ 0.07277267],\n",
              "       ...,\n",
              "       [-0.7359342 ],\n",
              "       [-0.77754015],\n",
              "       [-0.7385522 ]], dtype=float32)"
            ]
          },
          "metadata": {},
          "execution_count": 169
        }
      ],
      "source": [
        "pred_values"
      ],
      "id": "13174a82-3e33-49ff-a971-b55c963c4246"
    },
    {
      "cell_type": "code",
      "execution_count": 170,
      "metadata": {
        "id": "0199f163-1ece-4b65-b9ee-203017ed490e"
      },
      "outputs": [],
      "source": [
        "import numpy as np"
      ],
      "id": "0199f163-1ece-4b65-b9ee-203017ed490e"
    },
    {
      "cell_type": "code",
      "execution_count": 171,
      "metadata": {
        "colab": {
          "base_uri": "https://localhost:8080/"
        },
        "id": "d7763c48-4371-4f01-8317-f0c1206d4c9e",
        "outputId": "86407840-2add-4574-b77a-7995e2babcda"
      },
      "outputs": [
        {
          "output_type": "execute_result",
          "data": {
            "text/plain": [
              "array([1.25182536])"
            ]
          },
          "metadata": {},
          "execution_count": 171
        }
      ],
      "source": [
        "actual_rmse=np.sqrt(np.mean(np.square(df['actual'])))\n",
        "actual_rmse"
      ],
      "id": "d7763c48-4371-4f01-8317-f0c1206d4c9e"
    },
    {
      "cell_type": "code",
      "execution_count": 172,
      "metadata": {
        "id": "411fdd4b-0dab-49e5-a3ba-8747d97ffc45"
      },
      "outputs": [],
      "source": [
        "pred_rmse=np.sqrt(np.mean(np.square(pred_values)))"
      ],
      "id": "411fdd4b-0dab-49e5-a3ba-8747d97ffc45"
    },
    {
      "cell_type": "code",
      "execution_count": 173,
      "metadata": {
        "colab": {
          "base_uri": "https://localhost:8080/"
        },
        "id": "29eab1d7-8cc0-4de0-adaf-21b7790ca705",
        "outputId": "cdbc5bda-8f4e-4093-815d-be29e6ce2b19"
      },
      "outputs": [
        {
          "output_type": "execute_result",
          "data": {
            "text/plain": [
              "1.2882466"
            ]
          },
          "metadata": {},
          "execution_count": 173
        }
      ],
      "source": [
        "pred_rmse"
      ],
      "id": "29eab1d7-8cc0-4de0-adaf-21b7790ca705"
    },
    {
      "cell_type": "code",
      "source": [
        "# for this project i have dedcided RMSE to be deciding factor \n",
        "# wee can notice that actual rsme is 1.251 and pedicted rmse without sentiments score  is 1.288 "
      ],
      "metadata": {
        "id": "NdaPVV6SAFSA"
      },
      "id": "NdaPVV6SAFSA",
      "execution_count": 244,
      "outputs": []
    },
    {
      "cell_type": "code",
      "execution_count": 174,
      "metadata": {
        "colab": {
          "base_uri": "https://localhost:8080/",
          "height": 609
        },
        "id": "c6652438-df0b-4c8c-a9a9-3c776a00fbe9",
        "outputId": "6c75e382-5b56-4616-aa0e-e21ea5aba33d"
      },
      "outputs": [
        {
          "output_type": "execute_result",
          "data": {
            "text/plain": [
              "[<matplotlib.lines.Line2D at 0x7f11b0196910>]"
            ]
          },
          "metadata": {},
          "execution_count": 174
        },
        {
          "output_type": "display_data",
          "data": {
            "text/plain": [
              "<Figure size 720x720 with 1 Axes>"
            ],
            "image/png": "[encoded data removed]"
          },
          "metadata": {
            "needs_background": "light"
          }
        }
      ],
      "source": [
        "plt.figure(figsize=(10,10))\n",
        "plt.plot(df['actual'],color='blue',label='actual_values')\n",
        "plt.plot(df['predicted_values'],color='red',label='predicted_values')\n"
      ],
      "id": "c6652438-df0b-4c8c-a9a9-3c776a00fbe9"
    },
    {
      "cell_type": "code",
      "execution_count": 175,
      "metadata": {
        "id": "0f9b5186-8be9-4b0e-8aa5-22991788f9af"
      },
      "outputs": [],
      "source": [
        "n_day_for_pre=30"
      ],
      "id": "0f9b5186-8be9-4b0e-8aa5-22991788f9af"
    },
    {
      "cell_type": "code",
      "execution_count": 176,
      "metadata": {
        "id": "21610c89-6bf4-4dab-9431-f0d9fc76b89c"
      },
      "outputs": [],
      "source": [
        "forcast_dates=pd.date_range(start='2020-05-27',periods=n_day_for_pre,freq='1d')"
      ],
      "id": "21610c89-6bf4-4dab-9431-f0d9fc76b89c"
    },
    {
      "cell_type": "code",
      "execution_count": 177,
      "metadata": {
        "id": "49209184-b820-4946-a1c2-1d56c59b3bbf"
      },
      "outputs": [],
      "source": [
        "focast=list(forcast_dates)"
      ],
      "id": "49209184-b820-4946-a1c2-1d56c59b3bbf"
    },
    {
      "cell_type": "code",
      "execution_count": 178,
      "metadata": {
        "colab": {
          "base_uri": "https://localhost:8080/"
        },
        "id": "f689ba8d-a3d3-4ae9-9f07-ac8d5e501962",
        "outputId": "f122fc67-676c-481e-9511-ab74d439082f"
      },
      "outputs": [
        {
          "output_type": "stream",
          "name": "stdout",
          "text": [
            "1/1 [==============================] - 0s 37ms/step\n"
          ]
        }
      ],
      "source": [
        "forcast = model.predict(np.array(x_test)[-30:])"
      ],
      "id": "f689ba8d-a3d3-4ae9-9f07-ac8d5e501962"
    },
    {
      "cell_type": "code",
      "execution_count": 179,
      "metadata": {
        "id": "bbef7f19-d1c8-4e65-bf25-ca5fa83bddb6"
      },
      "outputs": [],
      "source": [
        "values=list(forcast)"
      ],
      "id": "bbef7f19-d1c8-4e65-bf25-ca5fa83bddb6"
    },
    {
      "cell_type": "code",
      "execution_count": 180,
      "metadata": {
        "id": "e5e6b318-0ad4-42e5-b553-680f445a8dfd"
      },
      "outputs": [],
      "source": [
        "values=np.repeat(values,3,axis=-1)"
      ],
      "id": "e5e6b318-0ad4-42e5-b553-680f445a8dfd"
    },
    {
      "cell_type": "code",
      "execution_count": 181,
      "metadata": {
        "id": "2c50fc02-472b-4d6b-b858-72479561e519"
      },
      "outputs": [],
      "source": [
        "actual_values=std_df.inverse_transform(values)"
      ],
      "id": "2c50fc02-472b-4d6b-b858-72479561e519"
    },
    {
      "cell_type": "code",
      "execution_count": 182,
      "metadata": {
        "id": "81203707-54fe-4cb6-a7f7-994355cfe77b"
      },
      "outputs": [],
      "source": [
        "forcast_df=pd.DataFrame()"
      ],
      "id": "81203707-54fe-4cb6-a7f7-994355cfe77b"
    },
    {
      "cell_type": "code",
      "execution_count": 183,
      "metadata": {
        "id": "3ad5257e-e63a-4868-a39d-a863ccace73b"
      },
      "outputs": [],
      "source": [
        "forcast_df['dates']=pd.Series(forcast_dates)"
      ],
      "id": "3ad5257e-e63a-4868-a39d-a863ccace73b"
    },
    {
      "cell_type": "code",
      "execution_count": 184,
      "metadata": {
        "id": "a29850a9-bf4d-42f2-8729-4c4bc96d415c"
      },
      "outputs": [],
      "source": [
        "forcast_df['values']=actual_values[:,[0]]"
      ],
      "id": "a29850a9-bf4d-42f2-8729-4c4bc96d415c"
    },
    {
      "cell_type": "code",
      "execution_count": 185,
      "metadata": {
        "id": "50f02b98-5ba7-4edb-abcb-eeb0cfcfc98e"
      },
      "outputs": [],
      "source": [
        "forcast_df['dates']=pd.to_datetime(forcast_df['dates'])"
      ],
      "id": "50f02b98-5ba7-4edb-abcb-eeb0cfcfc98e"
    },
    {
      "cell_type": "code",
      "source": [
        "# doing further prediction for complete one month"
      ],
      "metadata": {
        "id": "4UAQgTh8_5t9"
      },
      "id": "4UAQgTh8_5t9",
      "execution_count": 242,
      "outputs": []
    },
    {
      "cell_type": "code",
      "execution_count": 186,
      "metadata": {
        "colab": {
          "base_uri": "https://localhost:8080/",
          "height": 282
        },
        "id": "756b7ae9-268b-4df3-9e04-420fea581400",
        "outputId": "576650c4-776b-49be-8954-38fb95b48c1e"
      },
      "outputs": [
        {
          "output_type": "execute_result",
          "data": {
            "text/plain": [
              "[<matplotlib.lines.Line2D at 0x7f11b0143d30>]"
            ]
          },
          "metadata": {},
          "execution_count": 186
        },
        {
          "output_type": "display_data",
          "data": {
            "text/plain": [
              "<Figure size 432x288 with 1 Axes>"
            ],
            "image/png": "[encoded data removed]"
          },
          "metadata": {
            "needs_background": "light"
          }
        }
      ],
      "source": [
        "\n",
        "plt.plot(forcast_df['values'])"
      ],
      "id": "756b7ae9-268b-4df3-9e04-420fea581400"
    },
    {
      "cell_type": "code",
      "source": [],
      "metadata": {
        "id": "doQEtCnN_4Ec"
      },
      "id": "doQEtCnN_4Ec",
      "execution_count": null,
      "outputs": []
    },
    {
      "cell_type": "markdown",
      "metadata": {
        "id": "887e5a9a-5954-4e32-b4dd-afbfe7fb62bc"
      },
      "source": [
        "### using Sentiment scores"
      ],
      "id": "887e5a9a-5954-4e32-b4dd-afbfe7fb62bc"
    },
    {
      "cell_type": "code",
      "execution_count": 187,
      "metadata": {
        "id": "ky7FWikptc08"
      },
      "outputs": [],
      "source": [
        "#from google.colab import drive\n",
        "#drive.mount('/content/drive')"
      ],
      "id": "ky7FWikptc08"
    },
    {
      "cell_type": "code",
      "execution_count": 188,
      "metadata": {
        "id": "172ad5fb-fa0b-4678-a5f6-1b4ac4ce2395"
      },
      "outputs": [],
      "source": [
        "final_df1=final_df.iloc[:,:]"
      ],
      "id": "172ad5fb-fa0b-4678-a5f6-1b4ac4ce2395"
    },
    {
      "cell_type": "code",
      "execution_count": 189,
      "metadata": {
        "id": "383d7487-f754-4eec-9ab0-f4c1434925f9"
      },
      "outputs": [],
      "source": [
        "from sklearn.preprocessing import StandardScaler"
      ],
      "id": "383d7487-f754-4eec-9ab0-f4c1434925f9"
    },
    {
      "cell_type": "code",
      "execution_count": 190,
      "metadata": {
        "id": "3ffcd637-daef-4912-8a04-ed87dacdcf5a"
      },
      "outputs": [],
      "source": [
        "scaler=StandardScaler()"
      ],
      "id": "3ffcd637-daef-4912-8a04-ed87dacdcf5a"
    },
    {
      "cell_type": "code",
      "execution_count": 191,
      "metadata": {
        "id": "0f82fb52-b07a-47d3-b51f-b7d312f4907d"
      },
      "outputs": [],
      "source": [
        "scaled_df=scaler.fit_transform(final_df1)"
      ],
      "id": "0f82fb52-b07a-47d3-b51f-b7d312f4907d"
    },
    {
      "cell_type": "code",
      "execution_count": 192,
      "metadata": {
        "id": "24113a9f-9d65-4867-a3c8-aad42d2456ee"
      },
      "outputs": [],
      "source": [
        "df3=pd.DataFrame(scaled_df)"
      ],
      "id": "24113a9f-9d65-4867-a3c8-aad42d2456ee"
    },
    {
      "cell_type": "code",
      "execution_count": 193,
      "metadata": {
        "id": "06ebc8d3-1693-4bd0-b9b5-03cae4ae94e2"
      },
      "outputs": [],
      "source": [
        "a=list(final_df1.columns)"
      ],
      "id": "06ebc8d3-1693-4bd0-b9b5-03cae4ae94e2"
    },
    {
      "cell_type": "code",
      "execution_count": 194,
      "metadata": {
        "id": "d8ddd7b8-e35b-45aa-b5b1-ec8300282523"
      },
      "outputs": [],
      "source": [
        "df3.columns=a"
      ],
      "id": "d8ddd7b8-e35b-45aa-b5b1-ec8300282523"
    },
    {
      "cell_type": "code",
      "execution_count": 195,
      "metadata": {
        "id": "30417dd6-00b4-40ae-9198-a598a6d961c5"
      },
      "outputs": [],
      "source": [
        "train_df=df3.iloc[0:4854,::]"
      ],
      "id": "30417dd6-00b4-40ae-9198-a598a6d961c5"
    },
    {
      "cell_type": "code",
      "execution_count": 196,
      "metadata": {
        "id": "23ebd04f-5ef8-4bb1-a538-c491d0c36849"
      },
      "outputs": [],
      "source": [
        "test_df=df3.iloc[4854 : ,::]"
      ],
      "id": "23ebd04f-5ef8-4bb1-a538-c491d0c36849"
    },
    {
      "cell_type": "code",
      "execution_count": 197,
      "metadata": {
        "id": "24ae1e19-9305-4a8f-941c-34956bf3c7b5"
      },
      "outputs": [],
      "source": [
        "x_train=[]\n",
        "y_train=[]"
      ],
      "id": "24ae1e19-9305-4a8f-941c-34956bf3c7b5"
    },
    {
      "cell_type": "code",
      "execution_count": 198,
      "metadata": {
        "id": "489c34e1-3874-46e0-9473-d0186483ca8c"
      },
      "outputs": [],
      "source": [
        "no_d_future=1\n",
        "no_d_past=20"
      ],
      "id": "489c34e1-3874-46e0-9473-d0186483ca8c"
    },
    {
      "cell_type": "code",
      "execution_count": 199,
      "metadata": {
        "id": "2b6e1ca6-e24d-4c82-add6-a2c6af0d44b4"
      },
      "outputs": [],
      "source": [
        "for i  in range(no_d_past,len(train_df)-no_d_future+1):\n",
        "    x_train.append(train_df.iloc[i-no_d_past:i,0:4])\n",
        "    y_train.append(train_df.iloc[i+no_d_future-1:i+no_d_future,[2]])"
      ],
      "id": "2b6e1ca6-e24d-4c82-add6-a2c6af0d44b4"
    },
    {
      "cell_type": "code",
      "execution_count": 200,
      "metadata": {
        "id": "562a3d83-a302-4d7d-9331-e42e1e6ca488"
      },
      "outputs": [],
      "source": [
        "x_train=np.array(x_train)\n",
        "y_train=np.array(y_train)\n"
      ],
      "id": "562a3d83-a302-4d7d-9331-e42e1e6ca488"
    },
    {
      "cell_type": "code",
      "execution_count": 204,
      "metadata": {
        "id": "aed3a543-e912-464a-bd12-0c8c6b211ec3"
      },
      "outputs": [],
      "source": [
        "model=Sequential()"
      ],
      "id": "aed3a543-e912-464a-bd12-0c8c6b211ec3"
    },
    {
      "cell_type": "code",
      "execution_count": 205,
      "metadata": {
        "id": "a1a832b6-666d-4bd5-af91-d84950dd4b84"
      },
      "outputs": [],
      "source": [
        "model.add(LSTM(128,activation='relu',input_shape=(20,4),return_sequences=True))\n",
        "model.add(LSTM(64,activation='relu',return_sequences=True))\n",
        "model.add(LSTM(32,activation='relu',return_sequences=False))\n",
        "\n",
        "model.add(Dense(1))\n"
      ],
      "id": "a1a832b6-666d-4bd5-af91-d84950dd4b84"
    },
    {
      "cell_type": "code",
      "execution_count": 206,
      "metadata": {
        "id": "9d8ce724-eb7e-4370-9ad4-7ccd5ba8ba76"
      },
      "outputs": [],
      "source": [
        "model.compile(optimizer='adam',loss='mse')"
      ],
      "id": "9d8ce724-eb7e-4370-9ad4-7ccd5ba8ba76"
    },
    {
      "cell_type": "code",
      "execution_count": 207,
      "metadata": {
        "colab": {
          "base_uri": "https://localhost:8080/"
        },
        "id": "92bc056c-68ae-43be-a2a7-7a518daa02b6",
        "outputId": "f41df12c-a9bb-4e0c-bf70-f265eacb1eea"
      },
      "outputs": [
        {
          "output_type": "stream",
          "name": "stdout",
          "text": [
            "Epoch 1/40\n",
            "121/121 [==============================] - 14s 78ms/step - loss: 0.1874 - val_loss: 0.0025\n",
            "Epoch 2/40\n",
            "121/121 [==============================] - 9s 71ms/step - loss: 0.0215 - val_loss: 0.0026\n",
            "Epoch 3/40\n",
            "121/121 [==============================] - 8s 70ms/step - loss: 0.0143 - val_loss: 0.0019\n",
            "Epoch 4/40\n",
            "121/121 [==============================] - 9s 76ms/step - loss: 0.0129 - val_loss: 0.0015\n",
            "Epoch 5/40\n",
            "121/121 [==============================] - 8s 70ms/step - loss: 0.0099 - val_loss: 0.0015\n",
            "Epoch 6/40\n",
            "121/121 [==============================] - 9s 76ms/step - loss: 0.0099 - val_loss: 0.0014\n",
            "Epoch 7/40\n",
            "121/121 [==============================] - 8s 67ms/step - loss: 0.0079 - val_loss: 9.8979e-04\n",
            "Epoch 8/40\n",
            "121/121 [==============================] - 10s 80ms/step - loss: 0.0089 - val_loss: 7.2685e-04\n",
            "Epoch 9/40\n",
            "121/121 [==============================] - 14s 113ms/step - loss: 0.0067 - val_loss: 0.0051\n",
            "Epoch 10/40\n",
            "121/121 [==============================] - 7s 61ms/step - loss: 0.0087 - val_loss: 7.6966e-04\n",
            "Epoch 11/40\n",
            "121/121 [==============================] - 11s 87ms/step - loss: 0.0066 - val_loss: 7.1636e-04\n",
            "Epoch 12/40\n",
            "121/121 [==============================] - 7s 61ms/step - loss: 0.0067 - val_loss: 0.0042\n",
            "Epoch 13/40\n",
            "121/121 [==============================] - 12s 97ms/step - loss: 0.0074 - val_loss: 5.3230e-04\n",
            "Epoch 14/40\n",
            "121/121 [==============================] - 7s 58ms/step - loss: 0.0058 - val_loss: 6.0193e-04\n",
            "Epoch 15/40\n",
            "121/121 [==============================] - 11s 90ms/step - loss: 0.0060 - val_loss: 5.3097e-04\n",
            "Epoch 16/40\n",
            "121/121 [==============================] - 7s 58ms/step - loss: 0.0052 - val_loss: 0.0011\n",
            "Epoch 17/40\n",
            "121/121 [==============================] - 11s 90ms/step - loss: 0.0059 - val_loss: 5.3351e-04\n",
            "Epoch 18/40\n",
            "121/121 [==============================] - 7s 59ms/step - loss: 0.0051 - val_loss: 5.4433e-04\n",
            "Epoch 19/40\n",
            "121/121 [==============================] - 11s 89ms/step - loss: 0.0053 - val_loss: 3.2563e-04\n",
            "Epoch 20/40\n",
            "121/121 [==============================] - 7s 59ms/step - loss: 0.0053 - val_loss: 4.4783e-04\n",
            "Epoch 21/40\n",
            "121/121 [==============================] - 11s 90ms/step - loss: 0.0049 - val_loss: 0.0016\n",
            "Epoch 22/40\n",
            "121/121 [==============================] - 7s 59ms/step - loss: 0.0061 - val_loss: 3.7534e-04\n",
            "Epoch 23/40\n",
            "121/121 [==============================] - 11s 90ms/step - loss: 0.0048 - val_loss: 7.3348e-04\n",
            "Epoch 24/40\n",
            "121/121 [==============================] - 7s 59ms/step - loss: 0.0052 - val_loss: 2.9809e-04\n",
            "Epoch 25/40\n",
            "121/121 [==============================] - 10s 84ms/step - loss: 0.0049 - val_loss: 2.8882e-04\n",
            "Epoch 26/40\n",
            "121/121 [==============================] - 7s 62ms/step - loss: 0.0047 - val_loss: 3.5889e-04\n",
            "Epoch 27/40\n",
            "121/121 [==============================] - 10s 86ms/step - loss: 0.0049 - val_loss: 4.0504e-04\n",
            "Epoch 28/40\n",
            "121/121 [==============================] - 7s 61ms/step - loss: 0.0047 - val_loss: 5.2833e-04\n",
            "Epoch 29/40\n",
            "121/121 [==============================] - 10s 84ms/step - loss: 0.0051 - val_loss: 2.4853e-04\n",
            "Epoch 30/40\n",
            "121/121 [==============================] - 8s 63ms/step - loss: 0.0049 - val_loss: 2.6987e-04\n",
            "Epoch 31/40\n",
            "121/121 [==============================] - 10s 83ms/step - loss: 0.0049 - val_loss: 2.7481e-04\n",
            "Epoch 32/40\n",
            "121/121 [==============================] - 8s 65ms/step - loss: 0.0047 - val_loss: 2.3431e-04\n",
            "Epoch 33/40\n",
            "121/121 [==============================] - 10s 83ms/step - loss: 0.0040 - val_loss: 6.2492e-04\n",
            "Epoch 34/40\n",
            "121/121 [==============================] - 8s 65ms/step - loss: 0.0054 - val_loss: 2.7945e-04\n",
            "Epoch 35/40\n",
            "121/121 [==============================] - 10s 83ms/step - loss: 0.0048 - val_loss: 3.1627e-04\n",
            "Epoch 36/40\n",
            "121/121 [==============================] - 8s 65ms/step - loss: 0.0043 - val_loss: 2.0106e-04\n",
            "Epoch 37/40\n",
            "121/121 [==============================] - 10s 81ms/step - loss: 0.0045 - val_loss: 4.9146e-04\n",
            "Epoch 38/40\n",
            "121/121 [==============================] - 8s 66ms/step - loss: 0.0046 - val_loss: 2.2210e-04\n",
            "Epoch 39/40\n",
            "121/121 [==============================] - 10s 80ms/step - loss: 0.0044 - val_loss: 1.9035e-04\n",
            "Epoch 40/40\n",
            "121/121 [==============================] - 8s 67ms/step - loss: 0.0050 - val_loss: 3.2822e-04\n"
          ]
        },
        {
          "output_type": "execute_result",
          "data": {
            "text/plain": [
              "<keras.callbacks.History at 0x7f11b01967c0>"
            ]
          },
          "metadata": {},
          "execution_count": 207
        }
      ],
      "source": [
        "model.fit(x_train,y_train,batch_size=32, epochs=40,validation_split=0.2)"
      ],
      "id": "92bc056c-68ae-43be-a2a7-7a518daa02b6"
    },
    {
      "cell_type": "code",
      "execution_count": 208,
      "metadata": {
        "id": "9bf0e490-10b5-4020-8dc2-2549908a4a95"
      },
      "outputs": [],
      "source": [
        "x_test=[]\n",
        "y_test=[]"
      ],
      "id": "9bf0e490-10b5-4020-8dc2-2549908a4a95"
    },
    {
      "cell_type": "code",
      "execution_count": 209,
      "metadata": {
        "id": "8898751b-d461-4de1-96a9-36b5e08744ae"
      },
      "outputs": [],
      "source": [
        "for i  in range(no_d_past,len(test_df)-no_d_future+1):\n",
        "    x_test.append(test_df.iloc[i-no_d_past:i,0:4])\n",
        "    y_test.append(test_df.iloc[i+no_d_future-1:i+no_d_future,2])"
      ],
      "id": "8898751b-d461-4de1-96a9-36b5e08744ae"
    },
    {
      "cell_type": "code",
      "execution_count": 210,
      "metadata": {
        "colab": {
          "base_uri": "https://localhost:8080/"
        },
        "id": "fdbb9ec8-8b0d-47de-842c-c707c2d634bc",
        "outputId": "b2169cc3-f8c2-4da9-f667-7d62eabbffd3"
      },
      "outputs": [
        {
          "output_type": "stream",
          "name": "stdout",
          "text": [
            "38/38 [==============================] - 2s 30ms/step\n"
          ]
        }
      ],
      "source": [
        "pred_values_with_S=model.predict(np.array(x_test))"
      ],
      "id": "fdbb9ec8-8b0d-47de-842c-c707c2d634bc"
    },
    {
      "cell_type": "code",
      "execution_count": 211,
      "metadata": {
        "id": "b133cf44-f4f2-4e4d-953f-dfa8bd7e5099"
      },
      "outputs": [],
      "source": [
        "actual_values=list(np.array(y_test))"
      ],
      "id": "b133cf44-f4f2-4e4d-953f-dfa8bd7e5099"
    },
    {
      "cell_type": "code",
      "execution_count": 212,
      "metadata": {
        "id": "8ca3d30d-401c-49f1-b6bf-cabe0845f908"
      },
      "outputs": [],
      "source": [
        "df['pred_values_with_S']=pred_values_with_S"
      ],
      "id": "8ca3d30d-401c-49f1-b6bf-cabe0845f908"
    },
    {
      "cell_type": "code",
      "execution_count": 213,
      "metadata": {
        "colab": {
          "base_uri": "https://localhost:8080/",
          "height": 424
        },
        "id": "e6e1bd41-bfd0-41cb-9fc2-a045007c3632",
        "outputId": "d5400ce9-43ba-463f-f728-28cba09cf8de"
      },
      "outputs": [
        {
          "output_type": "execute_result",
          "data": {
            "text/plain": [
              "                      actual  predicted_values  pred_values_with_S\n",
              "0      [0.07415306820018536]          0.081796            0.077614\n",
              "1      [0.07273726398700377]          0.075465            0.065685\n",
              "2      [0.07456948120406234]          0.072773            0.052319\n",
              "3      [0.07456948120406234]          0.075963            0.062972\n",
              "4      [0.07456948120406234]          0.077992            0.065358\n",
              "...                      ...               ...                 ...\n",
              "1189   [-0.5144883540803176]         -0.731953           -0.702212\n",
              "1190   [-0.4728470536926192]         -0.743725           -0.723499\n",
              "1191  [-0.49191876927018513]         -0.735934           -0.773766\n",
              "1192   [-0.4802592051616296]         -0.777540           -0.737226\n",
              "1193   [-0.4754288143166566]         -0.738552           -0.705343\n",
              "\n",
              "[1194 rows x 3 columns]"
            ],
            "text/html": [
              "\n",
              "  <div id=\"df-c35fa17d-dd8b-4c95-8378-7304f9511977\">\n",
              "    <div class=\"colab-df-container\">\n",
              "      <div>\n",
              "<style scoped>\n",
              "    .dataframe tbody tr th:only-of-type {\n",
              "        vertical-align: middle;\n",
              "    }\n",
              "\n",
              "    .dataframe tbody tr th {\n",
              "        vertical-align: top;\n",
              "    }\n",
              "\n",
              "    .dataframe thead th {\n",
              "        text-align: right;\n",
              "    }\n",
              "</style>\n",
              "<table border=\"1\" class=\"dataframe\">\n",
              "  <thead>\n",
              "    <tr style=\"text-align: right;\">\n",
              "      <th></th>\n",
              "      <th>actual</th>\n",
              "      <th>predicted_values</th>\n",
              "      <th>pred_values_with_S</th>\n",
              "    </tr>\n",
              "  </thead>\n",
              "  <tbody>\n",
              "    <tr>\n",
              "      <th>0</th>\n",
              "      <td>[0.07415306820018536]</td>\n",
              "      <td>0.081796</td>\n",
              "      <td>0.077614</td>\n",
              "    </tr>\n",
              "    <tr>\n",
              "      <th>1</th>\n",
              "      <td>[0.07273726398700377]</td>\n",
              "      <td>0.075465</td>\n",
              "      <td>0.065685</td>\n",
              "    </tr>\n",
              "    <tr>\n",
              "      <th>2</th>\n",
              "      <td>[0.07456948120406234]</td>\n",
              "      <td>0.072773</td>\n",
              "      <td>0.052319</td>\n",
              "    </tr>\n",
              "    <tr>\n",
              "      <th>3</th>\n",
              "      <td>[0.07456948120406234]</td>\n",
              "      <td>0.075963</td>\n",
              "      <td>0.062972</td>\n",
              "    </tr>\n",
              "    <tr>\n",
              "      <th>4</th>\n",
              "      <td>[0.07456948120406234]</td>\n",
              "      <td>0.077992</td>\n",
              "      <td>0.065358</td>\n",
              "    </tr>\n",
              "    <tr>\n",
              "      <th>...</th>\n",
              "      <td>...</td>\n",
              "      <td>...</td>\n",
              "      <td>...</td>\n",
              "    </tr>\n",
              "    <tr>\n",
              "      <th>1189</th>\n",
              "      <td>[-0.5144883540803176]</td>\n",
              "      <td>-0.731953</td>\n",
              "      <td>-0.702212</td>\n",
              "    </tr>\n",
              "    <tr>\n",
              "      <th>1190</th>\n",
              "      <td>[-0.4728470536926192]</td>\n",
              "      <td>-0.743725</td>\n",
              "      <td>-0.723499</td>\n",
              "    </tr>\n",
              "    <tr>\n",
              "      <th>1191</th>\n",
              "      <td>[-0.49191876927018513]</td>\n",
              "      <td>-0.735934</td>\n",
              "      <td>-0.773766</td>\n",
              "    </tr>\n",
              "    <tr>\n",
              "      <th>1192</th>\n",
              "      <td>[-0.4802592051616296]</td>\n",
              "      <td>-0.777540</td>\n",
              "      <td>-0.737226</td>\n",
              "    </tr>\n",
              "    <tr>\n",
              "      <th>1193</th>\n",
              "      <td>[-0.4754288143166566]</td>\n",
              "      <td>-0.738552</td>\n",
              "      <td>-0.705343</td>\n",
              "    </tr>\n",
              "  </tbody>\n",
              "</table>\n",
              "<p>1194 rows × 3 columns</p>\n",
              "</div>\n",
              "      <button class=\"colab-df-convert\" onclick=\"convertToInteractive('df-c35fa17d-dd8b-4c95-8378-7304f9511977')\"\n",
              "              title=\"Convert this dataframe to an interactive table.\"\n",
              "              style=\"display:none;\">\n",
              "        \n",
              "  <svg xmlns=\"http://www.w3.org/2000/svg\" height=\"24px\"viewBox=\"0 0 24 24\"\n",
              "       width=\"24px\">\n",
              "    <path d=\"M0 0h24v24H0V0z\" fill=\"none\"/>\n",
              "    <path d=\"M18.56 5.44l.94 2.06.94-2.06 2.06-.94-2.06-.94-.94-2.06-.94 2.06-2.06.94zm-11 1L8.5 8.5l.94-2.06 2.06-.94-2.06-.94L8.5 2.5l-.94 2.06-2.06.94zm10 10l.94 2.06.94-2.06 2.06-.94-2.06-.94-.94-2.06-.94 2.06-2.06.94z\"/><path d=\"M17.41 7.96l-1.37-1.37c-.4-.4-.92-.59-1.43-.59-.52 0-1.04.2-1.43.59L10.3 9.45l-7.72 7.72c-.78.78-.78 2.05 0 2.83L4 21.41c.39.39.9.59 1.41.59.51 0 1.02-.2 1.41-.59l7.78-7.78 2.81-2.81c.8-.78.8-2.07 0-2.86zM5.41 20L4 18.59l7.72-7.72 1.47 1.35L5.41 20z\"/>\n",
              "  </svg>\n",
              "      </button>\n",
              "      \n",
              "  <style>\n",
              "    .colab-df-container {\n",
              "      display:flex;\n",
              "      flex-wrap:wrap;\n",
              "      gap: 12px;\n",
              "    }\n",
              "\n",
              "    .colab-df-convert {\n",
              "      background-color: #E8F0FE;\n",
              "      border: none;\n",
              "      border-radius: 50%;\n",
              "      cursor: pointer;\n",
              "      display: none;\n",
              "      fill: #1967D2;\n",
              "      height: 32px;\n",
              "      padding: 0 0 0 0;\n",
              "      width: 32px;\n",
              "    }\n",
              "\n",
              "    .colab-df-convert:hover {\n",
              "      background-color: #E2EBFA;\n",
              "      box-shadow: 0px 1px 2px rgba(60, 64, 67, 0.3), 0px 1px 3px 1px rgba(60, 64, 67, 0.15);\n",
              "      fill: #174EA6;\n",
              "    }\n",
              "\n",
              "    [theme=dark] .colab-df-convert {\n",
              "      background-color: #3B4455;\n",
              "      fill: #D2E3FC;\n",
              "    }\n",
              "\n",
              "    [theme=dark] .colab-df-convert:hover {\n",
              "      background-color: #434B5C;\n",
              "      box-shadow: 0px 1px 3px 1px rgba(0, 0, 0, 0.15);\n",
              "      filter: drop-shadow(0px 1px 2px rgba(0, 0, 0, 0.3));\n",
              "      fill: #FFFFFF;\n",
              "    }\n",
              "  </style>\n",
              "\n",
              "      <script>\n",
              "        const buttonEl =\n",
              "          document.querySelector('#df-c35fa17d-dd8b-4c95-8378-7304f9511977 button.colab-df-convert');\n",
              "        buttonEl.style.display =\n",
              "          google.colab.kernel.accessAllowed ? 'block' : 'none';\n",
              "\n",
              "        async function convertToInteractive(key) {\n",
              "          const element = document.querySelector('#df-c35fa17d-dd8b-4c95-8378-7304f9511977');\n",
              "          const dataTable =\n",
              "            await google.colab.kernel.invokeFunction('convertToInteractive',\n",
              "                                                     [key], {});\n",
              "          if (!dataTable) return;\n",
              "\n",
              "          const docLinkHtml = 'Like what you see? Visit the ' +\n",
              "            '<a target=\"_blank\" href=https://colab.research.google.com/notebooks/data_table.ipynb>data table notebook</a>'\n",
              "            + ' to learn more about interactive tables.';\n",
              "          element.innerHTML = '';\n",
              "          dataTable['output_type'] = 'display_data';\n",
              "          await google.colab.output.renderOutput(dataTable, element);\n",
              "          const docLink = document.createElement('div');\n",
              "          docLink.innerHTML = docLinkHtml;\n",
              "          element.appendChild(docLink);\n",
              "        }\n",
              "      </script>\n",
              "    </div>\n",
              "  </div>\n",
              "  "
            ]
          },
          "metadata": {},
          "execution_count": 213
        }
      ],
      "source": [
        "df"
      ],
      "id": "e6e1bd41-bfd0-41cb-9fc2-a045007c3632"
    },
    {
      "cell_type": "code",
      "execution_count": 214,
      "metadata": {
        "colab": {
          "base_uri": "https://localhost:8080/"
        },
        "id": "a027aa15-dc9c-441a-b42b-9ae4979e7aae",
        "outputId": "b017a37e-d9c9-4a59-a772-7a7583d24300"
      },
      "outputs": [
        {
          "output_type": "execute_result",
          "data": {
            "text/plain": [
              "array([1.25182536])"
            ]
          },
          "metadata": {},
          "execution_count": 214
        }
      ],
      "source": [
        "actual_rmse=np.sqrt(np.mean(np.square(df['actual'])))\n",
        "actual_rmse"
      ],
      "id": "a027aa15-dc9c-441a-b42b-9ae4979e7aae"
    },
    {
      "cell_type": "code",
      "execution_count": 215,
      "metadata": {
        "id": "9b4f287e-9016-4a99-a25e-894236565ffd"
      },
      "outputs": [],
      "source": [
        "rmse_pred_values_with_S=np.sqrt(np.mean(np.square(pred_values_with_S)))"
      ],
      "id": "9b4f287e-9016-4a99-a25e-894236565ffd"
    },
    {
      "cell_type": "code",
      "execution_count": 216,
      "metadata": {
        "colab": {
          "base_uri": "https://localhost:8080/"
        },
        "id": "8aed2086-aaa5-4820-aedc-ac5a3cd9741c",
        "outputId": "ad25652e-0b92-44c6-fe79-5119ef46bdc0"
      },
      "outputs": [
        {
          "output_type": "execute_result",
          "data": {
            "text/plain": [
              "1.2598718"
            ]
          },
          "metadata": {},
          "execution_count": 216
        }
      ],
      "source": [
        "rmse_pred_values_with_S"
      ],
      "id": "8aed2086-aaa5-4820-aedc-ac5a3cd9741c"
    },
    {
      "cell_type": "code",
      "source": [
        "# we can noticed that RMSE for prediction with sentiments score reduced to 1.259 where actual one is 1.251\n",
        "# hence we can say that adding sentiment score factor we can improve our prediction accuracy"
      ],
      "metadata": {
        "id": "qf_xvCEHAwrC"
      },
      "id": "qf_xvCEHAwrC",
      "execution_count": 246,
      "outputs": []
    },
    {
      "cell_type": "code",
      "execution_count": 217,
      "metadata": {
        "colab": {
          "base_uri": "https://localhost:8080/",
          "height": 609
        },
        "id": "0c88135a-ca1a-4f8d-9a9f-61026c49c412",
        "outputId": "ecb5af46-dfe3-4ea6-c374-5651a4ec60c4"
      },
      "outputs": [
        {
          "output_type": "execute_result",
          "data": {
            "text/plain": [
              "[<matplotlib.lines.Line2D at 0x7f11b023bdf0>]"
            ]
          },
          "metadata": {},
          "execution_count": 217
        },
        {
          "output_type": "display_data",
          "data": {
            "text/plain": [
              "<Figure size 720x720 with 1 Axes>"
            ],
            "image/png": "[encoded data removed]"
          },
          "metadata": {
            "needs_background": "light"
          }
        }
      ],
      "source": [
        "plt.figure(figsize=(10,10))\n",
        "plt.plot(df['actual'],color='blue',label='actual_values')\n",
        "plt.plot(df['pred_values_with_S'],label='pred_values_with_S',color='red')"
      ],
      "id": "0c88135a-ca1a-4f8d-9a9f-61026c49c412"
    },
    {
      "cell_type": "code",
      "source": [
        "#### saving model for future use"
      ],
      "metadata": {
        "id": "oR_7IK6pzUR-"
      },
      "id": "oR_7IK6pzUR-",
      "execution_count": 225,
      "outputs": []
    },
    {
      "cell_type": "code",
      "source": [
        "import pickle"
      ],
      "metadata": {
        "id": "-Uxvxy32zb2n"
      },
      "id": "-Uxvxy32zb2n",
      "execution_count": 226,
      "outputs": []
    },
    {
      "cell_type": "code",
      "source": [
        "filename='opening_price_prediction_model '"
      ],
      "metadata": {
        "id": "3PuyXcxvzfS4"
      },
      "id": "3PuyXcxvzfS4",
      "execution_count": 227,
      "outputs": []
    },
    {
      "cell_type": "code",
      "source": [
        "pickle.dump(model,open(filename,'wb'))"
      ],
      "metadata": {
        "colab": {
          "base_uri": "https://localhost:8080/"
        },
        "id": "_DmcEElw0G3M",
        "outputId": "e48228af-7618-4ab6-e92e-5828892c2d43"
      },
      "id": "_DmcEElw0G3M",
      "execution_count": 229,
      "outputs": [
        {
          "output_type": "stream",
          "name": "stdout",
          "text": [
            "Keras weights file (<HDF5 file \"variables.h5\" (mode r+)>) saving:\n",
            "...layers\n",
            "......dense\n",
            ".........vars\n",
            "............0\n",
            "............1\n",
            "......lstm\n",
            ".........cell\n",
            "............vars\n",
            "...............0\n",
            "...............1\n",
            "...............2\n",
            ".........vars\n",
            "......lstm_1\n",
            ".........cell\n",
            "............vars\n",
            "...............0\n",
            "...............1\n",
            "...............2\n",
            ".........vars\n",
            "......lstm_2\n",
            ".........cell\n",
            "............vars\n",
            "...............0\n",
            "...............1\n",
            "...............2\n",
            ".........vars\n",
            "...metrics\n",
            "......mean\n",
            ".........vars\n",
            "............0\n",
            "............1\n",
            "...optimizer\n",
            "......vars\n",
            ".........0\n",
            ".........1\n",
            ".........10\n",
            ".........11\n",
            ".........12\n",
            ".........13\n",
            ".........14\n",
            ".........15\n",
            ".........16\n",
            ".........17\n",
            ".........18\n",
            ".........19\n",
            ".........2\n",
            ".........20\n",
            ".........21\n",
            ".........22\n",
            ".........3\n",
            ".........4\n",
            ".........5\n",
            ".........6\n",
            ".........7\n",
            ".........8\n",
            ".........9\n",
            "...vars\n",
            "Keras model archive saving:\n",
            "File Name                                             Modified             Size\n",
            "variables.h5                                   2023-03-19 07:45:01      1594112\n",
            "config.json                                    2023-03-19 07:45:01         3461\n",
            "metadata.json                                  2023-03-19 07:45:01           64\n"
          ]
        }
      ]
    },
    {
      "cell_type": "code",
      "source": [],
      "metadata": {
        "id": "kG92mkxV0jCF"
      },
      "id": "kG92mkxV0jCF",
      "execution_count": null,
      "outputs": []
    }
  ],
  "metadata": {
    "accelerator": "TPU",
    "colab": {
      "toc_visible": true,
      "provenance": []
    },
    "gpuClass": "standard",
    "kernelspec": {
      "display_name": "Python 3 (ipykernel)",
      "language": "python",
      "name": "python3"
    },
    "language_info": {
      "codemirror_mode": {
        "name": "ipython",
        "version": 3
      },
      "file_extension": ".py",
      "mimetype": "text/x-python",
      "name": "python",
      "nbconvert_exporter": "python",
      "pygments_lexer": "ipython3",
      "version": "3.9.12"
    },
    "widgets": {
      "application/vnd.jupyter.widget-state+json": {
        "7c82f7fdbf734fb2bb7d3c4d650f3176": {
          "model_module": "@jupyter-widgets/controls",
          "model_name": "HBoxModel",
          "model_module_version": "1.5.0",
          "state": {
            "_dom_classes": [],
            "_model_module": "@jupyter-widgets/controls",
            "_model_module_version": "1.5.0",
            "_model_name": "HBoxModel",
            "_view_count": null,
            "_view_module": "@jupyter-widgets/controls",
            "_view_module_version": "1.5.0",
            "_view_name": "HBoxView",
            "box_style": "",
            "children": [
              "IPY_MODEL_9617c583a15240f08c3fc1e3c290a130",
              "IPY_MODEL_065e529a7b444dc9a6166c0daf203b35",
              "IPY_MODEL_fd50645b45e64e999973bd5aa082322b"
            ],
            "layout": "IPY_MODEL_26e5a8bcba194b1aa95dce8ec0a711cf"
          }
        },
        "9617c583a15240f08c3fc1e3c290a130": {
          "model_module": "@jupyter-widgets/controls",
          "model_name": "HTMLModel",
          "model_module_version": "1.5.0",
          "state": {
            "_dom_classes": [],
            "_model_module": "@jupyter-widgets/controls",
            "_model_module_version": "1.5.0",
            "_model_name": "HTMLModel",
            "_view_count": null,
            "_view_module": "@jupyter-widgets/controls",
            "_view_module_version": "1.5.0",
            "_view_name": "HTMLView",
            "description": "",
            "description_tooltip": null,
            "layout": "IPY_MODEL_5cbb25d32bcb40cd9b8ab63a72e10a1f",
            "placeholder": "​",
            "style": "IPY_MODEL_051b415eed4c41868102b778fe98cf1e",
            "value": "Downloading (…)lve/main/config.json: 100%"
          }
        },
        "065e529a7b444dc9a6166c0daf203b35": {
          "model_module": "@jupyter-widgets/controls",
          "model_name": "FloatProgressModel",
          "model_module_version": "1.5.0",
          "state": {
            "_dom_classes": [],
            "_model_module": "@jupyter-widgets/controls",
            "_model_module_version": "1.5.0",
            "_model_name": "FloatProgressModel",
            "_view_count": null,
            "_view_module": "@jupyter-widgets/controls",
            "_view_module_version": "1.5.0",
            "_view_name": "ProgressView",
            "bar_style": "success",
            "description": "",
            "description_tooltip": null,
            "layout": "IPY_MODEL_261417eb431f4349b4328aa324dd858d",
            "max": 629,
            "min": 0,
            "orientation": "horizontal",
            "style": "IPY_MODEL_23b31480c9104fd9b7d176c258d7e631",
            "value": 629
          }
        },
        "fd50645b45e64e999973bd5aa082322b": {
          "model_module": "@jupyter-widgets/controls",
          "model_name": "HTMLModel",
          "model_module_version": "1.5.0",
          "state": {
            "_dom_classes": [],
            "_model_module": "@jupyter-widgets/controls",
            "_model_module_version": "1.5.0",
            "_model_name": "HTMLModel",
            "_view_count": null,
            "_view_module": "@jupyter-widgets/controls",
            "_view_module_version": "1.5.0",
            "_view_name": "HTMLView",
            "description": "",
            "description_tooltip": null,
            "layout": "IPY_MODEL_23095576d7ff46b587d983f7932944bb",
            "placeholder": "​",
            "style": "IPY_MODEL_5ef4a7ded4c64f70b255e6ebd2ec8f81",
            "value": " 629/629 [00:00&lt;00:00, 7.15kB/s]"
          }
        },
        "26e5a8bcba194b1aa95dce8ec0a711cf": {
          "model_module": "@jupyter-widgets/base",
          "model_name": "LayoutModel",
          "model_module_version": "1.2.0",
          "state": {
            "_model_module": "@jupyter-widgets/base",
            "_model_module_version": "1.2.0",
            "_model_name": "LayoutModel",
            "_view_count": null,
            "_view_module": "@jupyter-widgets/base",
            "_view_module_version": "1.2.0",
            "_view_name": "LayoutView",
            "align_content": null,
            "align_items": null,
            "align_self": null,
            "border": null,
            "bottom": null,
            "display": null,
            "flex": null,
            "flex_flow": null,
            "grid_area": null,
            "grid_auto_columns": null,
            "grid_auto_flow": null,
            "grid_auto_rows": null,
            "grid_column": null,
            "grid_gap": null,
            "grid_row": null,
            "grid_template_areas": null,
            "grid_template_columns": null,
            "grid_template_rows": null,
            "height": null,
            "justify_content": null,
            "justify_items": null,
            "left": null,
            "margin": null,
            "max_height": null,
            "max_width": null,
            "min_height": null,
            "min_width": null,
            "object_fit": null,
            "object_position": null,
            "order": null,
            "overflow": null,
            "overflow_x": null,
            "overflow_y": null,
            "padding": null,
            "right": null,
            "top": null,
            "visibility": null,
            "width": null
          }
        },
        "5cbb25d32bcb40cd9b8ab63a72e10a1f": {
          "model_module": "@jupyter-widgets/base",
          "model_name": "LayoutModel",
          "model_module_version": "1.2.0",
          "state": {
            "_model_module": "@jupyter-widgets/base",
            "_model_module_version": "1.2.0",
            "_model_name": "LayoutModel",
            "_view_count": null,
            "_view_module": "@jupyter-widgets/base",
            "_view_module_version": "1.2.0",
            "_view_name": "LayoutView",
            "align_content": null,
            "align_items": null,
            "align_self": null,
            "border": null,
            "bottom": null,
            "display": null,
            "flex": null,
            "flex_flow": null,
            "grid_area": null,
            "grid_auto_columns": null,
            "grid_auto_flow": null,
            "grid_auto_rows": null,
            "grid_column": null,
            "grid_gap": null,
            "grid_row": null,
            "grid_template_areas": null,
            "grid_template_columns": null,
            "grid_template_rows": null,
            "height": null,
            "justify_content": null,
            "justify_items": null,
            "left": null,
            "margin": null,
            "max_height": null,
            "max_width": null,
            "min_height": null,
            "min_width": null,
            "object_fit": null,
            "object_position": null,
            "order": null,
            "overflow": null,
            "overflow_x": null,
            "overflow_y": null,
            "padding": null,
            "right": null,
            "top": null,
            "visibility": null,
            "width": null
          }
        },
        "051b415eed4c41868102b778fe98cf1e": {
          "model_module": "@jupyter-widgets/controls",
          "model_name": "DescriptionStyleModel",
          "model_module_version": "1.5.0",
          "state": {
            "_model_module": "@jupyter-widgets/controls",
            "_model_module_version": "1.5.0",
            "_model_name": "DescriptionStyleModel",
            "_view_count": null,
            "_view_module": "@jupyter-widgets/base",
            "_view_module_version": "1.2.0",
            "_view_name": "StyleView",
            "description_width": ""
          }
        },
        "261417eb431f4349b4328aa324dd858d": {
          "model_module": "@jupyter-widgets/base",
          "model_name": "LayoutModel",
          "model_module_version": "1.2.0",
          "state": {
            "_model_module": "@jupyter-widgets/base",
            "_model_module_version": "1.2.0",
            "_model_name": "LayoutModel",
            "_view_count": null,
            "_view_module": "@jupyter-widgets/base",
            "_view_module_version": "1.2.0",
            "_view_name": "LayoutView",
            "align_content": null,
            "align_items": null,
            "align_self": null,
            "border": null,
            "bottom": null,
            "display": null,
            "flex": null,
            "flex_flow": null,
            "grid_area": null,
            "grid_auto_columns": null,
            "grid_auto_flow": null,
            "grid_auto_rows": null,
            "grid_column": null,
            "grid_gap": null,
            "grid_row": null,
            "grid_template_areas": null,
            "grid_template_columns": null,
            "grid_template_rows": null,
            "height": null,
            "justify_content": null,
            "justify_items": null,
            "left": null,
            "margin": null,
            "max_height": null,
            "max_width": null,
            "min_height": null,
            "min_width": null,
            "object_fit": null,
            "object_position": null,
            "order": null,
            "overflow": null,
            "overflow_x": null,
            "overflow_y": null,
            "padding": null,
            "right": null,
            "top": null,
            "visibility": null,
            "width": null
          }
        },
        "23b31480c9104fd9b7d176c258d7e631": {
          "model_module": "@jupyter-widgets/controls",
          "model_name": "ProgressStyleModel",
          "model_module_version": "1.5.0",
          "state": {
            "_model_module": "@jupyter-widgets/controls",
            "_model_module_version": "1.5.0",
            "_model_name": "ProgressStyleModel",
            "_view_count": null,
            "_view_module": "@jupyter-widgets/base",
            "_view_module_version": "1.2.0",
            "_view_name": "StyleView",
            "bar_color": null,
            "description_width": ""
          }
        },
        "23095576d7ff46b587d983f7932944bb": {
          "model_module": "@jupyter-widgets/base",
          "model_name": "LayoutModel",
          "model_module_version": "1.2.0",
          "state": {
            "_model_module": "@jupyter-widgets/base",
            "_model_module_version": "1.2.0",
            "_model_name": "LayoutModel",
            "_view_count": null,
            "_view_module": "@jupyter-widgets/base",
            "_view_module_version": "1.2.0",
            "_view_name": "LayoutView",
            "align_content": null,
            "align_items": null,
            "align_self": null,
            "border": null,
            "bottom": null,
            "display": null,
            "flex": null,
            "flex_flow": null,
            "grid_area": null,
            "grid_auto_columns": null,
            "grid_auto_flow": null,
            "grid_auto_rows": null,
            "grid_column": null,
            "grid_gap": null,
            "grid_row": null,
            "grid_template_areas": null,
            "grid_template_columns": null,
            "grid_template_rows": null,
            "height": null,
            "justify_content": null,
            "justify_items": null,
            "left": null,
            "margin": null,
            "max_height": null,
            "max_width": null,
            "min_height": null,
            "min_width": null,
            "object_fit": null,
            "object_position": null,
            "order": null,
            "overflow": null,
            "overflow_x": null,
            "overflow_y": null,
            "padding": null,
            "right": null,
            "top": null,
            "visibility": null,
            "width": null
          }
        },
        "5ef4a7ded4c64f70b255e6ebd2ec8f81": {
          "model_module": "@jupyter-widgets/controls",
          "model_name": "DescriptionStyleModel",
          "model_module_version": "1.5.0",
          "state": {
            "_model_module": "@jupyter-widgets/controls",
            "_model_module_version": "1.5.0",
            "_model_name": "DescriptionStyleModel",
            "_view_count": null,
            "_view_module": "@jupyter-widgets/base",
            "_view_module_version": "1.2.0",
            "_view_name": "StyleView",
            "description_width": ""
          }
        },
        "a1cebb915edc4ea3b885258e87a04373": {
          "model_module": "@jupyter-widgets/controls",
          "model_name": "HBoxModel",
          "model_module_version": "1.5.0",
          "state": {
            "_dom_classes": [],
            "_model_module": "@jupyter-widgets/controls",
            "_model_module_version": "1.5.0",
            "_model_name": "HBoxModel",
            "_view_count": null,
            "_view_module": "@jupyter-widgets/controls",
            "_view_module_version": "1.5.0",
            "_view_name": "HBoxView",
            "box_style": "",
            "children": [
              "IPY_MODEL_a73f3c18f7a0464e95d9b901e10d6f95",
              "IPY_MODEL_2423fb90fa954e08afaafbd2ec9c8812",
              "IPY_MODEL_97c287387ffc40ccb27aaf88fda8e453"
            ],
            "layout": "IPY_MODEL_a68ddcb1f647476c93ac99ce5da6b999"
          }
        },
        "a73f3c18f7a0464e95d9b901e10d6f95": {
          "model_module": "@jupyter-widgets/controls",
          "model_name": "HTMLModel",
          "model_module_version": "1.5.0",
          "state": {
            "_dom_classes": [],
            "_model_module": "@jupyter-widgets/controls",
            "_model_module_version": "1.5.0",
            "_model_name": "HTMLModel",
            "_view_count": null,
            "_view_module": "@jupyter-widgets/controls",
            "_view_module_version": "1.5.0",
            "_view_name": "HTMLView",
            "description": "",
            "description_tooltip": null,
            "layout": "IPY_MODEL_5a3aab10ad474cf8a63af3d66cdc9a4c",
            "placeholder": "​",
            "style": "IPY_MODEL_1c7f3c81d5424090962df8117dfb8a72",
            "value": "Downloading pytorch_model.bin: 100%"
          }
        },
        "2423fb90fa954e08afaafbd2ec9c8812": {
          "model_module": "@jupyter-widgets/controls",
          "model_name": "FloatProgressModel",
          "model_module_version": "1.5.0",
          "state": {
            "_dom_classes": [],
            "_model_module": "@jupyter-widgets/controls",
            "_model_module_version": "1.5.0",
            "_model_name": "FloatProgressModel",
            "_view_count": null,
            "_view_module": "@jupyter-widgets/controls",
            "_view_module_version": "1.5.0",
            "_view_name": "ProgressView",
            "bar_style": "success",
            "description": "",
            "description_tooltip": null,
            "layout": "IPY_MODEL_29c647f5d9dc4142b4af5a4324f26300",
            "max": 267844284,
            "min": 0,
            "orientation": "horizontal",
            "style": "IPY_MODEL_f0c38baa55044c8cb10d99f3a4b7e04d",
            "value": 267844284
          }
        },
        "97c287387ffc40ccb27aaf88fda8e453": {
          "model_module": "@jupyter-widgets/controls",
          "model_name": "HTMLModel",
          "model_module_version": "1.5.0",
          "state": {
            "_dom_classes": [],
            "_model_module": "@jupyter-widgets/controls",
            "_model_module_version": "1.5.0",
            "_model_name": "HTMLModel",
            "_view_count": null,
            "_view_module": "@jupyter-widgets/controls",
            "_view_module_version": "1.5.0",
            "_view_name": "HTMLView",
            "description": "",
            "description_tooltip": null,
            "layout": "IPY_MODEL_3b31fdac86d1466ba0b4ed2a160595e0",
            "placeholder": "​",
            "style": "IPY_MODEL_b2584d17a6cc4b6ca5ad1c6b8ca40aeb",
            "value": " 268M/268M [00:04&lt;00:00, 65.1MB/s]"
          }
        },
        "a68ddcb1f647476c93ac99ce5da6b999": {
          "model_module": "@jupyter-widgets/base",
          "model_name": "LayoutModel",
          "model_module_version": "1.2.0",
          "state": {
            "_model_module": "@jupyter-widgets/base",
            "_model_module_version": "1.2.0",
            "_model_name": "LayoutModel",
            "_view_count": null,
            "_view_module": "@jupyter-widgets/base",
            "_view_module_version": "1.2.0",
            "_view_name": "LayoutView",
            "align_content": null,
            "align_items": null,
            "align_self": null,
            "border": null,
            "bottom": null,
            "display": null,
            "flex": null,
            "flex_flow": null,
            "grid_area": null,
            "grid_auto_columns": null,
            "grid_auto_flow": null,
            "grid_auto_rows": null,
            "grid_column": null,
            "grid_gap": null,
            "grid_row": null,
            "grid_template_areas": null,
            "grid_template_columns": null,
            "grid_template_rows": null,
            "height": null,
            "justify_content": null,
            "justify_items": null,
            "left": null,
            "margin": null,
            "max_height": null,
            "max_width": null,
            "min_height": null,
            "min_width": null,
            "object_fit": null,
            "object_position": null,
            "order": null,
            "overflow": null,
            "overflow_x": null,
            "overflow_y": null,
            "padding": null,
            "right": null,
            "top": null,
            "visibility": null,
            "width": null
          }
        },
        "5a3aab10ad474cf8a63af3d66cdc9a4c": {
          "model_module": "@jupyter-widgets/base",
          "model_name": "LayoutModel",
          "model_module_version": "1.2.0",
          "state": {
            "_model_module": "@jupyter-widgets/base",
            "_model_module_version": "1.2.0",
            "_model_name": "LayoutModel",
            "_view_count": null,
            "_view_module": "@jupyter-widgets/base",
            "_view_module_version": "1.2.0",
            "_view_name": "LayoutView",
            "align_content": null,
            "align_items": null,
            "align_self": null,
            "border": null,
            "bottom": null,
            "display": null,
            "flex": null,
            "flex_flow": null,
            "grid_area": null,
            "grid_auto_columns": null,
            "grid_auto_flow": null,
            "grid_auto_rows": null,
            "grid_column": null,
            "grid_gap": null,
            "grid_row": null,
            "grid_template_areas": null,
            "grid_template_columns": null,
            "grid_template_rows": null,
            "height": null,
            "justify_content": null,
            "justify_items": null,
            "left": null,
            "margin": null,
            "max_height": null,
            "max_width": null,
            "min_height": null,
            "min_width": null,
            "object_fit": null,
            "object_position": null,
            "order": null,
            "overflow": null,
            "overflow_x": null,
            "overflow_y": null,
            "padding": null,
            "right": null,
            "top": null,
            "visibility": null,
            "width": null
          }
        },
        "1c7f3c81d5424090962df8117dfb8a72": {
          "model_module": "@jupyter-widgets/controls",
          "model_name": "DescriptionStyleModel",
          "model_module_version": "1.5.0",
          "state": {
            "_model_module": "@jupyter-widgets/controls",
            "_model_module_version": "1.5.0",
            "_model_name": "DescriptionStyleModel",
            "_view_count": null,
            "_view_module": "@jupyter-widgets/base",
            "_view_module_version": "1.2.0",
            "_view_name": "StyleView",
            "description_width": ""
          }
        },
        "29c647f5d9dc4142b4af5a4324f26300": {
          "model_module": "@jupyter-widgets/base",
          "model_name": "LayoutModel",
          "model_module_version": "1.2.0",
          "state": {
            "_model_module": "@jupyter-widgets/base",
            "_model_module_version": "1.2.0",
            "_model_name": "LayoutModel",
            "_view_count": null,
            "_view_module": "@jupyter-widgets/base",
            "_view_module_version": "1.2.0",
            "_view_name": "LayoutView",
            "align_content": null,
            "align_items": null,
            "align_self": null,
            "border": null,
            "bottom": null,
            "display": null,
            "flex": null,
            "flex_flow": null,
            "grid_area": null,
            "grid_auto_columns": null,
            "grid_auto_flow": null,
            "grid_auto_rows": null,
            "grid_column": null,
            "grid_gap": null,
            "grid_row": null,
            "grid_template_areas": null,
            "grid_template_columns": null,
            "grid_template_rows": null,
            "height": null,
            "justify_content": null,
            "justify_items": null,
            "left": null,
            "margin": null,
            "max_height": null,
            "max_width": null,
            "min_height": null,
            "min_width": null,
            "object_fit": null,
            "object_position": null,
            "order": null,
            "overflow": null,
            "overflow_x": null,
            "overflow_y": null,
            "padding": null,
            "right": null,
            "top": null,
            "visibility": null,
            "width": null
          }
        },
        "f0c38baa55044c8cb10d99f3a4b7e04d": {
          "model_module": "@jupyter-widgets/controls",
          "model_name": "ProgressStyleModel",
          "model_module_version": "1.5.0",
          "state": {
            "_model_module": "@jupyter-widgets/controls",
            "_model_module_version": "1.5.0",
            "_model_name": "ProgressStyleModel",
            "_view_count": null,
            "_view_module": "@jupyter-widgets/base",
            "_view_module_version": "1.2.0",
            "_view_name": "StyleView",
            "bar_color": null,
            "description_width": ""
          }
        },
        "3b31fdac86d1466ba0b4ed2a160595e0": {
          "model_module": "@jupyter-widgets/base",
          "model_name": "LayoutModel",
          "model_module_version": "1.2.0",
          "state": {
            "_model_module": "@jupyter-widgets/base",
            "_model_module_version": "1.2.0",
            "_model_name": "LayoutModel",
            "_view_count": null,
            "_view_module": "@jupyter-widgets/base",
            "_view_module_version": "1.2.0",
            "_view_name": "LayoutView",
            "align_content": null,
            "align_items": null,
            "align_self": null,
            "border": null,
            "bottom": null,
            "display": null,
            "flex": null,
            "flex_flow": null,
            "grid_area": null,
            "grid_auto_columns": null,
            "grid_auto_flow": null,
            "grid_auto_rows": null,
            "grid_column": null,
            "grid_gap": null,
            "grid_row": null,
            "grid_template_areas": null,
            "grid_template_columns": null,
            "grid_template_rows": null,
            "height": null,
            "justify_content": null,
            "justify_items": null,
            "left": null,
            "margin": null,
            "max_height": null,
            "max_width": null,
            "min_height": null,
            "min_width": null,
            "object_fit": null,
            "object_position": null,
            "order": null,
            "overflow": null,
            "overflow_x": null,
            "overflow_y": null,
            "padding": null,
            "right": null,
            "top": null,
            "visibility": null,
            "width": null
          }
        },
        "b2584d17a6cc4b6ca5ad1c6b8ca40aeb": {
          "model_module": "@jupyter-widgets/controls",
          "model_name": "DescriptionStyleModel",
          "model_module_version": "1.5.0",
          "state": {
            "_model_module": "@jupyter-widgets/controls",
            "_model_module_version": "1.5.0",
            "_model_name": "DescriptionStyleModel",
            "_view_count": null,
            "_view_module": "@jupyter-widgets/base",
            "_view_module_version": "1.2.0",
            "_view_name": "StyleView",
            "description_width": ""
          }
        },
        "9f99f7764d414376ad6b06218c274a27": {
          "model_module": "@jupyter-widgets/controls",
          "model_name": "HBoxModel",
          "model_module_version": "1.5.0",
          "state": {
            "_dom_classes": [],
            "_model_module": "@jupyter-widgets/controls",
            "_model_module_version": "1.5.0",
            "_model_name": "HBoxModel",
            "_view_count": null,
            "_view_module": "@jupyter-widgets/controls",
            "_view_module_version": "1.5.0",
            "_view_name": "HBoxView",
            "box_style": "",
            "children": [
              "IPY_MODEL_d5e16f8154d84694b7f1c40202f68eb9",
              "IPY_MODEL_0f0ecce9392349da85e87296627a12e6",
              "IPY_MODEL_7d420fc42d3944b58f06cf088afa3f3b"
            ],
            "layout": "IPY_MODEL_285d935394994ce8b8e37cf0b708a74d"
          }
        },
        "d5e16f8154d84694b7f1c40202f68eb9": {
          "model_module": "@jupyter-widgets/controls",
          "model_name": "HTMLModel",
          "model_module_version": "1.5.0",
          "state": {
            "_dom_classes": [],
            "_model_module": "@jupyter-widgets/controls",
            "_model_module_version": "1.5.0",
            "_model_name": "HTMLModel",
            "_view_count": null,
            "_view_module": "@jupyter-widgets/controls",
            "_view_module_version": "1.5.0",
            "_view_name": "HTMLView",
            "description": "",
            "description_tooltip": null,
            "layout": "IPY_MODEL_7820863ca46d444599a54a56fc2b431b",
            "placeholder": "​",
            "style": "IPY_MODEL_4ff5505ed27343b28666afd8226e583c",
            "value": "Downloading (…)okenizer_config.json: 100%"
          }
        },
        "0f0ecce9392349da85e87296627a12e6": {
          "model_module": "@jupyter-widgets/controls",
          "model_name": "FloatProgressModel",
          "model_module_version": "1.5.0",
          "state": {
            "_dom_classes": [],
            "_model_module": "@jupyter-widgets/controls",
            "_model_module_version": "1.5.0",
            "_model_name": "FloatProgressModel",
            "_view_count": null,
            "_view_module": "@jupyter-widgets/controls",
            "_view_module_version": "1.5.0",
            "_view_name": "ProgressView",
            "bar_style": "success",
            "description": "",
            "description_tooltip": null,
            "layout": "IPY_MODEL_753ea077b5b7486aaa25a0a6a8174db3",
            "max": 48,
            "min": 0,
            "orientation": "horizontal",
            "style": "IPY_MODEL_e5a4db2e5c0f4ab5890e989e8971e070",
            "value": 48
          }
        },
        "7d420fc42d3944b58f06cf088afa3f3b": {
          "model_module": "@jupyter-widgets/controls",
          "model_name": "HTMLModel",
          "model_module_version": "1.5.0",
          "state": {
            "_dom_classes": [],
            "_model_module": "@jupyter-widgets/controls",
            "_model_module_version": "1.5.0",
            "_model_name": "HTMLModel",
            "_view_count": null,
            "_view_module": "@jupyter-widgets/controls",
            "_view_module_version": "1.5.0",
            "_view_name": "HTMLView",
            "description": "",
            "description_tooltip": null,
            "layout": "IPY_MODEL_83bff1bce1ad4496b8432d9c642dd123",
            "placeholder": "​",
            "style": "IPY_MODEL_3fcd21c97cdd4f3293e1267e6ab9df5c",
            "value": " 48.0/48.0 [00:00&lt;00:00, 631B/s]"
          }
        },
        "285d935394994ce8b8e37cf0b708a74d": {
          "model_module": "@jupyter-widgets/base",
          "model_name": "LayoutModel",
          "model_module_version": "1.2.0",
          "state": {
            "_model_module": "@jupyter-widgets/base",
            "_model_module_version": "1.2.0",
            "_model_name": "LayoutModel",
            "_view_count": null,
            "_view_module": "@jupyter-widgets/base",
            "_view_module_version": "1.2.0",
            "_view_name": "LayoutView",
            "align_content": null,
            "align_items": null,
            "align_self": null,
            "border": null,
            "bottom": null,
            "display": null,
            "flex": null,
            "flex_flow": null,
            "grid_area": null,
            "grid_auto_columns": null,
            "grid_auto_flow": null,
            "grid_auto_rows": null,
            "grid_column": null,
            "grid_gap": null,
            "grid_row": null,
            "grid_template_areas": null,
            "grid_template_columns": null,
            "grid_template_rows": null,
            "height": null,
            "justify_content": null,
            "justify_items": null,
            "left": null,
            "margin": null,
            "max_height": null,
            "max_width": null,
            "min_height": null,
            "min_width": null,
            "object_fit": null,
            "object_position": null,
            "order": null,
            "overflow": null,
            "overflow_x": null,
            "overflow_y": null,
            "padding": null,
            "right": null,
            "top": null,
            "visibility": null,
            "width": null
          }
        },
        "7820863ca46d444599a54a56fc2b431b": {
          "model_module": "@jupyter-widgets/base",
          "model_name": "LayoutModel",
          "model_module_version": "1.2.0",
          "state": {
            "_model_module": "@jupyter-widgets/base",
            "_model_module_version": "1.2.0",
            "_model_name": "LayoutModel",
            "_view_count": null,
            "_view_module": "@jupyter-widgets/base",
            "_view_module_version": "1.2.0",
            "_view_name": "LayoutView",
            "align_content": null,
            "align_items": null,
            "align_self": null,
            "border": null,
            "bottom": null,
            "display": null,
            "flex": null,
            "flex_flow": null,
            "grid_area": null,
            "grid_auto_columns": null,
            "grid_auto_flow": null,
            "grid_auto_rows": null,
            "grid_column": null,
            "grid_gap": null,
            "grid_row": null,
            "grid_template_areas": null,
            "grid_template_columns": null,
            "grid_template_rows": null,
            "height": null,
            "justify_content": null,
            "justify_items": null,
            "left": null,
            "margin": null,
            "max_height": null,
            "max_width": null,
            "min_height": null,
            "min_width": null,
            "object_fit": null,
            "object_position": null,
            "order": null,
            "overflow": null,
            "overflow_x": null,
            "overflow_y": null,
            "padding": null,
            "right": null,
            "top": null,
            "visibility": null,
            "width": null
          }
        },
        "4ff5505ed27343b28666afd8226e583c": {
          "model_module": "@jupyter-widgets/controls",
          "model_name": "DescriptionStyleModel",
          "model_module_version": "1.5.0",
          "state": {
            "_model_module": "@jupyter-widgets/controls",
            "_model_module_version": "1.5.0",
            "_model_name": "DescriptionStyleModel",
            "_view_count": null,
            "_view_module": "@jupyter-widgets/base",
            "_view_module_version": "1.2.0",
            "_view_name": "StyleView",
            "description_width": ""
          }
        },
        "753ea077b5b7486aaa25a0a6a8174db3": {
          "model_module": "@jupyter-widgets/base",
          "model_name": "LayoutModel",
          "model_module_version": "1.2.0",
          "state": {
            "_model_module": "@jupyter-widgets/base",
            "_model_module_version": "1.2.0",
            "_model_name": "LayoutModel",
            "_view_count": null,
            "_view_module": "@jupyter-widgets/base",
            "_view_module_version": "1.2.0",
            "_view_name": "LayoutView",
            "align_content": null,
            "align_items": null,
            "align_self": null,
            "border": null,
            "bottom": null,
            "display": null,
            "flex": null,
            "flex_flow": null,
            "grid_area": null,
            "grid_auto_columns": null,
            "grid_auto_flow": null,
            "grid_auto_rows": null,
            "grid_column": null,
            "grid_gap": null,
            "grid_row": null,
            "grid_template_areas": null,
            "grid_template_columns": null,
            "grid_template_rows": null,
            "height": null,
            "justify_content": null,
            "justify_items": null,
            "left": null,
            "margin": null,
            "max_height": null,
            "max_width": null,
            "min_height": null,
            "min_width": null,
            "object_fit": null,
            "object_position": null,
            "order": null,
            "overflow": null,
            "overflow_x": null,
            "overflow_y": null,
            "padding": null,
            "right": null,
            "top": null,
            "visibility": null,
            "width": null
          }
        },
        "e5a4db2e5c0f4ab5890e989e8971e070": {
          "model_module": "@jupyter-widgets/controls",
          "model_name": "ProgressStyleModel",
          "model_module_version": "1.5.0",
          "state": {
            "_model_module": "@jupyter-widgets/controls",
            "_model_module_version": "1.5.0",
            "_model_name": "ProgressStyleModel",
            "_view_count": null,
            "_view_module": "@jupyter-widgets/base",
            "_view_module_version": "1.2.0",
            "_view_name": "StyleView",
            "bar_color": null,
            "description_width": ""
          }
        },
        "83bff1bce1ad4496b8432d9c642dd123": {
          "model_module": "@jupyter-widgets/base",
          "model_name": "LayoutModel",
          "model_module_version": "1.2.0",
          "state": {
            "_model_module": "@jupyter-widgets/base",
            "_model_module_version": "1.2.0",
            "_model_name": "LayoutModel",
            "_view_count": null,
            "_view_module": "@jupyter-widgets/base",
            "_view_module_version": "1.2.0",
            "_view_name": "LayoutView",
            "align_content": null,
            "align_items": null,
            "align_self": null,
            "border": null,
            "bottom": null,
            "display": null,
            "flex": null,
            "flex_flow": null,
            "grid_area": null,
            "grid_auto_columns": null,
            "grid_auto_flow": null,
            "grid_auto_rows": null,
            "grid_column": null,
            "grid_gap": null,
            "grid_row": null,
            "grid_template_areas": null,
            "grid_template_columns": null,
            "grid_template_rows": null,
            "height": null,
            "justify_content": null,
            "justify_items": null,
            "left": null,
            "margin": null,
            "max_height": null,
            "max_width": null,
            "min_height": null,
            "min_width": null,
            "object_fit": null,
            "object_position": null,
            "order": null,
            "overflow": null,
            "overflow_x": null,
            "overflow_y": null,
            "padding": null,
            "right": null,
            "top": null,
            "visibility": null,
            "width": null
          }
        },
        "3fcd21c97cdd4f3293e1267e6ab9df5c": {
          "model_module": "@jupyter-widgets/controls",
          "model_name": "DescriptionStyleModel",
          "model_module_version": "1.5.0",
          "state": {
            "_model_module": "@jupyter-widgets/controls",
            "_model_module_version": "1.5.0",
            "_model_name": "DescriptionStyleModel",
            "_view_count": null,
            "_view_module": "@jupyter-widgets/base",
            "_view_module_version": "1.2.0",
            "_view_name": "StyleView",
            "description_width": ""
          }
        },
        "f64358d05e8e439b9571d0f34d357db4": {
          "model_module": "@jupyter-widgets/controls",
          "model_name": "HBoxModel",
          "model_module_version": "1.5.0",
          "state": {
            "_dom_classes": [],
            "_model_module": "@jupyter-widgets/controls",
            "_model_module_version": "1.5.0",
            "_model_name": "HBoxModel",
            "_view_count": null,
            "_view_module": "@jupyter-widgets/controls",
            "_view_module_version": "1.5.0",
            "_view_name": "HBoxView",
            "box_style": "",
            "children": [
              "IPY_MODEL_4972b53954d44796afd1616dc969b0f5",
              "IPY_MODEL_0dedb98d971e472ebbac0d625463ca56",
              "IPY_MODEL_6c6b29108e1b4074ba6e4e46b58b464c"
            ],
            "layout": "IPY_MODEL_c81f3b287fc0460f847e3395dbfc207d"
          }
        },
        "4972b53954d44796afd1616dc969b0f5": {
          "model_module": "@jupyter-widgets/controls",
          "model_name": "HTMLModel",
          "model_module_version": "1.5.0",
          "state": {
            "_dom_classes": [],
            "_model_module": "@jupyter-widgets/controls",
            "_model_module_version": "1.5.0",
            "_model_name": "HTMLModel",
            "_view_count": null,
            "_view_module": "@jupyter-widgets/controls",
            "_view_module_version": "1.5.0",
            "_view_name": "HTMLView",
            "description": "",
            "description_tooltip": null,
            "layout": "IPY_MODEL_06b47d45cd354517bdd3f28347d792b3",
            "placeholder": "​",
            "style": "IPY_MODEL_432e6a3ea6d842a79840e3f658e20add",
            "value": "Downloading (…)solve/main/vocab.txt: 100%"
          }
        },
        "0dedb98d971e472ebbac0d625463ca56": {
          "model_module": "@jupyter-widgets/controls",
          "model_name": "FloatProgressModel",
          "model_module_version": "1.5.0",
          "state": {
            "_dom_classes": [],
            "_model_module": "@jupyter-widgets/controls",
            "_model_module_version": "1.5.0",
            "_model_name": "FloatProgressModel",
            "_view_count": null,
            "_view_module": "@jupyter-widgets/controls",
            "_view_module_version": "1.5.0",
            "_view_name": "ProgressView",
            "bar_style": "success",
            "description": "",
            "description_tooltip": null,
            "layout": "IPY_MODEL_77d378d08c1544df886762f68825764b",
            "max": 231508,
            "min": 0,
            "orientation": "horizontal",
            "style": "IPY_MODEL_d1306b13add14b02a760f2c3e7e0c3e0",
            "value": 231508
          }
        },
        "6c6b29108e1b4074ba6e4e46b58b464c": {
          "model_module": "@jupyter-widgets/controls",
          "model_name": "HTMLModel",
          "model_module_version": "1.5.0",
          "state": {
            "_dom_classes": [],
            "_model_module": "@jupyter-widgets/controls",
            "_model_module_version": "1.5.0",
            "_model_name": "HTMLModel",
            "_view_count": null,
            "_view_module": "@jupyter-widgets/controls",
            "_view_module_version": "1.5.0",
            "_view_name": "HTMLView",
            "description": "",
            "description_tooltip": null,
            "layout": "IPY_MODEL_cc1703a6a6c540398da077ff3989fd5b",
            "placeholder": "​",
            "style": "IPY_MODEL_e151a1f81b0b4f47949a3a13635d2f94",
            "value": " 232k/232k [00:00&lt;00:00, 1.26MB/s]"
          }
        },
        "c81f3b287fc0460f847e3395dbfc207d": {
          "model_module": "@jupyter-widgets/base",
          "model_name": "LayoutModel",
          "model_module_version": "1.2.0",
          "state": {
            "_model_module": "@jupyter-widgets/base",
            "_model_module_version": "1.2.0",
            "_model_name": "LayoutModel",
            "_view_count": null,
            "_view_module": "@jupyter-widgets/base",
            "_view_module_version": "1.2.0",
            "_view_name": "LayoutView",
            "align_content": null,
            "align_items": null,
            "align_self": null,
            "border": null,
            "bottom": null,
            "display": null,
            "flex": null,
            "flex_flow": null,
            "grid_area": null,
            "grid_auto_columns": null,
            "grid_auto_flow": null,
            "grid_auto_rows": null,
            "grid_column": null,
            "grid_gap": null,
            "grid_row": null,
            "grid_template_areas": null,
            "grid_template_columns": null,
            "grid_template_rows": null,
            "height": null,
            "justify_content": null,
            "justify_items": null,
            "left": null,
            "margin": null,
            "max_height": null,
            "max_width": null,
            "min_height": null,
            "min_width": null,
            "object_fit": null,
            "object_position": null,
            "order": null,
            "overflow": null,
            "overflow_x": null,
            "overflow_y": null,
            "padding": null,
            "right": null,
            "top": null,
            "visibility": null,
            "width": null
          }
        },
        "06b47d45cd354517bdd3f28347d792b3": {
          "model_module": "@jupyter-widgets/base",
          "model_name": "LayoutModel",
          "model_module_version": "1.2.0",
          "state": {
            "_model_module": "@jupyter-widgets/base",
            "_model_module_version": "1.2.0",
            "_model_name": "LayoutModel",
            "_view_count": null,
            "_view_module": "@jupyter-widgets/base",
            "_view_module_version": "1.2.0",
            "_view_name": "LayoutView",
            "align_content": null,
            "align_items": null,
            "align_self": null,
            "border": null,
            "bottom": null,
            "display": null,
            "flex": null,
            "flex_flow": null,
            "grid_area": null,
            "grid_auto_columns": null,
            "grid_auto_flow": null,
            "grid_auto_rows": null,
            "grid_column": null,
            "grid_gap": null,
            "grid_row": null,
            "grid_template_areas": null,
            "grid_template_columns": null,
            "grid_template_rows": null,
            "height": null,
            "justify_content": null,
            "justify_items": null,
            "left": null,
            "margin": null,
            "max_height": null,
            "max_width": null,
            "min_height": null,
            "min_width": null,
            "object_fit": null,
            "object_position": null,
            "order": null,
            "overflow": null,
            "overflow_x": null,
            "overflow_y": null,
            "padding": null,
            "right": null,
            "top": null,
            "visibility": null,
            "width": null
          }
        },
        "432e6a3ea6d842a79840e3f658e20add": {
          "model_module": "@jupyter-widgets/controls",
          "model_name": "DescriptionStyleModel",
          "model_module_version": "1.5.0",
          "state": {
            "_model_module": "@jupyter-widgets/controls",
            "_model_module_version": "1.5.0",
            "_model_name": "DescriptionStyleModel",
            "_view_count": null,
            "_view_module": "@jupyter-widgets/base",
            "_view_module_version": "1.2.0",
            "_view_name": "StyleView",
            "description_width": ""
          }
        },
        "77d378d08c1544df886762f68825764b": {
          "model_module": "@jupyter-widgets/base",
          "model_name": "LayoutModel",
          "model_module_version": "1.2.0",
          "state": {
            "_model_module": "@jupyter-widgets/base",
            "_model_module_version": "1.2.0",
            "_model_name": "LayoutModel",
            "_view_count": null,
            "_view_module": "@jupyter-widgets/base",
            "_view_module_version": "1.2.0",
            "_view_name": "LayoutView",
            "align_content": null,
            "align_items": null,
            "align_self": null,
            "border": null,
            "bottom": null,
            "display": null,
            "flex": null,
            "flex_flow": null,
            "grid_area": null,
            "grid_auto_columns": null,
            "grid_auto_flow": null,
            "grid_auto_rows": null,
            "grid_column": null,
            "grid_gap": null,
            "grid_row": null,
            "grid_template_areas": null,
            "grid_template_columns": null,
            "grid_template_rows": null,
            "height": null,
            "justify_content": null,
            "justify_items": null,
            "left": null,
            "margin": null,
            "max_height": null,
            "max_width": null,
            "min_height": null,
            "min_width": null,
            "object_fit": null,
            "object_position": null,
            "order": null,
            "overflow": null,
            "overflow_x": null,
            "overflow_y": null,
            "padding": null,
            "right": null,
            "top": null,
            "visibility": null,
            "width": null
          }
        },
        "d1306b13add14b02a760f2c3e7e0c3e0": {
          "model_module": "@jupyter-widgets/controls",
          "model_name": "ProgressStyleModel",
          "model_module_version": "1.5.0",
          "state": {
            "_model_module": "@jupyter-widgets/controls",
            "_model_module_version": "1.5.0",
            "_model_name": "ProgressStyleModel",
            "_view_count": null,
            "_view_module": "@jupyter-widgets/base",
            "_view_module_version": "1.2.0",
            "_view_name": "StyleView",
            "bar_color": null,
            "description_width": ""
          }
        },
        "cc1703a6a6c540398da077ff3989fd5b": {
          "model_module": "@jupyter-widgets/base",
          "model_name": "LayoutModel",
          "model_module_version": "1.2.0",
          "state": {
            "_model_module": "@jupyter-widgets/base",
            "_model_module_version": "1.2.0",
            "_model_name": "LayoutModel",
            "_view_count": null,
            "_view_module": "@jupyter-widgets/base",
            "_view_module_version": "1.2.0",
            "_view_name": "LayoutView",
            "align_content": null,
            "align_items": null,
            "align_self": null,
            "border": null,
            "bottom": null,
            "display": null,
            "flex": null,
            "flex_flow": null,
            "grid_area": null,
            "grid_auto_columns": null,
            "grid_auto_flow": null,
            "grid_auto_rows": null,
            "grid_column": null,
            "grid_gap": null,
            "grid_row": null,
            "grid_template_areas": null,
            "grid_template_columns": null,
            "grid_template_rows": null,
            "height": null,
            "justify_content": null,
            "justify_items": null,
            "left": null,
            "margin": null,
            "max_height": null,
            "max_width": null,
            "min_height": null,
            "min_width": null,
            "object_fit": null,
            "object_position": null,
            "order": null,
            "overflow": null,
            "overflow_x": null,
            "overflow_y": null,
            "padding": null,
            "right": null,
            "top": null,
            "visibility": null,
            "width": null
          }
        },
        "e151a1f81b0b4f47949a3a13635d2f94": {
          "model_module": "@jupyter-widgets/controls",
          "model_name": "DescriptionStyleModel",
          "model_module_version": "1.5.0",
          "state": {
            "_model_module": "@jupyter-widgets/controls",
            "_model_module_version": "1.5.0",
            "_model_name": "DescriptionStyleModel",
            "_view_count": null,
            "_view_module": "@jupyter-widgets/base",
            "_view_module_version": "1.2.0",
            "_view_name": "StyleView",
            "description_width": ""
          }
        }
      }
    }
  },
  "nbformat": 4,
  "nbformat_minor": 5
}